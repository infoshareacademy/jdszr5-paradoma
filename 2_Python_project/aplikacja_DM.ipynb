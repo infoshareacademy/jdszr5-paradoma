{
 "cells": [
  {
   "cell_type": "markdown",
   "id": "bca25d29",
   "metadata": {},
   "source": [
    "## Przygotowanie danych"
   ]
  },
  {
   "cell_type": "code",
   "execution_count": 15,
   "id": "9954ec44",
   "metadata": {},
   "outputs": [],
   "source": [
    "import pandas as pd\n",
    "import numpy as np\n",
    "import matplotlib.pyplot as plt\n",
    "import os\n",
    "import ipywidgets as widgets\n",
    "from IPython.display import display\n",
    "from IPython.display import Image"
   ]
  },
  {
   "cell_type": "code",
   "execution_count": 2,
   "id": "b64c7605",
   "metadata": {},
   "outputs": [],
   "source": [
    "file = \"ks_projects_201801.csv\"\n",
    "filepath = os.path.join(os.path.abspath(\"\"), file)"
   ]
  },
  {
   "cell_type": "code",
   "execution_count": 3,
   "id": "e7060868",
   "metadata": {},
   "outputs": [],
   "source": [
    "df = pd.read_csv(filepath)"
   ]
  },
  {
   "cell_type": "code",
   "execution_count": 4,
   "id": "42bf6ec3",
   "metadata": {
    "scrolled": true
   },
   "outputs": [
    {
     "data": {
      "text/html": [
       "<div>\n",
       "<style scoped>\n",
       "    .dataframe tbody tr th:only-of-type {\n",
       "        vertical-align: middle;\n",
       "    }\n",
       "\n",
       "    .dataframe tbody tr th {\n",
       "        vertical-align: top;\n",
       "    }\n",
       "\n",
       "    .dataframe thead th {\n",
       "        text-align: right;\n",
       "    }\n",
       "</style>\n",
       "<table border=\"1\" class=\"dataframe\">\n",
       "  <thead>\n",
       "    <tr style=\"text-align: right;\">\n",
       "      <th></th>\n",
       "      <th>ID</th>\n",
       "      <th>name</th>\n",
       "      <th>category</th>\n",
       "      <th>main_category</th>\n",
       "      <th>currency</th>\n",
       "      <th>goal</th>\n",
       "      <th>pledged</th>\n",
       "      <th>backers</th>\n",
       "      <th>country</th>\n",
       "      <th>usd_pledged_real</th>\n",
       "      <th>usd_goal_real</th>\n",
       "      <th>deadline_new</th>\n",
       "      <th>launched_new</th>\n",
       "      <th>duration</th>\n",
       "      <th>state_new</th>\n",
       "      <th>year_launched</th>\n",
       "      <th>month_launched</th>\n",
       "    </tr>\n",
       "  </thead>\n",
       "  <tbody>\n",
       "    <tr>\n",
       "      <th>0</th>\n",
       "      <td>1000002330</td>\n",
       "      <td>The Songs of Adelaide &amp; Abullah</td>\n",
       "      <td>Poetry</td>\n",
       "      <td>Publishing</td>\n",
       "      <td>GBP</td>\n",
       "      <td>1000.0</td>\n",
       "      <td>0.0</td>\n",
       "      <td>0</td>\n",
       "      <td>GB</td>\n",
       "      <td>0.0</td>\n",
       "      <td>1533.95</td>\n",
       "      <td>2015-10-09</td>\n",
       "      <td>2015-08-11</td>\n",
       "      <td>59</td>\n",
       "      <td>0</td>\n",
       "      <td>2015</td>\n",
       "      <td>8</td>\n",
       "    </tr>\n",
       "    <tr>\n",
       "      <th>1</th>\n",
       "      <td>1000003930</td>\n",
       "      <td>Greeting From Earth: ZGAC Arts Capsule For ET</td>\n",
       "      <td>Narrative Film</td>\n",
       "      <td>Film &amp; Video</td>\n",
       "      <td>USD</td>\n",
       "      <td>30000.0</td>\n",
       "      <td>2421.0</td>\n",
       "      <td>15</td>\n",
       "      <td>US</td>\n",
       "      <td>2421.0</td>\n",
       "      <td>30000.00</td>\n",
       "      <td>2017-11-01</td>\n",
       "      <td>2017-09-02</td>\n",
       "      <td>60</td>\n",
       "      <td>0</td>\n",
       "      <td>2017</td>\n",
       "      <td>9</td>\n",
       "    </tr>\n",
       "    <tr>\n",
       "      <th>2</th>\n",
       "      <td>1000004038</td>\n",
       "      <td>Where is Hank?</td>\n",
       "      <td>Narrative Film</td>\n",
       "      <td>Film &amp; Video</td>\n",
       "      <td>USD</td>\n",
       "      <td>45000.0</td>\n",
       "      <td>220.0</td>\n",
       "      <td>3</td>\n",
       "      <td>US</td>\n",
       "      <td>220.0</td>\n",
       "      <td>45000.00</td>\n",
       "      <td>2013-02-26</td>\n",
       "      <td>2013-01-12</td>\n",
       "      <td>45</td>\n",
       "      <td>0</td>\n",
       "      <td>2013</td>\n",
       "      <td>1</td>\n",
       "    </tr>\n",
       "    <tr>\n",
       "      <th>3</th>\n",
       "      <td>1000007540</td>\n",
       "      <td>ToshiCapital Rekordz Needs Help to Complete Album</td>\n",
       "      <td>Music</td>\n",
       "      <td>Music</td>\n",
       "      <td>USD</td>\n",
       "      <td>5000.0</td>\n",
       "      <td>1.0</td>\n",
       "      <td>1</td>\n",
       "      <td>US</td>\n",
       "      <td>1.0</td>\n",
       "      <td>5000.00</td>\n",
       "      <td>2012-04-16</td>\n",
       "      <td>2012-03-17</td>\n",
       "      <td>30</td>\n",
       "      <td>0</td>\n",
       "      <td>2012</td>\n",
       "      <td>3</td>\n",
       "    </tr>\n",
       "    <tr>\n",
       "      <th>4</th>\n",
       "      <td>1000011046</td>\n",
       "      <td>Community Film Project: The Art of Neighborhoo...</td>\n",
       "      <td>Film &amp; Video</td>\n",
       "      <td>Film &amp; Video</td>\n",
       "      <td>USD</td>\n",
       "      <td>19500.0</td>\n",
       "      <td>1283.0</td>\n",
       "      <td>14</td>\n",
       "      <td>US</td>\n",
       "      <td>1283.0</td>\n",
       "      <td>19500.00</td>\n",
       "      <td>2015-08-29</td>\n",
       "      <td>2015-07-04</td>\n",
       "      <td>56</td>\n",
       "      <td>0</td>\n",
       "      <td>2015</td>\n",
       "      <td>7</td>\n",
       "    </tr>\n",
       "  </tbody>\n",
       "</table>\n",
       "</div>"
      ],
      "text/plain": [
       "           ID                                               name  \\\n",
       "0  1000002330                    The Songs of Adelaide & Abullah   \n",
       "1  1000003930      Greeting From Earth: ZGAC Arts Capsule For ET   \n",
       "2  1000004038                                     Where is Hank?   \n",
       "3  1000007540  ToshiCapital Rekordz Needs Help to Complete Album   \n",
       "4  1000011046  Community Film Project: The Art of Neighborhoo...   \n",
       "\n",
       "         category main_category currency     goal  pledged  backers country  \\\n",
       "0          Poetry    Publishing      GBP   1000.0      0.0        0      GB   \n",
       "1  Narrative Film  Film & Video      USD  30000.0   2421.0       15      US   \n",
       "2  Narrative Film  Film & Video      USD  45000.0    220.0        3      US   \n",
       "3           Music         Music      USD   5000.0      1.0        1      US   \n",
       "4    Film & Video  Film & Video      USD  19500.0   1283.0       14      US   \n",
       "\n",
       "   usd_pledged_real  usd_goal_real deadline_new launched_new  duration  \\\n",
       "0               0.0        1533.95   2015-10-09   2015-08-11        59   \n",
       "1            2421.0       30000.00   2017-11-01   2017-09-02        60   \n",
       "2             220.0       45000.00   2013-02-26   2013-01-12        45   \n",
       "3               1.0        5000.00   2012-04-16   2012-03-17        30   \n",
       "4            1283.0       19500.00   2015-08-29   2015-07-04        56   \n",
       "\n",
       "   state_new  year_launched  month_launched  \n",
       "0          0           2015               8  \n",
       "1          0           2017               9  \n",
       "2          0           2013               1  \n",
       "3          0           2012               3  \n",
       "4          0           2015               7  "
      ]
     },
     "execution_count": 4,
     "metadata": {},
     "output_type": "execute_result"
    }
   ],
   "source": [
    "# Usunięcie wartości NaN\n",
    "df = df.dropna()\n",
    "\n",
    "# Ujednolicenie kolumn z datami, przekształcenie na format datetime\n",
    "df['deadline_new'] = pd.to_datetime(df['deadline']).dt.date\n",
    "df['launched_new'] = pd.to_datetime(df['launched']).dt.date\n",
    "\n",
    "# Obliczenie czasu trwania projektów, oczyszczenie danych - przekształcenie na typ int\n",
    "df['duration'] = df['deadline_new'] - df['launched_new']\n",
    "df['duration'] = df['duration'].map(lambda x: int(str(x).split(\" \")[0]))\n",
    "\n",
    "# Wyodrębnienie dwóch stanów projektów: successful = 1, pozostałe = 0\n",
    "df[\"state_new\"] = df[\"state\"].map(lambda x: 1 if x == \"successful\" else 0 )\n",
    "\n",
    "# Usunięcie niepotrzebnych kolumn\n",
    "to_drop = [\"deadline\",\n",
    "           \"launched\",\n",
    "           \"state\",\n",
    "           \"usd pledged\"]\n",
    "\n",
    "df.drop(to_drop, inplace=True, axis=1)\n",
    "\n",
    "# Połączenie Luksemburga, Belgii i Holandii w Beneluks\n",
    "\n",
    "df[\"country\"] = df[\"country\"].replace([\"LU\", \"BE\"],\"NL\")\n",
    "\n",
    "# Odrzucenie krajów, w których liczba projektów jest poniżej 1000\n",
    "\n",
    "df = df[(df[\"country\"] != \"SG\") \n",
    "        & (df[\"country\"] != \"JP\") \n",
    "        & (df[\"country\"] != \"AT\") \n",
    "        & (df[\"country\"] != \"HK\")\n",
    "        & (df[\"country\"] != \"NO\")\n",
    "        & (df[\"country\"] != \"CH\")\n",
    "        & (df[\"country\"] != \"IE\")]\n",
    "\n",
    "# Wyodrębnienie roku i miesiąca z danych \n",
    "\n",
    "df['year_launched'] = pd.DatetimeIndex(df['launched_new']).year\n",
    "df['month_launched'] = pd.DatetimeIndex(df['launched_new']).month\n",
    "\n",
    "# Usunięcie rekordów z 1970 roku\n",
    "\n",
    "df = df[df[\"year_launched\"] != 1970]\n",
    "\n",
    "df.head()"
   ]
  },
  {
   "cell_type": "markdown",
   "id": "f336bb18",
   "metadata": {},
   "source": [
    "## Wybór kraju"
   ]
  },
  {
   "cell_type": "code",
   "execution_count": 5,
   "id": "fc3c1640",
   "metadata": {},
   "outputs": [
    {
     "data": {
      "application/vnd.jupyter.widget-view+json": {
       "model_id": "b52f0744bdf4460093620c7e875a73d2",
       "version_major": 2,
       "version_minor": 0
      },
      "text/plain": [
       "Dropdown(description='Select country:', layout=Layout(width='max-content'), options=(('Australia', 'AU'), ('Be…"
      ]
     },
     "metadata": {},
     "output_type": "display_data"
    }
   ],
   "source": [
    "choice_widget = widgets.Dropdown(\n",
    "                    layout={'width': 'max-content'}, \n",
    "                    options=[(\"Australia\",'AU'),(\"Benelux\",'NL'),(\"Canada\",'CA'),(\"Denmark\",'DK'),(\"France\",'FR'),(\"Germany\",'DE'),(\"Great Britain\",'GB'),(\"Itlay\",'IT'),(\"Mexico\",'MX'),(\"New Zealand\",'NZ'),(\"Spain\",'ES'),(\"Sweden\",'SE'),(\"United States\",'US')],\n",
    "                    description='Select country:',\n",
    "                    style={'description_width': 'initial'})\n",
    "\n",
    "choice_widget"
   ]
  },
  {
   "cell_type": "code",
   "execution_count": 6,
   "id": "d60da880",
   "metadata": {
    "scrolled": true
   },
   "outputs": [
    {
     "data": {
      "text/html": [
       "<div>\n",
       "<style scoped>\n",
       "    .dataframe tbody tr th:only-of-type {\n",
       "        vertical-align: middle;\n",
       "    }\n",
       "\n",
       "    .dataframe tbody tr th {\n",
       "        vertical-align: top;\n",
       "    }\n",
       "\n",
       "    .dataframe thead th {\n",
       "        text-align: right;\n",
       "    }\n",
       "</style>\n",
       "<table border=\"1\" class=\"dataframe\">\n",
       "  <thead>\n",
       "    <tr style=\"text-align: right;\">\n",
       "      <th></th>\n",
       "      <th>ID</th>\n",
       "      <th>name</th>\n",
       "      <th>category</th>\n",
       "      <th>main_category</th>\n",
       "      <th>currency</th>\n",
       "      <th>goal</th>\n",
       "      <th>pledged</th>\n",
       "      <th>backers</th>\n",
       "      <th>country</th>\n",
       "      <th>usd_pledged_real</th>\n",
       "      <th>usd_goal_real</th>\n",
       "      <th>deadline_new</th>\n",
       "      <th>launched_new</th>\n",
       "      <th>duration</th>\n",
       "      <th>state_new</th>\n",
       "      <th>year_launched</th>\n",
       "      <th>month_launched</th>\n",
       "    </tr>\n",
       "  </thead>\n",
       "  <tbody>\n",
       "    <tr>\n",
       "      <th>21</th>\n",
       "      <td>1000081649</td>\n",
       "      <td>MikeyJ clothing brand fundraiser</td>\n",
       "      <td>Childrenswear</td>\n",
       "      <td>Fashion</td>\n",
       "      <td>AUD</td>\n",
       "      <td>2500.0</td>\n",
       "      <td>1.0</td>\n",
       "      <td>1</td>\n",
       "      <td>AU</td>\n",
       "      <td>0.81</td>\n",
       "      <td>2026.10</td>\n",
       "      <td>2017-09-07</td>\n",
       "      <td>2017-08-08</td>\n",
       "      <td>30</td>\n",
       "      <td>0</td>\n",
       "      <td>2017</td>\n",
       "      <td>8</td>\n",
       "    </tr>\n",
       "    <tr>\n",
       "      <th>32</th>\n",
       "      <td>1000120151</td>\n",
       "      <td>Feather Cast Furled Fly Fishing Leaders</td>\n",
       "      <td>Product Design</td>\n",
       "      <td>Design</td>\n",
       "      <td>AUD</td>\n",
       "      <td>2000.0</td>\n",
       "      <td>2000.0</td>\n",
       "      <td>18</td>\n",
       "      <td>AU</td>\n",
       "      <td>1427.35</td>\n",
       "      <td>1427.35</td>\n",
       "      <td>2015-08-22</td>\n",
       "      <td>2015-07-23</td>\n",
       "      <td>30</td>\n",
       "      <td>1</td>\n",
       "      <td>2015</td>\n",
       "      <td>7</td>\n",
       "    </tr>\n",
       "    <tr>\n",
       "      <th>164</th>\n",
       "      <td>1000656794</td>\n",
       "      <td>VoxCube - 8x8x8 RGB LED chainable cubes</td>\n",
       "      <td>Makerspaces</td>\n",
       "      <td>Technology</td>\n",
       "      <td>AUD</td>\n",
       "      <td>129000.0</td>\n",
       "      <td>11601.5</td>\n",
       "      <td>32</td>\n",
       "      <td>AU</td>\n",
       "      <td>8910.52</td>\n",
       "      <td>99078.34</td>\n",
       "      <td>2016-04-01</td>\n",
       "      <td>2016-03-02</td>\n",
       "      <td>30</td>\n",
       "      <td>0</td>\n",
       "      <td>2016</td>\n",
       "      <td>3</td>\n",
       "    </tr>\n",
       "    <tr>\n",
       "      <th>241</th>\n",
       "      <td>1001052357</td>\n",
       "      <td>Spilt Milk</td>\n",
       "      <td>Graphic Novels</td>\n",
       "      <td>Comics</td>\n",
       "      <td>AUD</td>\n",
       "      <td>18000.0</td>\n",
       "      <td>832.0</td>\n",
       "      <td>23</td>\n",
       "      <td>AU</td>\n",
       "      <td>623.55</td>\n",
       "      <td>13490.22</td>\n",
       "      <td>2017-01-08</td>\n",
       "      <td>2016-12-09</td>\n",
       "      <td>30</td>\n",
       "      <td>0</td>\n",
       "      <td>2016</td>\n",
       "      <td>12</td>\n",
       "    </tr>\n",
       "    <tr>\n",
       "      <th>295</th>\n",
       "      <td>1001304256</td>\n",
       "      <td>FINAL HOURS!!! Kira Kira Rainbow Unicorn Stick...</td>\n",
       "      <td>Stationery</td>\n",
       "      <td>Crafts</td>\n",
       "      <td>AUD</td>\n",
       "      <td>250.0</td>\n",
       "      <td>1009.0</td>\n",
       "      <td>39</td>\n",
       "      <td>AU</td>\n",
       "      <td>709.07</td>\n",
       "      <td>175.69</td>\n",
       "      <td>2016-01-17</td>\n",
       "      <td>2016-01-02</td>\n",
       "      <td>15</td>\n",
       "      <td>1</td>\n",
       "      <td>2016</td>\n",
       "      <td>1</td>\n",
       "    </tr>\n",
       "    <tr>\n",
       "      <th>...</th>\n",
       "      <td>...</td>\n",
       "      <td>...</td>\n",
       "      <td>...</td>\n",
       "      <td>...</td>\n",
       "      <td>...</td>\n",
       "      <td>...</td>\n",
       "      <td>...</td>\n",
       "      <td>...</td>\n",
       "      <td>...</td>\n",
       "      <td>...</td>\n",
       "      <td>...</td>\n",
       "      <td>...</td>\n",
       "      <td>...</td>\n",
       "      <td>...</td>\n",
       "      <td>...</td>\n",
       "      <td>...</td>\n",
       "      <td>...</td>\n",
       "    </tr>\n",
       "    <tr>\n",
       "      <th>378365</th>\n",
       "      <td>998578221</td>\n",
       "      <td>The Minimalist Wallet</td>\n",
       "      <td>Accessories</td>\n",
       "      <td>Fashion</td>\n",
       "      <td>AUD</td>\n",
       "      <td>1000.0</td>\n",
       "      <td>2380.0</td>\n",
       "      <td>68</td>\n",
       "      <td>AU</td>\n",
       "      <td>1758.40</td>\n",
       "      <td>738.83</td>\n",
       "      <td>2015-08-01</td>\n",
       "      <td>2015-07-02</td>\n",
       "      <td>30</td>\n",
       "      <td>1</td>\n",
       "      <td>2015</td>\n",
       "      <td>7</td>\n",
       "    </tr>\n",
       "    <tr>\n",
       "      <th>378409</th>\n",
       "      <td>998738750</td>\n",
       "      <td>Lachlan Whyte's KickStarter - 1st Album - Musi...</td>\n",
       "      <td>Music</td>\n",
       "      <td>Music</td>\n",
       "      <td>AUD</td>\n",
       "      <td>50000.0</td>\n",
       "      <td>0.0</td>\n",
       "      <td>0</td>\n",
       "      <td>AU</td>\n",
       "      <td>0.00</td>\n",
       "      <td>43948.32</td>\n",
       "      <td>2014-01-17</td>\n",
       "      <td>2013-12-18</td>\n",
       "      <td>30</td>\n",
       "      <td>0</td>\n",
       "      <td>2013</td>\n",
       "      <td>12</td>\n",
       "    </tr>\n",
       "    <tr>\n",
       "      <th>378511</th>\n",
       "      <td>999224020</td>\n",
       "      <td>Tourismo: The Automotive inspired watch</td>\n",
       "      <td>Design</td>\n",
       "      <td>Design</td>\n",
       "      <td>AUD</td>\n",
       "      <td>2700.0</td>\n",
       "      <td>0.0</td>\n",
       "      <td>0</td>\n",
       "      <td>AU</td>\n",
       "      <td>0.00</td>\n",
       "      <td>2098.88</td>\n",
       "      <td>2017-09-30</td>\n",
       "      <td>2017-09-27</td>\n",
       "      <td>3</td>\n",
       "      <td>0</td>\n",
       "      <td>2017</td>\n",
       "      <td>9</td>\n",
       "    </tr>\n",
       "    <tr>\n",
       "      <th>378584</th>\n",
       "      <td>999606507</td>\n",
       "      <td>SubPos Ranger: Indoor Positioning System</td>\n",
       "      <td>DIY Electronics</td>\n",
       "      <td>Technology</td>\n",
       "      <td>AUD</td>\n",
       "      <td>50000.0</td>\n",
       "      <td>10016.0</td>\n",
       "      <td>54</td>\n",
       "      <td>AU</td>\n",
       "      <td>7670.39</td>\n",
       "      <td>38290.70</td>\n",
       "      <td>2016-08-04</td>\n",
       "      <td>2016-07-07</td>\n",
       "      <td>28</td>\n",
       "      <td>0</td>\n",
       "      <td>2016</td>\n",
       "      <td>7</td>\n",
       "    </tr>\n",
       "    <tr>\n",
       "      <th>378587</th>\n",
       "      <td>999618790</td>\n",
       "      <td>Cloud Game Hosting</td>\n",
       "      <td>Video Games</td>\n",
       "      <td>Games</td>\n",
       "      <td>AUD</td>\n",
       "      <td>5000.0</td>\n",
       "      <td>20.0</td>\n",
       "      <td>1</td>\n",
       "      <td>AU</td>\n",
       "      <td>15.19</td>\n",
       "      <td>3797.66</td>\n",
       "      <td>2016-09-03</td>\n",
       "      <td>2016-08-04</td>\n",
       "      <td>30</td>\n",
       "      <td>0</td>\n",
       "      <td>2016</td>\n",
       "      <td>8</td>\n",
       "    </tr>\n",
       "  </tbody>\n",
       "</table>\n",
       "<p>7839 rows × 17 columns</p>\n",
       "</div>"
      ],
      "text/plain": [
       "                ID                                               name  \\\n",
       "21      1000081649                   MikeyJ clothing brand fundraiser   \n",
       "32      1000120151            Feather Cast Furled Fly Fishing Leaders   \n",
       "164     1000656794            VoxCube - 8x8x8 RGB LED chainable cubes   \n",
       "241     1001052357                                         Spilt Milk   \n",
       "295     1001304256  FINAL HOURS!!! Kira Kira Rainbow Unicorn Stick...   \n",
       "...            ...                                                ...   \n",
       "378365   998578221                              The Minimalist Wallet   \n",
       "378409   998738750  Lachlan Whyte's KickStarter - 1st Album - Musi...   \n",
       "378511   999224020            Tourismo: The Automotive inspired watch   \n",
       "378584   999606507           SubPos Ranger: Indoor Positioning System   \n",
       "378587   999618790                                 Cloud Game Hosting   \n",
       "\n",
       "               category main_category currency      goal  pledged  backers  \\\n",
       "21        Childrenswear       Fashion      AUD    2500.0      1.0        1   \n",
       "32       Product Design        Design      AUD    2000.0   2000.0       18   \n",
       "164         Makerspaces    Technology      AUD  129000.0  11601.5       32   \n",
       "241      Graphic Novels        Comics      AUD   18000.0    832.0       23   \n",
       "295          Stationery        Crafts      AUD     250.0   1009.0       39   \n",
       "...                 ...           ...      ...       ...      ...      ...   \n",
       "378365      Accessories       Fashion      AUD    1000.0   2380.0       68   \n",
       "378409            Music         Music      AUD   50000.0      0.0        0   \n",
       "378511           Design        Design      AUD    2700.0      0.0        0   \n",
       "378584  DIY Electronics    Technology      AUD   50000.0  10016.0       54   \n",
       "378587      Video Games         Games      AUD    5000.0     20.0        1   \n",
       "\n",
       "       country  usd_pledged_real  usd_goal_real deadline_new launched_new  \\\n",
       "21          AU              0.81        2026.10   2017-09-07   2017-08-08   \n",
       "32          AU           1427.35        1427.35   2015-08-22   2015-07-23   \n",
       "164         AU           8910.52       99078.34   2016-04-01   2016-03-02   \n",
       "241         AU            623.55       13490.22   2017-01-08   2016-12-09   \n",
       "295         AU            709.07         175.69   2016-01-17   2016-01-02   \n",
       "...        ...               ...            ...          ...          ...   \n",
       "378365      AU           1758.40         738.83   2015-08-01   2015-07-02   \n",
       "378409      AU              0.00       43948.32   2014-01-17   2013-12-18   \n",
       "378511      AU              0.00        2098.88   2017-09-30   2017-09-27   \n",
       "378584      AU           7670.39       38290.70   2016-08-04   2016-07-07   \n",
       "378587      AU             15.19        3797.66   2016-09-03   2016-08-04   \n",
       "\n",
       "        duration  state_new  year_launched  month_launched  \n",
       "21            30          0           2017               8  \n",
       "32            30          1           2015               7  \n",
       "164           30          0           2016               3  \n",
       "241           30          0           2016              12  \n",
       "295           15          1           2016               1  \n",
       "...          ...        ...            ...             ...  \n",
       "378365        30          1           2015               7  \n",
       "378409        30          0           2013              12  \n",
       "378511         3          0           2017               9  \n",
       "378584        28          0           2016               7  \n",
       "378587        30          0           2016               8  \n",
       "\n",
       "[7839 rows x 17 columns]"
      ]
     },
     "execution_count": 6,
     "metadata": {},
     "output_type": "execute_result"
    }
   ],
   "source": [
    "cf = df[df['country']==choice_widget.value]\n",
    "cf"
   ]
  },
  {
   "cell_type": "markdown",
   "id": "d0d4eb32",
   "metadata": {},
   "source": [
    "## Czy użytkownik chce poznać szanse na sfinansowanie swojego projektu?"
   ]
  },
  {
   "cell_type": "code",
   "execution_count": 7,
   "id": "033db1ff",
   "metadata": {},
   "outputs": [
    {
     "data": {
      "application/vnd.jupyter.widget-view+json": {
       "model_id": "a4428e09d85842f491301f8b3933a5a7",
       "version_major": 2,
       "version_minor": 0
      },
      "text/plain": [
       "ToggleButtons(button_style='info', description='Do you want to know what are the chances for your project to s…"
      ]
     },
     "metadata": {},
     "output_type": "display_data"
    }
   ],
   "source": [
    "yes_no_widget = widgets.ToggleButtons(\n",
    "                    options=[\"Yes\", \"No\"],\n",
    "                    description=\"Do you want to know what are the chances for your project to succeed?\",\n",
    "                    disabled=False,\n",
    "                    style={\"description_width\": \"initial\"},\n",
    "                    button_style=\"info\", # 'success', 'info', 'warning', 'danger' or ''\n",
    "                    tooltips=[\"Yes, I do\", \"No, I don't\"],\n",
    "                )\n",
    "yes_no_widget"
   ]
  },
  {
   "cell_type": "markdown",
   "id": "ead32cd3",
   "metadata": {},
   "source": [
    "## Wybór parametrów projektu przez użytkownika"
   ]
  },
  {
   "cell_type": "markdown",
   "id": "c415b7e4",
   "metadata": {},
   "source": [
    "### 1. Kategoria"
   ]
  },
  {
   "cell_type": "code",
   "execution_count": 8,
   "id": "06d3b98e",
   "metadata": {},
   "outputs": [
    {
     "data": {
      "application/vnd.jupyter.widget-view+json": {
       "model_id": "9f4a061022144375bde3147369fd6781",
       "version_major": 2,
       "version_minor": 0
      },
      "text/plain": [
       "Dropdown(description='Main category in AU', options=('Fashion', 'Design', 'Technology', 'Comics', 'Crafts', 'F…"
      ]
     },
     "metadata": {},
     "output_type": "display_data"
    }
   ],
   "source": [
    "main_cat = list(cf[\"main_category\"].unique())\n",
    "main_cat_widget = widgets.Dropdown(\n",
    "                    options=main_cat,\n",
    "                    value=main_cat[0],\n",
    "                    description=\"Main category in {}\".format(choice_widget.value),\n",
    "                    style={\"description_width\": \"initial\"},\n",
    "                    disabled=False,\n",
    "                )\n",
    "main_cat_widget"
   ]
  },
  {
   "cell_type": "markdown",
   "id": "04c0cbc4",
   "metadata": {},
   "source": [
    "### 2. Podkategoria"
   ]
  },
  {
   "cell_type": "code",
   "execution_count": 34,
   "id": "660bb765",
   "metadata": {},
   "outputs": [
    {
     "data": {
      "application/vnd.jupyter.widget-view+json": {
       "model_id": "0f19ef4b123e42f69f18cd6875a8b266",
       "version_major": 2,
       "version_minor": 0
      },
      "text/plain": [
       "Dropdown(description='Category', options=('Makerspaces', 'Apps', 'Technology', 'Web', 'Software', 'Gadgets', '…"
      ]
     },
     "metadata": {},
     "output_type": "display_data"
    }
   ],
   "source": [
    "main_cat_select = cf[cf[\"main_category\"] == main_cat_widget.value]\n",
    "cat = list(main_cat_select[\"category\"].unique())\n",
    "\n",
    "cat_widget = widgets.Dropdown(\n",
    "                options=cat,\n",
    "                value=cat[0],\n",
    "                description=\"Category\",\n",
    "                style={\"description_width\": \"initial\"},\n",
    "                disabled=False,\n",
    "            )\n",
    "cat_widget"
   ]
  },
  {
   "cell_type": "markdown",
   "id": "7755d1e9",
   "metadata": {},
   "source": [
    "### 3. Czas trwania zbiórki"
   ]
  },
  {
   "cell_type": "code",
   "execution_count": 10,
   "id": "239b5225",
   "metadata": {},
   "outputs": [
    {
     "data": {
      "application/vnd.jupyter.widget-view+json": {
       "model_id": "39953234b29b48098a1618e73a73400b",
       "version_major": 2,
       "version_minor": 0
      },
      "text/plain": [
       "IntSlider(value=1, continuous_update=False, description='How many days is the fundraising going to last?', max…"
      ]
     },
     "metadata": {},
     "output_type": "display_data"
    }
   ],
   "source": [
    "duration_widget = widgets.IntSlider(\n",
    "                    value=0,\n",
    "                    min=cf[\"duration\"].min(),\n",
    "                    max=cf[\"duration\"].max(),\n",
    "                    step=1,\n",
    "                    description= \"How many days is the fundraising going to last?\",\n",
    "                    disabled=False,\n",
    "                    continuous_update=False,\n",
    "                    orientation=\"horizontal\",\n",
    "#                     style={\"description_width\": \"initial\"},\n",
    "#                     layout={'width': 'max-content'},\n",
    "#                     readout=True,\n",
    "#                     readout_format=\"d\"\n",
    "                )\n",
    "\n",
    "duration_widget"
   ]
  },
  {
   "cell_type": "markdown",
   "id": "0816996d",
   "metadata": {},
   "source": [
    "### 4. Kwota zbiórki"
   ]
  },
  {
   "cell_type": "code",
   "execution_count": 11,
   "id": "ee9767e0",
   "metadata": {},
   "outputs": [
    {
     "data": {
      "application/vnd.jupyter.widget-view+json": {
       "model_id": "1e5cc8dbb7fa4aeb843e8434ee5cd117",
       "version_major": 2,
       "version_minor": 0
      },
      "text/plain": [
       "FloatText(value=10.0, description='How much money do you want to collect?($)', layout=Layout(width='max-conten…"
      ]
     },
     "metadata": {},
     "output_type": "display_data"
    }
   ],
   "source": [
    "money_widget = widgets.FloatText(\n",
    "                    value=10,\n",
    "                    description=\"How much money do you want to collect?($)\",\n",
    "                    style={\"description_width\": \"initial\"},\n",
    "                    layout={'width': 'max-content'},\n",
    "                    disabled=False\n",
    "                )\n",
    "\n",
    "money_widget"
   ]
  },
  {
   "cell_type": "markdown",
   "id": "7bb1d0aa",
   "metadata": {},
   "source": [
    "## Oszacowanie prawdopodobieństwa, że projekt złożony w wybranej kategorii zostanie sfinansowany"
   ]
  },
  {
   "cell_type": "code",
   "execution_count": 14,
   "id": "4ed0b1ba",
   "metadata": {},
   "outputs": [
    {
     "name": "stdout",
     "output_type": "stream",
     "text": [
      "Probability of funding for main category Games: 23.8 %\n"
     ]
    }
   ],
   "source": [
    "# Projekty, które zostały sfinansowane w wybranej kategorii\n",
    "\n",
    "mcat_s = cf[(cf[\"main_category\"] == main_cat_widget.value) & (cf[\"state_new\"] == 1)]\n",
    "\n",
    "# Projekty, które zostały sfinansowane w pozostałych kategoriach\n",
    "\n",
    "no_mcat_s = cf[(cf[\"main_category\"] != main_cat_widget.value) & (cf[\"state_new\"] == 1)]\n",
    "\n",
    "# Projekty, które NIE zostały sfinansowane w wybranej kategorii\n",
    "\n",
    "mcat_no_s = cf[(cf[\"main_category\"] == main_cat_widget.value) & (cf[\"state_new\"] == 0)]\n",
    "\n",
    "# Projekty, które NIE zostały sfinansowane w pozostałych kategoriach\n",
    "\n",
    "no_mcat_no_s = cf[(cf[\"main_category\"] != main_cat_widget.value) & (cf[\"state_new\"] == 0)]\n",
    "\n",
    "# Prawdopodobieństwo, że projekt uzyska finansowanie pod warunkiem, że został złożony w określonej kategorii\n",
    "\n",
    "prob_main_category = 100 * mcat_s[\"state_new\"].count() / (mcat_s[\"state_new\"].count() + mcat_no_s[\"state_new\"].count())\n",
    "print(f\"Probability of funding for main category {main_cat_widget.value}: {prob_main_category:.1f} %\")"
   ]
  },
  {
   "cell_type": "markdown",
   "id": "47743d04",
   "metadata": {},
   "source": [
    "## Oszacowanie prawdopodobieństwa, że projekt złożony w danej podkategorii zostanie sfinansowany"
   ]
  },
  {
   "cell_type": "code",
   "execution_count": 15,
   "id": "f6aafbff",
   "metadata": {},
   "outputs": [
    {
     "name": "stdout",
     "output_type": "stream",
     "text": [
      "Probability of funding for category Games: 16.7 %\n"
     ]
    }
   ],
   "source": [
    "# Projekty, które zostały sfinansowane w wybranej podkategorii\n",
    "\n",
    "cat_s = cf[(cf[\"category\"] == cat_widget.value) & (cf[\"state_new\"] == 1)]\n",
    "\n",
    "# Projekty, które zostały sfinansowane w pozostałych podkategoriach\n",
    "\n",
    "no_cat_s = cf[(cf[\"category\"] != cat_widget.value) & (cf[\"state_new\"] == 1)]\n",
    "\n",
    "# Projekty, które NIE zostały sfinansowane w wybranej podkategorii\n",
    "\n",
    "cat_no_s = cf[(cf[\"category\"] == cat_widget.value) & (cf[\"state_new\"] == 0)]\n",
    "\n",
    "# Projekty, które NIE zostały sfinansowane w pozostałych podkategoriach\n",
    "\n",
    "no_cat_no_s = cf[(cf[\"category\"] != cat_widget.value) & (cf[\"state_new\"] == 0)]\n",
    "\n",
    "# Prawdopodobieństwo, że projekt uzyska finansowanie pod warunkiem, że został złożony w określonej podkategorii\n",
    "\n",
    "prob_category = 100 * cat_s[\"state_new\"].count() / (cat_s[\"state_new\"].count() + cat_no_s[\"state_new\"].count())\n",
    "print(f\"Probability of funding for category {cat_widget.value}: {prob_category:.1f} %\")"
   ]
  },
  {
   "cell_type": "markdown",
   "id": "f6d101ad",
   "metadata": {},
   "source": [
    "## Oszacowanie prawdopodobieństwa uzyskania finansowania projektu w zależności od długości trwania zbiórki"
   ]
  },
  {
   "cell_type": "code",
   "execution_count": 27,
   "id": "13e0e1fe",
   "metadata": {},
   "outputs": [
    {
     "name": "stdout",
     "output_type": "stream",
     "text": [
      "Probability of funding for project duration 61 days: 0.0 %\n"
     ]
    }
   ],
   "source": [
    "interval_list = [(0, 10), (10, 20), (20, 30), (30, 40), (40, 50), (50, 60), (60, 70), (70, 80), (80, 90), (90, 100)]\n",
    "\n",
    "\n",
    "for start, stop in interval_list:\n",
    "\n",
    "    # Sprawdzenie, w którym przedziale znajduje się wartość podana przez użytkownika\n",
    "    if duration_widget.value > start and duration_widget.value <= stop:\n",
    "\n",
    "        # Projekty, które zostały sfinansowane w wybranym przedziale czasowym\n",
    "        dur_s = cf[ (cf[\"duration\"] > start) & (cf[\"duration\"] <= stop) & (cf[\"state_new\"] == 1) ]\n",
    "\n",
    "        # Projekty, które NIE zostały sfinansowane w wybranym przedziale czasowym\n",
    "        dur_no_s = cf[ (cf[\"duration\"] > start) & (cf[\"duration\"] <= stop) & (cf[\"state_new\"] == 0) ]\n",
    "\n",
    "        # Prawdopodobieństwo, że projekt uzyska finansowanie pod warunkiem, że czas zbiórki jest w określonym przedziale\n",
    "        prob_duration = 100 * dur_s[\"state_new\"].count() / (dur_s[\"state_new\"].count() + dur_no_s[\"state_new\"].count())\n",
    "\n",
    "        print(f\"Probability of funding for project duration {duration_widget.value} days: {prob_duration:.1f} %\")\n",
    "    "
   ]
  },
  {
   "cell_type": "markdown",
   "id": "b4ff60f4",
   "metadata": {},
   "source": [
    "## Oszacowanie prawdopodobieństwa uzyskania finansowania projektu w zależności od deklarowanej kwoty"
   ]
  },
  {
   "cell_type": "code",
   "execution_count": 13,
   "id": "dadd3dd4",
   "metadata": {},
   "outputs": [
    {
     "name": "stdout",
     "output_type": "stream",
     "text": [
      "[1402.718, 3915.73, 8859.948000000004, 23542.040000000005]\n",
      "Probability of funding for declared amount 9.0 $: 39.9 %\n"
     ]
    }
   ],
   "source": [
    "amount_list = list(cf[\"usd_goal_real\"].quantile([0.2, 0.4, 0.6, 0.8]))\n",
    "print(amount_list)\n",
    "\n",
    "    \n",
    "if money_widget.value < amount_list[0]:\n",
    "        \n",
    "    amount_s = cf[ (cf[\"usd_goal_real\"] < amount_list[0]) & (cf[\"state_new\"] == 1) ]\n",
    "    amount_no_s = cf[ (cf[\"usd_goal_real\"] < amount_list[0]) & (cf[\"state_new\"] == 0) ]\n",
    "    prob_amount = 100 * amount_s[\"state_new\"].count() / (amount_s[\"state_new\"].count() + amount_no_s[\"state_new\"].count())\n",
    "        \n",
    "    print(f\"Probability of funding for declared amount {money_widget.value} $: {prob_amount:.1f} %\")\n",
    "        \n",
    "elif money_widget.value >= amount_list[0] and money_widget.value < amount_list[1]:\n",
    "        \n",
    "    amount_s = cf[ (cf[\"usd_goal_real\"] >= amount_list[0]) & (cf[\"usd_goal_real\"] < amount_list[1]) & (cf[\"state_new\"] == 1)]\n",
    "    amount_no_s = cf[ (cf[\"usd_goal_real\"] >= amount_list[0]) & (cf[\"usd_goal_real\"] < amount_list[1]) & (cf[\"state_new\"] == 0) ]\n",
    "    prob_amount = 100 * amount_s[\"state_new\"].count() / (amount_s[\"state_new\"].count() + amount_no_s[\"state_new\"].count())\n",
    "        \n",
    "    print(f\"Probability of funding for declared amount {money_widget.value} $: {prob_amount:.1f} %\")\n",
    "    \n",
    "elif money_widget.value >= amount_list[1] and money_widget.value < amount_list[2]:\n",
    "        \n",
    "    amount_s = cf[ (cf[\"usd_goal_real\"] >= amount_list[1]) & (cf[\"usd_goal_real\"] < amount_list[2]) & (cf[\"state_new\"] == 1)]\n",
    "    amount_no_s = cf[ (cf[\"usd_goal_real\"] >= amount_list[1]) & (cf[\"usd_goal_real\"] < amount_list[2]) & (cf[\"state_new\"] == 0) ]\n",
    "    prob_amount = 100 * amount_s[\"state_new\"].count() / (amount_s[\"state_new\"].count() + amount_no_s[\"state_new\"].count())\n",
    "        \n",
    "    print(f\"Probability of funding for declared amount {money_widget.value} $: {prob_amount:.1f} %\")\n",
    "    \n",
    "elif money_widget.value >= amount_list[2] and money_widget.value < amount_list[3]:\n",
    "        \n",
    "    amount_s = cf[ (cf[\"usd_goal_real\"] >= amount_list[2]) & (cf[\"usd_goal_real\"] < amount_list[3]) & (cf[\"state_new\"] == 1)]\n",
    "    amount_no_s = cf[ (cf[\"usd_goal_real\"] >= amount_list[2]) & (cf[\"usd_goal_real\"] < amount_list[3]) & (cf[\"state_new\"] == 0) ]\n",
    "    prob_amount = 100 * amount_s[\"state_new\"].count() / (amount_s[\"state_new\"].count() + amount_no_s[\"state_new\"].count())\n",
    "        \n",
    "    print(f\"Probability of funding for declared amount {money_widget.value} $: {prob_amount:.1f} %\")\n",
    "        \n",
    "elif money_widget.value >= amount_list[3]:\n",
    "        \n",
    "    amount_s = cf[(cf[\"usd_goal_real\"] >= amount_list[3]) & (cf[\"state_new\"] == 1)]\n",
    "    amount_no_s = cf[(cf[\"usd_goal_real\"] >= amount_list[3]) & (cf[\"state_new\"] == 0) ]\n",
    "    prob_amount = 100 * amount_s[\"state_new\"].count() / (amount_s[\"state_new\"].count() + amount_no_s[\"state_new\"].count())\n",
    "        \n",
    "    print(f\"Probability of funding for declared amount {money_widget.value} $: {prob_amount:.1f} %\")"
   ]
  },
  {
   "cell_type": "markdown",
   "id": "501bebce",
   "metadata": {},
   "source": [
    "## Oszacowanie całkowitego prawdopodobieństwa uzyskania finansowania (reguła łańcuchowa prawdopodobieństwa)"
   ]
  },
  {
   "cell_type": "code",
   "execution_count": 18,
   "id": "a6fe1b12",
   "metadata": {},
   "outputs": [
    {
     "name": "stdout",
     "output_type": "stream",
     "text": [
      "The probability cannot be determined\n"
     ]
    }
   ],
   "source": [
    "interval_list = [(0, 10), (10, 20), (20, 30), (30, 40), (40, 50), (50, 60), (60, 70), (70, 80), (80, 90), (90, 100)]\n",
    "\n",
    "for start, stop in interval_list:\n",
    "    if duration_widget.value > start and duration_widget.value <= stop:\n",
    "        a = start\n",
    "        b = stop\n",
    "        \n",
    "amount_list = list(cf[\"usd_goal_real\"].quantile([0.2, 0.4, 0.6, 0.8]))\n",
    "   \n",
    "if money_widget.value < amount_list[0]:\n",
    "    c = 0\n",
    "    d = amount_list[0]\n",
    "elif money_widget.value >= amount_list[0] and money_widget.value < amount_list[1]:\n",
    "    c = amount_list[0]\n",
    "    d = amount_list[1]\n",
    "elif money_widget.value >= amount_list[1] and money_widget.value < amount_list[2]:\n",
    "    c = amount_list[1]\n",
    "    d = amount_list[2]\n",
    "elif money_widget.value >= amount_list[2] and money_widget.value < amount_list[3]:\n",
    "    c = amount_list[2]\n",
    "    d = amount_list[3]  \n",
    "elif money_widget.value >= amount_list[3]:\n",
    "    c = amount_list[3]\n",
    "    d = 10000000000000000 \n",
    "                   \n",
    "                   \n",
    "p_abcde = np.sum((cf[\"main_category\"] == main_cat_widget.value)\n",
    "                 & (cf[\"category\"] == cat_widget.value) \n",
    "                 & (cf[\"state_new\"] == 1)\n",
    "                 & (cf[\"duration\"] > a) & (cf[\"duration\"] <= b)\n",
    "                 & (cf[\"usd_goal_real\"] > c) & (cf[\"usd_goal_real\"] <= d)) / cf[\"ID\"].count()\n",
    "\n",
    "p_abcd = np.sum((cf[\"main_category\"] == main_cat_widget.value) \n",
    "                 & (cf[\"category\"] == cat_widget.value) \n",
    "                 & (cf[\"duration\"] > a) & (cf[\"duration\"] <= b)\n",
    "                 & (cf[\"usd_goal_real\"] > c) & (cf[\"usd_goal_real\"] <= d)) / cf[\"ID\"].count()\n",
    "\n",
    "if p_abcde == 0 or p_abcd == 0:\n",
    "    print(f\"The probability cannot be determined\")\n",
    "else:\n",
    "    p = (p_abcde / p_abcd) * 100\n",
    "    print(f\"Probability of getting fund is {p:.1f} %\")"
   ]
  },
  {
   "cell_type": "markdown",
   "id": "ede3a9f0",
   "metadata": {},
   "source": [
    "## Odpowiedź dla użytkownika"
   ]
  },
  {
   "cell_type": "code",
   "execution_count": 19,
   "id": "4641a43f",
   "metadata": {},
   "outputs": [
    {
     "name": "stdout",
     "output_type": "stream",
     "text": [
      "Probability of funding for main category Games: 23.8 %\n",
      "\n",
      "Probability of funding for category Games: 16.7 %\n",
      "\n",
      "Probability of funding for project duration 26 days: 31.9 %\n",
      "\n",
      "Probability of funding for declared amount 34.0 $: 43.5 %\n"
     ]
    }
   ],
   "source": [
    "if yes_no_widget.value == \"Yes\":\n",
    "    print(f\"Probability of funding for main category {main_cat_widget.value}: {prob_main_category:.1f} %\")\n",
    "    print()\n",
    "    print(f\"Probability of funding for category {cat_widget.value}: {prob_category:.1f} %\")\n",
    "    print()\n",
    "    print(f\"Probability of funding for project duration {duration_widget.value} days: {prob_duration:.1f} %\")\n",
    "    print()\n",
    "    print(f\"Probability of funding for declared amount {money_widget.value} $: {prob_amount:.1f} %\")"
   ]
  },
  {
   "cell_type": "markdown",
   "id": "83900171",
   "metadata": {},
   "source": [
    "## Want to succeed?"
   ]
  },
  {
   "cell_type": "code",
   "execution_count": 41,
   "id": "6bee2ef5",
   "metadata": {
    "scrolled": false
   },
   "outputs": [
    {
     "data": {
      "application/vnd.jupyter.widget-view+json": {
       "model_id": "60ea754189ec407ea3bd7a5f7e8f4bf2",
       "version_major": 2,
       "version_minor": 0
      },
      "text/plain": [
       "Button(description='Want to succeed?', icon='check', style=ButtonStyle(), tooltip='Click me')"
      ]
     },
     "metadata": {},
     "output_type": "display_data"
    },
    {
     "name": "stdout",
     "output_type": "stream",
     "text": [
      "\u001b[1mCATEGORY\n",
      "\u001b[0m\n",
      "Success rate of your category (Technology) is 13.66%\n",
      "\n",
      "\u001b[1mThink about other categories with higher succeess rate in your country (of course if applicable!):\u001b[0m\n",
      "Fashion - 20.36%\n",
      "Design - 34.02%\n",
      "Comics - 51.6%\n",
      "Crafts - 20.22%\n",
      "Film & Video - 26.38%\n",
      "Games - 28.2%\n",
      "Art - 31.53%\n",
      "Photography - 24.48%\n",
      "Publishing - 30.97%\n",
      "Journalism - 14.68%\n",
      "Music - 32.98%\n",
      "Theater - 33.78%\n",
      "Dance - 46.88%\n"
     ]
    },
    {
     "data": {
      "image/png": "[encoded data removed]",
      "text/plain": [
       "<Figure size 432x288 with 1 Axes>"
      ]
     },
     "metadata": {
      "needs_background": "light"
     },
     "output_type": "display_data"
    },
    {
     "name": "stdout",
     "output_type": "stream",
     "text": [
      "\n",
      "\u001b[1mSUBCATEGORY\n",
      "\u001b[0m\n",
      "Success rate of your subcategory (Space Exploration) is 27.27%\n",
      "\n",
      "\u001b[1mThink about other subcategories with higher succeess rate in your main category (of course if applicable!):\u001b[0m\n",
      "Makerspaces - 37.5%\n",
      "Sound - 33.33%\n",
      "Hardware - 29.41%\n",
      "DIY Electronics - 50.0%\n",
      "3D Printing - 31.58%\n"
     ]
    },
    {
     "data": {
      "image/png": "[encoded data removed]",
      "text/plain": [
       "<Figure size 432x288 with 1 Axes>"
      ]
     },
     "metadata": {
      "needs_background": "light"
     },
     "output_type": "display_data"
    },
    {
     "name": "stdout",
     "output_type": "stream",
     "text": [
      "\n",
      "\u001b[1mTIME\n",
      "\u001b[0m\n",
      "Success rate of your anticipated time range of 20 - 30 days is 13.16%\n",
      "\n",
      "Projects in your category with anticipated time range of 0 - 10 days are characterized by success rate of 28.57%.\n",
      "\u001b[1mReconsider decreassing the anticipated time\u001b[0m\n",
      "This might be helpful:\n",
      "https://www.crowdfundingpr.org/ways-boost-kickstarter-campaign/ \n",
      "https://www.kickstarter.com/blog/shortening-the-maximum-project-length/\n",
      "\n",
      "\n",
      "Projects in your category with anticipated time range of 10 - 20 days are characterized by success rate of 11.29%.\n",
      "\u001b[1mThe result is worse than ours, Let's not go that way \n",
      "\u001b[0m\n",
      "Projects in your category with anticipated time range of 30 - 40 days are characterized by success rate of 13.15%.\n",
      "\u001b[1mThe result is worse than ours, Let's not go that way \n",
      "\u001b[0m\n",
      "Projects in your category with anticipated time range of 40 - 50 days are characterized by success rate of 14.73%.\n",
      "\u001b[1mReconsider increasing the anticipated time \n",
      "\u001b[0m\n",
      "Projects in your category with anticipated time range of 50 - 60 days are characterized by success rate of 9.23%.\n",
      "\u001b[1mThe result is worse than ours, Let's not go that way \n",
      "\u001b[0m\n",
      "Projects in your category with anticipated time range of 60 - 70 days are characterized by success rate of 7.88%.\n",
      "\u001b[1mThe result is worse than ours, Let's not go that way \n",
      "\u001b[0m\n"
     ]
    },
    {
     "data": {
      "image/png": "[encoded data removed]",
      "text/plain": [
       "<Figure size 432x288 with 1 Axes>"
      ]
     },
     "metadata": {
      "needs_background": "light"
     },
     "output_type": "display_data"
    },
    {
     "name": "stdout",
     "output_type": "stream",
     "text": [
      "\n",
      "\u001b[1mMONEY\n",
      "\u001b[0m\n",
      "Success rate of your anticipated money range of 0 - 1403.0 $ is 27.27%\n",
      "\n",
      "Projects in your category with anticipated money range of 1403.0 - 3916.0 $ are characterized by success rate of:\n",
      " 26.24%.\n",
      "\u001b[1mThe result is worse than ours, Let's not go that way \n",
      "\u001b[0m\n",
      "Projects in your category with anticipated money range of 3916.0 - 8860.0 $ are characterized by success rate of:\n",
      " 14.93%.\n",
      "\u001b[1mThe result is worse than ours, Let's not go that way \n",
      "\u001b[0m\n",
      "Projects in your category with anticipated money range of 8860.0 - 23542.0 $ are characterized by success rate of:\n",
      " 12.73%.\n",
      "\u001b[1mThe result is worse than ours, Let's not go that way \n",
      "\u001b[0m\n",
      "Projects in your category with anticipated money range of 23542.0 - 25000000 $ are characterized by success rate of:\n",
      " 7.2%.\n",
      "\u001b[1mThe result is worse than ours, Let's not go that way \n",
      "\u001b[0m\n",
      "\u001b[1mSEEMS THAT YOU SELECTED THE RIGHT RANGE\u001b[0m\n"
     ]
    },
    {
     "data": {
      "image/png": "[encoded data removed]",
      "text/plain": [
       "<Figure size 432x288 with 1 Axes>"
      ]
     },
     "metadata": {
      "needs_background": "light"
     },
     "output_type": "display_data"
    }
   ],
   "source": [
    "run_button = widgets.Button(\n",
    "    description='Want to succeed?',\n",
    "    disabled=False,\n",
    "    button_style='',\n",
    "    tooltip='Click me',\n",
    "    icon='check' \n",
    ")\n",
    "\n",
    "def button_callback(button):\n",
    "    country_filter = df[df['country']==choice_widget.value]\n",
    "    #category\n",
    "    category_filter = country_filter[country_filter['main_category']==main_cat_widget.value]\n",
    "    success_filter = category_filter[category_filter['state_new']==1]\n",
    "    a = round(len(success_filter)/len(category_filter)*100,2)\n",
    "    print('\\033[1m'+\"CATEGORY\\n\"+'\\033[0m')\n",
    "    print(\"Success rate of your category ({}) is {}%\\n\".format(main_cat_widget.value, a))\n",
    "    print('\\033[1m'+\"Think about other categories with higher succeess rate in your country (of course if applicable!):\"+'\\033[0m')\n",
    "    list_category= country_filter['main_category'].unique().tolist()\n",
    "    list_category_graph_x = [main_cat_widget.value]\n",
    "    list_category_graph_y = [a]\n",
    "    graph= 0\n",
    "    for i in list_category:\n",
    "        category_filter_a = country_filter[country_filter['main_category']==i]\n",
    "        success_filter_a = category_filter_a[category_filter_a['state_new']==1]\n",
    "        b = round(len(success_filter_a)/len(category_filter_a)*100,2)\n",
    "        if b > a:\n",
    "            graph +=1\n",
    "            print(\"{} - {}%\".format(i,b))\n",
    "            list_category_graph_x.append(i)\n",
    "            list_category_graph_y.append(b)\n",
    "    if graph > 0:\n",
    "        x_pos = np.arange(len(list_category_graph_x))   \n",
    "        plt.bar(list_category_graph_x, list_category_graph_y,align='center')\n",
    "        plt.xticks(x_pos, list_category_graph_x, rotation=90) \n",
    "        plt.ylabel('Success Rate')\n",
    "        plt.xlabel('\\nCategories')\n",
    "        plt.show()\n",
    "            \n",
    "    #sub-category zastanowić się jak połączyć z category bo za dużo\n",
    "    subcategory_filter = category_filter[category_filter['category']==cat_widget.value]\n",
    "    success_filter_2 = subcategory_filter[subcategory_filter['state_new']==1]\n",
    "    c = round(len(success_filter_2)/len(subcategory_filter)*100,2)\n",
    "    print('\\n\\033[1m'+\"SUBCATEGORY\\n\"'\\033[0m')\n",
    "    print(\"Success rate of your subcategory ({}) is {}%\\n\".format(cat_widget.value, c))\n",
    "    print('\\033[1m'+\"Think about other subcategories with higher succeess rate in your main category (of course if applicable!):\"+'\\033[0m')\n",
    "    list_subcategory= category_filter['category'].unique().tolist()\n",
    "    list_subcategory_graph_x = [cat_widget.value]\n",
    "    list_subcategory_graph_y = [c]\n",
    "    graph_2= 0\n",
    "    for i in list_subcategory:\n",
    "        subcategory_filter_a = category_filter[category_filter['category']==i]\n",
    "        success_filter_2_a = subcategory_filter_a[subcategory_filter_a['state_new']==1]\n",
    "        d = round(len(success_filter_2_a)/len(subcategory_filter_a)*100,2)\n",
    "        if d > c:\n",
    "            graph_2 +=1\n",
    "            print(\"{} - {}%\".format(i,d))\n",
    "            list_subcategory_graph_x.append(i)\n",
    "            list_subcategory_graph_y.append(d)\n",
    "    if graph > 0:\n",
    "        x_pos_2 = np.arange(len(list_subcategory_graph_x))   \n",
    "        plt.bar(list_subcategory_graph_x, list_subcategory_graph_y,align='center', )\n",
    "        plt.xticks(x_pos_2, list_subcategory_graph_x, rotation=90) \n",
    "        plt.ylabel('Success Rate')\n",
    "        plt.xlabel('\\nSubcategories')\n",
    "        plt.show()\n",
    "    #time 29 jako dzielący na przedziały\n",
    "    interval_list = [(0, 10), (10, 20), (20, 30), (30, 40), (40, 50), (50, 60), (60, 70)]\n",
    "\n",
    "    for start, stop in interval_list:\n",
    "        if duration_widget.value > start and duration_widget.value <= stop:\n",
    "            time_y = start\n",
    "            time_x = stop\n",
    "\n",
    "    \n",
    "    time_filter = category_filter[category_filter['duration'].between(time_y, time_x)]\n",
    "    success_filter_4 = time_filter[time_filter['state_new']==1]\n",
    "    g = round(len(success_filter_4)/len(time_filter)*100,2)\n",
    "    print('\\n\\033[1m'+\"TIME\\n\"'\\033[0m')\n",
    "    \n",
    "    print(\"Success rate of your anticipated time range of {} - {} days is {}%\\n\".format(time_y, time_x, g))\n",
    "    \n",
    "    time_ranges= [(0,28),(29,29),(30,100)]\n",
    "    better = 0\n",
    "    list_time_graph_x =[]\n",
    "    list_time_graph_y =[]\n",
    "    for index, tuple in enumerate(interval_list):\n",
    "        time_filter_T = category_filter[category_filter['duration'].between(tuple[0], tuple[1])]\n",
    "        success_filter_T = time_filter_T[time_filter_T['state_new']==1]\n",
    "        h = round(len(success_filter_T)/len(time_filter_T)*100,2)\n",
    "        list_time_graph_x.append(\"{}-{}\".format(tuple[0], tuple[1]))\n",
    "        list_time_graph_y.append(h)\n",
    "        if g < h:\n",
    "            better += 1\n",
    "\n",
    "            print(\"Projects in your category with anticipated time range of {} - {} days are characterized by success rate of {}%.\".format(tuple[0], tuple[1], h))\n",
    "            \n",
    "            if tuple[1] > time_x:\n",
    "                print('\\033[1m'+\"Reconsider increasing the anticipated time \\n\"+'\\033[0m')\n",
    "            elif tuple[1] < time_x:\n",
    "                print('\\033[1m'+\"Reconsider decreassing the anticipated time\"+'\\033[0m')\n",
    "                print('This might be helpful:\\nhttps://www.crowdfundingpr.org/ways-boost-kickstarter-campaign/ \\nhttps://www.kickstarter.com/blog/shortening-the-maximum-project-length/\\n\\n')\n",
    "                \n",
    "        elif g == h:\n",
    "            continue\n",
    "        else:\n",
    "\n",
    "            print(\"Projects in your category with anticipated time range of {} - {} days are characterized by success rate of {}%.\".format(tuple[0],tuple[1], h))\n",
    "            print('\\033[1m'+\"The result is worse than ours, Let's not go that way \\n\"+'\\033[0m')\n",
    "    if better == 0:\n",
    "        print('\\033[1m'+\"SEEMS THAT YOU SELECTED THE RIGHT RANGE\"+'\\033[0m')    \n",
    "    \n",
    "    x_pos_4 = np.arange(len(list_time_graph_x))   \n",
    "    plt.bar(list_time_graph_x, list_time_graph_y,align='center')\n",
    "    plt.xticks(x_pos_4, list_time_graph_x) \n",
    "    plt.ylabel('Success Rate')\n",
    "    plt.xlabel('\\nDays')\n",
    "    plt.show()\n",
    "    #name    \n",
    "    #money - użwam 1000 - 10000 - 100000 - wiecej, ale do dyskusji/ kwartyle słabe/ albo od razu \n",
    "#     money_Q1 = country_filter['usd_pledged_real'].quantile(0.25)\n",
    "#     money_Q2 = country_filter['usd_pledged_real'].quantile(0.5)\n",
    "#     money_Q3 = country_filter['usd_pledged_real'].quantile(0.75)\n",
    "    amount_list = list(round(country_filter[\"usd_goal_real\"].quantile([0.2, 0.4, 0.6, 0.8]),0))\n",
    "   \n",
    "    if money_widget.value < amount_list[0]:\n",
    "        money_y = 0\n",
    "        money_x = amount_list[0]\n",
    "    elif money_widget.value >= amount_list[0] and money_widget.value < amount_list[1]:\n",
    "        money_y = amount_list[0]\n",
    "        money_x = amount_list[1]\n",
    "    elif money_widget.value >= amount_list[1] and money_widget.value < amount_list[2]:\n",
    "        money_y = amount_list[1]\n",
    "        money_x = amount_list[2]\n",
    "    elif money_widget.value >= amount_list[2] and money_widget.value < amount_list[3]:\n",
    "        money_y = amount_list[2]\n",
    "        money_x = amount_list[3]  \n",
    "    elif money_widget.value >= amount_list[3]:\n",
    "        money_y = amount_list[3]\n",
    "        money_x = 25000000 \n",
    "    \n",
    "#     money_P1 = 1000\n",
    "#     money_P2 = 10000\n",
    "#     money_P3 = 100000\n",
    "#     money_P4 = 25000000\n",
    "#     if money_widget.value < money_P1:\n",
    "#         money_y = 0\n",
    "#         money_x = 1000\n",
    "#     elif money_widget.value < money_P2:\n",
    "#         money_y = 1000\n",
    "#         money_x = 10000\n",
    "#     elif money_widget.value < money_P3:\n",
    "#         money_y = 10000\n",
    "#         money_x = 100000\n",
    "#     else:\n",
    "#         money_y = 100000\n",
    "#         money_x = 25000000\n",
    "\n",
    "    \n",
    "    money_filter = category_filter[category_filter['usd_goal_real'].between(money_y, money_x)]\n",
    "    success_filter_3 = money_filter[money_filter['state_new']==1]\n",
    "    e = round(len(success_filter_3)/len(money_filter)*100,2)\n",
    "    print('\\n\\033[1m'+\"MONEY\\n\"'\\033[0m')\n",
    "    print(\"Success rate of your anticipated money range of {} - {} $ is {}%\\n\".format(money_y, money_x, e))\n",
    "    \n",
    "    money_ranges= [(0,amount_list[0]),(amount_list[0],amount_list[1]),(amount_list[1],amount_list[2]), (amount_list[2],amount_list[3]),(amount_list[3],25000000) ]\n",
    "    better = 0\n",
    "    list_money_graph_x = []\n",
    "    list_money_graph_y =[]\n",
    "    for index, tuple in enumerate(money_ranges):\n",
    "        money_filter_P = category_filter[category_filter['usd_goal_real'].between(tuple[0], tuple[1], inclusive=\"left\")]\n",
    "        success_filter_P = money_filter_P[money_filter_P['state_new']==1]\n",
    "        f = round(len(success_filter_P)/len(money_filter_P)*100,2)\n",
    "        list_money_graph_x.append(\"{}\\n-\\n{}\".format(tuple[0], tuple[1]))\n",
    "        list_money_graph_y.append(f)\n",
    "        if e < f:\n",
    "            print(\"Projects in your category with anticipated money range of {} - {} $ are characterized by success rate of:\\n {}%.\\n \".format(tuple[0], tuple[1], f))\n",
    "            better += 1\n",
    "            if tuple[1] > money_x:\n",
    "                print('\\033[1m'+\"Reconsider increasing the anticipated amount of money to be collected \\n\\n\"+'\\033[0m')\n",
    "            elif tuple[1] < money_x:\n",
    "                print('\\033[1m'+\"Reconsider decreassing the anticipated amount of money to be collected \\n\\n\"+'\\033[0m')\n",
    "        elif e == f:\n",
    "            continue\n",
    "        else:\n",
    "            print(\"Projects in your category with anticipated money range of {} - {} $ are characterized by success rate of:\\n {}%.\".format(tuple[0], tuple[1], f))\n",
    "            print('\\033[1m'+\"The result is worse than ours, Let's not go that way \\n\"+'\\033[0m')\n",
    "    if better == 0:\n",
    "        print('\\033[1m'+\"SEEMS THAT YOU SELECTED THE RIGHT RANGE\"+'\\033[0m')\n",
    "    \n",
    "    x_pos_3 = np.arange(len(list_money_graph_x))   \n",
    "    plt.bar(list_money_graph_x, list_money_graph_y,align='center')\n",
    "    plt.xticks(x_pos_3, list_money_graph_x) \n",
    "    plt.ylabel('Success Rate')\n",
    "    plt.xlabel('\\nAnticipated $ Range')\n",
    "    plt.show()\n",
    "      \n",
    "\n",
    "    \n",
    "    \n",
    "run_button.on_click(button_callback)\n",
    "display(run_button)"
   ]
  },
  {
   "cell_type": "code",
   "execution_count": null,
   "id": "49fabcc0",
   "metadata": {},
   "outputs": [],
   "source": []
  }
 ],
 "metadata": {
  "kernelspec": {
   "display_name": "Python 3",
   "language": "python",
   "name": "python3"
  },
  "language_info": {
   "codemirror_mode": {
    "name": "ipython",
    "version": 3
   },
   "file_extension": ".py",
   "mimetype": "text/x-python",
   "name": "python",
   "nbconvert_exporter": "python",
   "pygments_lexer": "ipython3",
   "version": "3.8.8"
  }
 },
 "nbformat": 4,
 "nbformat_minor": 5
}
