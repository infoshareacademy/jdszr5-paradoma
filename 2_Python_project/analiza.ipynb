{
 "cells": [
  {
   "cell_type": "markdown",
   "id": "be634640",
   "metadata": {},
   "source": [
    "## Wczytanie danych i bibliotek"
   ]
  },
  {
   "cell_type": "code",
   "execution_count": null,
   "id": "ad3c086b",
   "metadata": {},
   "outputs": [],
   "source": [
    "import pandas as pd\n",
    "import numpy as np\n",
    "import matplotlib.pyplot as plt\n",
    "import os\n",
    "import ipywidgets as widgets"
   ]
  },
  {
   "cell_type": "code",
   "execution_count": null,
   "id": "92bc534d",
   "metadata": {},
   "outputs": [],
   "source": [
    "file = \"ks_projects_201801.csv\"\n",
    "filepath = os.path.join(os.path.abspath(\"\"), file)"
   ]
  },
  {
   "cell_type": "code",
   "execution_count": null,
   "id": "ff888908",
   "metadata": {},
   "outputs": [],
   "source": [
    "df = pd.read_csv(filepath)\n"
   ]
  },
  {
   "cell_type": "markdown",
   "id": "e2523d71",
   "metadata": {},
   "source": [
    "## Wstępne sprawdzenie danych"
   ]
  },
  {
   "cell_type": "code",
   "execution_count": null,
   "id": "6aea8da4",
   "metadata": {},
   "outputs": [],
   "source": [
    "# Usunięcie wartości NaN\n",
    "df = df.dropna()\n",
    "\n",
    "# Ujednolicenie kolumn z datami, przekształcenie na format datetime\n",
    "df['deadline_new'] = pd.to_datetime(df['deadline']).dt.date\n",
    "df['launched_new'] = pd.to_datetime(df['launched']).dt.date\n",
    "\n",
    "# Obliczenie czasu trwania projektów, oczyszczenie danych - przekształcenie na typ int\n",
    "df['duration'] = df['deadline_new'] - df['launched_new']\n",
    "df['duration'] = df['duration'].map(lambda x: int(str(x).split(\" \")[0]))\n",
    "\n",
    "# Wyodrębnienie dwóch stanów projektów: successful = 1, pozostałe = 0\n",
    "df[\"state_new\"] = df[\"state\"].map(lambda x: 1 if x == \"successful\" else 0 )\n",
    "\n",
    "\n",
    "df.sample(5)"
   ]
  },
  {
   "cell_type": "code",
   "execution_count": null,
   "id": "64deac4c",
   "metadata": {},
   "outputs": [],
   "source": [
    "df.columns"
   ]
  },
  {
   "cell_type": "code",
   "execution_count": null,
   "id": "1d141394",
   "metadata": {},
   "outputs": [],
   "source": [
    "# Usunięcie niepotrzebnych kolumn\n",
    "to_drop = [\"deadline\",\n",
    "           \"launched\",\n",
    "           \"state\",\n",
    "           \"usd pledged\"]\n",
    "\n",
    "df.drop(to_drop, inplace=True, axis=1)"
   ]
  },
  {
   "cell_type": "code",
   "execution_count": null,
   "id": "03cc217d",
   "metadata": {},
   "outputs": [],
   "source": [
    "df.head()"
   ]
  },
  {
   "cell_type": "code",
   "execution_count": null,
   "id": "fd3f6a9c",
   "metadata": {},
   "outputs": [],
   "source": [
    "# Sprawdzenie, czy projekty się powtarzają\n",
    "print(df[\"ID\"].duplicated().any())"
   ]
  },
  {
   "cell_type": "markdown",
   "id": "1047be09",
   "metadata": {},
   "source": [
    "## Sprawdzenie czy powodzenie projektu zależy od kraju"
   ]
  },
  {
   "cell_type": "code",
   "execution_count": null,
   "id": "04bd85d0",
   "metadata": {},
   "outputs": [],
   "source": [
    "# Sprawdzenie ile było projektów w poszczególnych krajach\n",
    "project_country = dict(df[\"country\"].value_counts())\n",
    "\n",
    "project_country"
   ]
  },
  {
   "cell_type": "code",
   "execution_count": null,
   "id": "3fdf53fc",
   "metadata": {},
   "outputs": [],
   "source": [
    "# Połączenie Luksemburga, Belgii i Holandii w Beneluks\n",
    "\n",
    "df[\"country\"] = df[\"country\"].replace([\"LU\", \"BE\"],\"NL\")\n",
    "\n",
    "project_country = dict(df[\"country\"].value_counts())\n",
    "project_country"
   ]
  },
  {
   "cell_type": "code",
   "execution_count": null,
   "id": "08227d8a",
   "metadata": {
    "scrolled": true
   },
   "outputs": [],
   "source": [
    "# Odrzucenie krajów, w których liczba projektów jest poniżej 1000\n",
    "\n",
    "df = df[(df[\"country\"] != \"SG\") \n",
    "        & (df[\"country\"] != \"JP\") \n",
    "        & (df[\"country\"] != \"AT\") \n",
    "        & (df[\"country\"] != \"HK\")\n",
    "        & (df[\"country\"] != \"NO\")\n",
    "        & (df[\"country\"] != \"CH\")\n",
    "        & (df[\"country\"] != \"IE\")]\n",
    "df[\"country\"].unique()"
   ]
  },
  {
   "cell_type": "code",
   "execution_count": null,
   "id": "67a83993",
   "metadata": {
    "scrolled": true
   },
   "outputs": [],
   "source": [
    "# Odfiltrowanie projektów, które odniosły sukces w poszczególnych krajach\n",
    "\n",
    "success_filter = df[df[\"state_new\"] == 1]\n",
    "group_success_filter = success_filter.groupby(by=[\"country\"])\n",
    "sum_success = dict(group_success_filter[\"state_new\"].sum())\n",
    "\n",
    "print(sum_success)"
   ]
  },
  {
   "cell_type": "code",
   "execution_count": null,
   "id": "32c87943",
   "metadata": {},
   "outputs": [],
   "source": [
    "# Procent projektów, które się udały\n",
    "\n",
    "perc_success = {k: round(((sum_success[k] / project_country[k]) * 100), 1) for k, v in sum_success.items()}\n",
    "\n",
    "print(perc_success)"
   ]
  },
  {
   "cell_type": "code",
   "execution_count": null,
   "id": "5846d44a",
   "metadata": {},
   "outputs": [],
   "source": [
    "# Wizualizacja odsetka sfinansowanych projektów w zależności od kraju\n",
    "\n",
    "perc_country_list = []\n",
    "country_list = []\n",
    "for k, v in perc_success.items():\n",
    "    perc_country_list.append(v)\n",
    "    country_list.append(k)\n",
    "        \n",
    "# print(perc_country_list)\n",
    "# print(country_list)"
   ]
  },
  {
   "cell_type": "code",
   "execution_count": null,
   "id": "530dbc1e",
   "metadata": {},
   "outputs": [],
   "source": [
    "plt.figure(figsize=(15, 5))\n",
    "plt.bar(range(len(perc_country_list)), perc_country_list, align='center')\n",
    "plt.xticks(range(len(perc_country_list)), country_list, rotation='vertical')\n",
    "plt.show()"
   ]
  },
  {
   "cell_type": "markdown",
   "id": "65af4a85",
   "metadata": {},
   "source": [
    "## Sprawdzenie czy powodzenie projektu zależy od jego daty złożenia lub zakończenia (miesiąc)"
   ]
  },
  {
   "cell_type": "code",
   "execution_count": null,
   "id": "863ba055",
   "metadata": {
    "scrolled": true
   },
   "outputs": [],
   "source": [
    "# Wyodrębnienie roku i miesiąca z danych \n",
    "\n",
    "df['year_launched'] = pd.DatetimeIndex(df['launched_new']).year\n",
    "df['month_launched'] = pd.DatetimeIndex(df['launched_new']).month\n",
    "df['year_deadline'] = pd.DatetimeIndex(df['deadline_new']).year\n",
    "df['month_deadline'] = pd.DatetimeIndex(df['deadline_new']).month\n",
    "df.head()"
   ]
  },
  {
   "cell_type": "code",
   "execution_count": null,
   "id": "a28f8ad1",
   "metadata": {
    "scrolled": true
   },
   "outputs": [],
   "source": [
    "# Sprawdzenie ile projektów powstało w poszczególnych latach\n",
    "\n",
    "df[\"year_launched\"].value_counts()"
   ]
  },
  {
   "cell_type": "code",
   "execution_count": null,
   "id": "2f60c6a9",
   "metadata": {},
   "outputs": [],
   "source": [
    "# Usunięcie rekordów z 1970 roku\n",
    "\n",
    "df = df[df[\"year_launched\"] != 1970]\n",
    "df[\"year_launched\"].unique()"
   ]
  },
  {
   "cell_type": "code",
   "execution_count": null,
   "id": "8d80f7f6",
   "metadata": {
    "scrolled": true
   },
   "outputs": [],
   "source": [
    "# Ile było projektów w poszczególnych krajach w danym miesiącu\n",
    "\n",
    "all_month_grouped = df.groupby(by=[\"country\", \"month_launched\"])\n",
    "all_month = dict(all_month_grouped[\"state_new\"].count())\n",
    "# all_month"
   ]
  },
  {
   "cell_type": "code",
   "execution_count": null,
   "id": "289b3d36",
   "metadata": {},
   "outputs": [],
   "source": [
    "# Ile było projektów, które zostały sfinansowane w poszczególnych krajach w danym miesiącu\n",
    "\n",
    "filter_month = df[df[\"state_new\"] == 1]\n",
    "month_grouped = filter_month.groupby(by=[\"country\", \"month_launched\"])\n",
    "success_month = dict(month_grouped[\"state_new\"].count())\n",
    "#success_month"
   ]
  },
  {
   "cell_type": "code",
   "execution_count": null,
   "id": "2d382a2c",
   "metadata": {
    "scrolled": false
   },
   "outputs": [],
   "source": [
    "# Procent projektów, które zostały sfinansowane w poszczególnych krajach w zależności od miesiąca rozpoczęcia projektu\n",
    "\n",
    "perc_month = {k: round(((success_month[k] / all_month[k]) * 100), 1) for k, v in success_month.items()}\n",
    "\n",
    "# perc_month"
   ]
  },
  {
   "cell_type": "code",
   "execution_count": null,
   "id": "5ee5df08",
   "metadata": {
    "scrolled": true
   },
   "outputs": [],
   "source": [
    "# Wizualizacja odsetka sfinansowanych projektów w zależności od miesiąca rozpoczęcia\n",
    "\n",
    "perc_month_list = []\n",
    "month_list = []\n",
    "for k, v in perc_month.items():\n",
    "    if \"GB\" in k:\n",
    "#         print(k, v)\n",
    "        perc_month_list.append(v)\n",
    "        month_list.append(k)\n",
    "        \n",
    "# print(perc_month_list)\n",
    "# print(month_list)\n",
    "# print(df[\"country\"].unique())"
   ]
  },
  {
   "cell_type": "code",
   "execution_count": null,
   "id": "a36e9ef0",
   "metadata": {},
   "outputs": [],
   "source": [
    "plt.figure(figsize=(10, 5))\n",
    "plt.bar(range(len(perc_month_list)), perc_month_list, align='center')\n",
    "plt.xticks(range(len(perc_month_list)), month_list, rotation='vertical')\n",
    "plt.show()"
   ]
  },
  {
   "cell_type": "markdown",
   "id": "862f6476",
   "metadata": {},
   "source": [
    "#### W dużej części państw odsetek projektów zakończonych powodzeniem nie zależy od miesiąca, w którym projekty były składane, więc nie bieżemy tej zależności pod uwagę w budowaniu aplikacji."
   ]
  },
  {
   "cell_type": "markdown",
   "id": "6a7de0b9",
   "metadata": {},
   "source": [
    "## Sprawdzenie czy powodzenie projektu zależy od kategorii w której został złożony"
   ]
  },
  {
   "cell_type": "code",
   "execution_count": null,
   "id": "df181426",
   "metadata": {},
   "outputs": [],
   "source": [
    "df[\"main_category\"].unique()"
   ]
  },
  {
   "cell_type": "code",
   "execution_count": null,
   "id": "131a6270",
   "metadata": {
    "scrolled": true
   },
   "outputs": [],
   "source": [
    "# Ile było projektów w poszczególnych krajach w danej kategorii\n",
    "\n",
    "all_mcategory_grouped = df.groupby(by=[\"country\", \"main_category\"])\n",
    "all_mcategory = dict(all_mcategory_grouped[\"state_new\"].count())\n",
    "# all_mcategory\n"
   ]
  },
  {
   "cell_type": "code",
   "execution_count": null,
   "id": "28b5ee98",
   "metadata": {},
   "outputs": [],
   "source": [
    "# Ile było projektów, które zostały sfinansowane w poszczególnych krajach w danej kategorii\n",
    "\n",
    "filter_mcategory = df[df[\"state_new\"] == 1]\n",
    "mcategory_grouped = filter_mcategory.groupby(by=[\"country\", \"main_category\"])\n",
    "success_mcategory = dict(mcategory_grouped[\"state_new\"].count())\n",
    "# success_mcategory"
   ]
  },
  {
   "cell_type": "code",
   "execution_count": null,
   "id": "7da0c621",
   "metadata": {
    "scrolled": false
   },
   "outputs": [],
   "source": [
    "# Procent projektów, które zostały sfinansowane w poszczególnych krajach w zależności od kategorii\n",
    "\n",
    "perc_mcategory = {k: round(((success_mcategory[k] / all_mcategory[k]) * 100), 1) for k, v in success_mcategory.items()}\n",
    "\n",
    "# perc_mcategory"
   ]
  },
  {
   "cell_type": "code",
   "execution_count": null,
   "id": "3d06964c",
   "metadata": {},
   "outputs": [],
   "source": [
    "# Wizualizacja odsetka sfinansowanych projektów w zależności od kategorii, w której projekt został złożony\n",
    "\n",
    "value_list = []\n",
    "mcat_list = []\n",
    "for k, v in perc_mcategory.items():\n",
    "    if \"US\" in k:\n",
    "#         print(k, v)\n",
    "        value_list.append(v)\n",
    "        mcat_list.append(k)\n",
    "        \n",
    "# print(value_list)\n",
    "# print(mcat_list)"
   ]
  },
  {
   "cell_type": "code",
   "execution_count": null,
   "id": "3ebf1d6d",
   "metadata": {},
   "outputs": [],
   "source": [
    "plt.figure(figsize=(10, 5))\n",
    "plt.bar(range(len(value_list)), value_list, align='center')\n",
    "plt.xticks(range(len(value_list)), mcat_list, rotation='vertical')\n",
    "plt.show()"
   ]
  },
  {
   "cell_type": "markdown",
   "id": "1f94decb",
   "metadata": {},
   "source": [
    "#### We wszystkich państwach widać wyraźną zależność powodzenia projektu od tego w jakiej kategorii został złożony, więc kategoria będzie jednym z parametrów analizowanych w aplikacji."
   ]
  },
  {
   "cell_type": "markdown",
   "id": "31854f1b",
   "metadata": {},
   "source": [
    "## Sprawdzenie czy powodzenie projektu zależy od podkategorii w której został złożony"
   ]
  },
  {
   "cell_type": "code",
   "execution_count": null,
   "id": "99a46597",
   "metadata": {},
   "outputs": [],
   "source": [
    "# df[\"category\"].unique()"
   ]
  },
  {
   "cell_type": "code",
   "execution_count": null,
   "id": "74fc143d",
   "metadata": {},
   "outputs": [],
   "source": [
    "# Ile było projektów w poszczególnych krajach w danej podkategorii\n",
    "\n",
    "all_category_grouped = df.groupby(by=[\"country\", \"main_category\", \"category\"])\n",
    "all_category = dict(all_category_grouped[\"state_new\"].count())\n",
    "# all_category"
   ]
  },
  {
   "cell_type": "code",
   "execution_count": null,
   "id": "114217f7",
   "metadata": {},
   "outputs": [],
   "source": [
    "# Ile było projektów, które zostały sfinansowane w poszczególnych krajach w danej podkategorii\n",
    "\n",
    "filter_category = df[df[\"state_new\"] == 1]\n",
    "category_grouped = filter_category.groupby(by=[\"country\", \"main_category\", \"category\"])\n",
    "success_category = dict(category_grouped[\"state_new\"].count())\n",
    "# success_category"
   ]
  },
  {
   "cell_type": "code",
   "execution_count": null,
   "id": "ace7396b",
   "metadata": {},
   "outputs": [],
   "source": [
    "# Procent projektów, które zostały sfinansowane w poszczególnych krajach w zależności od podkategorii\n",
    "\n",
    "perc_category = {k: round(((success_category[k] / all_category[k]) * 100), 1) for k, v in success_category.items()}\n",
    "\n",
    "# perc_category"
   ]
  },
  {
   "cell_type": "code",
   "execution_count": null,
   "id": "7d3513b5",
   "metadata": {},
   "outputs": [],
   "source": [
    "# Wizualizacja odsetka sfinansowanych projektów w zależności od podkategorii, w której projekt został złożony\n",
    "\n",
    "per_cat_list = []\n",
    "cat_list = []\n",
    "for k, v in perc_category.items():\n",
    "    if \"IT\" in k:\n",
    "#         print(k, v)\n",
    "        per_cat_list.append(v)\n",
    "        cat_list.append(k)\n",
    "        \n",
    "# print(per_cat_list)\n",
    "# print(cat_list)"
   ]
  },
  {
   "cell_type": "code",
   "execution_count": null,
   "id": "7abd6c73",
   "metadata": {},
   "outputs": [],
   "source": [
    "plt.figure(figsize=(25, 10))\n",
    "plt.bar(range(len(per_cat_list)), per_cat_list, align='center')\n",
    "plt.xticks(range(len(per_cat_list)), cat_list, rotation='vertical')\n",
    "plt.show()"
   ]
  },
  {
   "cell_type": "markdown",
   "id": "55d84a6a",
   "metadata": {},
   "source": [
    "#### We wszystkich państwach widać wyraźną zależność powodzenia projektu od tego w jakiej podkategorii został złożony, więc podkategoria będzie jednym z parametrów analizowanych w aplikacji."
   ]
  },
  {
   "cell_type": "markdown",
   "id": "f2592067",
   "metadata": {},
   "source": [
    "## Opracowanie funkcji pozwalającej na sprawdzenie kilku czynników jednocześnie"
   ]
  },
  {
   "cell_type": "code",
   "execution_count": null,
   "id": "ea5e6573",
   "metadata": {},
   "outputs": [],
   "source": [
    "# Funkcja pozwalająca na sprawdzenie wszystkich czynników jednocześnie \n",
    "\n",
    "def success_rate(groupby, column, country):\n",
    "    \n",
    "    for el in groupby:\n",
    "        \n",
    "        # Liczba projektów w poszczególnych krajach w danej grupie czynników\n",
    "        \n",
    "        all_grouped = df.groupby(by=el)\n",
    "        all_count = dict(all_grouped[column].count())\n",
    "        \n",
    "        # Liczba projektów, które zostały sfinansowane w poszczególnych krajach w danej grupie czynników\n",
    "\n",
    "        filter_success = df[df[column] == 1]\n",
    "        factor_grouped = filter_success.groupby(by=el)\n",
    "        success_factor = dict(factor_grouped[column].count())\n",
    "        \n",
    "        # Procent projektów, które zostały sfinansowane w poszczególnych krajach w zależności od czynnika\n",
    "\n",
    "        perc_factor = {k: round(((success_factor[k] / all_count[k]) * 100), 1) for k, v in success_factor.items()}\n",
    "\n",
    "        # Wizualizacja odsetka sfinansowanych projektów w zależności od miesiąca rozpoczęcia\n",
    "\n",
    "        perc_factor_list = []\n",
    "        factor_list = []\n",
    "        for key, value in perc_factor.items():\n",
    "            if country in key:\n",
    "                perc_factor_list.append(value)\n",
    "                factor_list.append(key)\n",
    "                \n",
    "        plt.figure(figsize=(25, 5))\n",
    "        plt.title(el[-1])\n",
    "        plt.bar(range(len(perc_factor_list)), perc_factor_list, align='center')\n",
    "        plt.xticks(range(len(perc_factor_list)), factor_list, rotation='vertical')\n",
    "        plt.show()"
   ]
  },
  {
   "cell_type": "code",
   "execution_count": null,
   "id": "a8832c9e",
   "metadata": {},
   "outputs": [],
   "source": [
    "list_groupby = [[\"country\", \"month_launched\"], [\"country\", \"main_category\"], [\"country\", \"main_category\", \"category\"]]\n",
    "column_count = \"state_new\"\n",
    "country_list = ['GB', 'US', 'CA', 'AU', 'NO', 'IT', 'DE', 'IE', 'MX', 'ES', 'SE','FR', 'NL', 'NZ', 'CH', 'AT', 'DK', 'BE', 'HK', 'SG']\n",
    "\n",
    "success_rate(list_groupby, column_count, \"IT\")"
   ]
  },
  {
   "cell_type": "markdown",
   "id": "5e62f9f4",
   "metadata": {},
   "source": [
    "## Sprawdzenie czy powodzenie projektu zależy od czasu trwania zbiórki"
   ]
  },
  {
   "cell_type": "code",
   "execution_count": null,
   "id": "c075b412",
   "metadata": {},
   "outputs": [],
   "source": [
    "df[\"duration\"].hist(bins=10, figsize=(15, 5))"
   ]
  },
  {
   "cell_type": "code",
   "execution_count": null,
   "id": "1a4c1eb7",
   "metadata": {},
   "outputs": [],
   "source": [
    "df[\"duration\"].quantile([0.25, 0.50, 0.75])"
   ]
  },
  {
   "cell_type": "code",
   "execution_count": null,
   "id": "21b8d17a",
   "metadata": {},
   "outputs": [],
   "source": [
    "df[\"duration\"].value_counts()"
   ]
  },
  {
   "cell_type": "code",
   "execution_count": null,
   "id": "c98865fe",
   "metadata": {},
   "outputs": [],
   "source": [
    "# Określenie liczby projektów z danym czasem zbiórki (co 10 dni)\n",
    "\n",
    "set_1 = df[df[\"duration\"] < 10][\"duration\"].count()\n",
    "print(f\"Poniżej 10 dni: {set_1}\")\n",
    "set_2 = df[(df[\"duration\"] >= 10) & (df[\"duration\"] < 20)][\"duration\"].count()\n",
    "print(f\"Od 10 do 20 dni: {set_2}\")\n",
    "set_3 = df[(df[\"duration\"] >= 20) & (df[\"duration\"] < 30)][\"duration\"].count()\n",
    "print(f\"Od 20 do 30 dni: {set_3}\")\n",
    "set_4 = df[(df[\"duration\"] >= 30) & (df[\"duration\"] < 40)][\"duration\"].count()\n",
    "print(f\"Od 30 do 40 dni: {set_4}\")\n",
    "set_5 = df[(df[\"duration\"] >= 40) & (df[\"duration\"] < 50)][\"duration\"].count()\n",
    "print(f\"Od 40 do 50 dni: {set_5}\")\n",
    "set_6 = df[(df[\"duration\"] >= 50) & (df[\"duration\"] < 60)][\"duration\"].count()\n",
    "print(f\"Od 50 do 60 dni: {set_6}\")\n",
    "set_7 = df[(df[\"duration\"] >= 60) & (df[\"duration\"] < 70)][\"duration\"].count()\n",
    "print(f\"Od 60 do 70 dni: {set_7}\")\n",
    "set_8 = df[(df[\"duration\"] >= 70) & (df[\"duration\"] < 80)][\"duration\"].count()\n",
    "print(f\"Od 70 do 80 dni: {set_8}\")\n",
    "set_9 = df[(df[\"duration\"] >= 80) & (df[\"duration\"] < 90)][\"duration\"].count()\n",
    "print(f\"Od 80 do 90 dni: {set_9}\")\n",
    "set_10 = df[(df[\"duration\"] >= 90) & (df[\"duration\"] < 100)][\"duration\"].count()\n",
    "print(f\"Od 90 do 100 dni: {set_10}\")"
   ]
  },
  {
   "cell_type": "code",
   "execution_count": null,
   "id": "7a2c8c35",
   "metadata": {},
   "outputs": [],
   "source": [
    "# Określenie liczby projektów zakończonych sukcesem z danym czasem zbiórki (co 10 dni)\n",
    "\n",
    "set_1s = df[(df[\"state_new\"] == 1) & (df[\"duration\"] < 10)][\"duration\"].count()\n",
    "print(f\"Poniżej 10 dni: {set_1s}\")\n",
    "set_2s = df[(df[\"state_new\"] == 1) & (df[\"duration\"] >= 10) & (df[\"duration\"] < 20)][\"duration\"].count()\n",
    "print(f\"Od 10 do 20 dni: {set_2s}\")\n",
    "set_3s = df[(df[\"state_new\"] == 1) & (df[\"duration\"] >= 20) & (df[\"duration\"] < 30)][\"duration\"].count()\n",
    "print(f\"Od 20 do 30 dni: {set_3s}\")\n",
    "set_4s = df[(df[\"state_new\"] == 1) & (df[\"duration\"] >= 30) & (df[\"duration\"] < 40)][\"duration\"].count()\n",
    "print(f\"Od 30 do 40 dni: {set_4s}\")\n",
    "set_5s = df[(df[\"state_new\"] == 1) & (df[\"duration\"] >= 40) & (df[\"duration\"] < 50)][\"duration\"].count()\n",
    "print(f\"Od 40 do 50 dni: {set_5s}\")\n",
    "set_6s = df[(df[\"state_new\"] == 1) & (df[\"duration\"] >= 50) & (df[\"duration\"] < 60)][\"duration\"].count()\n",
    "print(f\"Od 50 do 60 dni: {set_6s}\")\n",
    "set_7s = df[(df[\"state_new\"] == 1) & (df[\"duration\"] >= 60) & (df[\"duration\"] < 70)][\"duration\"].count()\n",
    "print(f\"Od 60 do 70 dni: {set_7s}\")\n",
    "set_8s = df[(df[\"state_new\"] == 1) & (df[\"duration\"] >= 70) & (df[\"duration\"] < 80)][\"duration\"].count()\n",
    "print(f\"Od 70 do 80 dni: {set_8s}\")\n",
    "set_9s = df[(df[\"state_new\"] == 1) & (df[\"duration\"] >= 80) & (df[\"duration\"] < 90)][\"duration\"].count()\n",
    "print(f\"Od 80 do 90 dni: {set_9s}\")\n",
    "set_10s = df[(df[\"state_new\"] == 1) & (df[\"duration\"] >= 90) & (df[\"duration\"] < 100)][\"duration\"].count()\n",
    "print(f\"Od 90 do 100 dni: {set_10s}\")"
   ]
  },
  {
   "cell_type": "code",
   "execution_count": null,
   "id": "d55eb4f6",
   "metadata": {},
   "outputs": [],
   "source": [
    "# Odsetek projektów zakończonych sukcesem w zależności od długości zbiórki\n",
    "\n",
    "set_1p = 100 * set_1s / set_1\n",
    "print(f\"Poniżej 10 dni: {set_1p:.1f} %\")\n",
    "set_2p = 100 * set_2s / set_2\n",
    "print(f\"Od 10 do 20 dni: {set_2p:.1f} %\")\n",
    "set_3p = 100 * set_3s / set_3\n",
    "print(f\"Od 20 do 30 dni: {set_3p:.1f} %\")\n",
    "set_4p = 100 * set_4s / set_4\n",
    "print(f\"Od 30 do 40 dni: {set_4p:.1f} %\")\n",
    "set_5p = 100 * set_5s / set_5\n",
    "print(f\"Od 40 do 50 dni: {set_5p:.1f} %\")\n",
    "set_6p = 100 * set_6s / set_6\n",
    "print(f\"Od 50 do 60 dni: {set_6p:.1f} %\")\n",
    "set_7p = 100 * set_7s / set_7\n",
    "print(f\"Od 60 do 70 dni: {set_7p:.1f} %\")\n",
    "set_8p = 100 * set_8s / set_8\n",
    "print(f\"Od 70 do 80 dni: {set_8p:.1f} %\")\n",
    "set_9p = 100 * set_9s / set_9\n",
    "print(f\"Od 80 do 90 dni: {set_9p:.1f} %\")\n",
    "set_10p = 100 * set_10s / set_10\n",
    "print(f\"Od 90 do 100 dni: {set_10p:.1f} %\")"
   ]
  },
  {
   "cell_type": "code",
   "execution_count": null,
   "id": "d8423a8a",
   "metadata": {},
   "outputs": [],
   "source": [
    "set_list = [set_1p, set_2p, set_3p, set_4p, set_5p, set_6p, set_7p, set_8p, set_9p, set_10p]\n",
    "\n",
    "plt.figure(figsize=(10, 5))\n",
    "plt.bar(range(len(set_list)), set_list, align='center')\n",
    "plt.xticks(range(len(set_list)), range(10, 101, 10), rotation='vertical')\n",
    "plt.show()"
   ]
  },
  {
   "cell_type": "markdown",
   "id": "6a61c1aa",
   "metadata": {},
   "source": [
    "#### Możliwe jest określenie przedziałów czasowych, które mogłyby zwiększyć prawdopodobieństwo zakończenia zbiórki sukcesem"
   ]
  },
  {
   "cell_type": "markdown",
   "id": "1c7833ff",
   "metadata": {},
   "source": [
    "## Sprawdzenie czy powodzenie projektu zależy od kwoty zbiórki"
   ]
  },
  {
   "cell_type": "code",
   "execution_count": null,
   "id": "5f20de66",
   "metadata": {
    "scrolled": true
   },
   "outputs": [],
   "source": [
    "df[\"usd_goal_real\"].describe()"
   ]
  },
  {
   "cell_type": "code",
   "execution_count": null,
   "id": "bd248d94",
   "metadata": {},
   "outputs": [],
   "source": [
    "df[\"usd_pledged_real\"].describe()"
   ]
  },
  {
   "cell_type": "code",
   "execution_count": null,
   "id": "6b5ae56a",
   "metadata": {},
   "outputs": [],
   "source": [
    "quant = dict(df[\"usd_goal_real\"].quantile([0.2, 0.4, 0.6, 0.8]))"
   ]
  },
  {
   "cell_type": "code",
   "execution_count": null,
   "id": "bf5da5c1",
   "metadata": {},
   "outputs": [],
   "source": [
    "q2 = 100 * df[(df[\"usd_goal_real\"] < quant[0.2]) & (df[\"state_new\"] == 1)][\"ID\"].count() / df[(df[\"usd_goal_real\"] < quant[0.2])][\"ID\"].count() \n",
    "q4 = 100 * df[(df[\"usd_goal_real\"] >= quant[0.2]) & (df[\"usd_goal_real\"] < quant[0.4]) & (df[\"state_new\"] == 1)][\"ID\"].count() / df[(df[\"usd_goal_real\"] >= quant[0.2]) & (df[\"usd_goal_real\"] < quant[0.4])][\"ID\"].count()\n",
    "q6 = 100 * df[(df[\"usd_goal_real\"] >= quant[0.4]) & (df[\"usd_goal_real\"] < quant[0.6]) & (df[\"state_new\"] == 1)][\"ID\"].count() / df[(df[\"usd_goal_real\"] >= quant[0.4]) & (df[\"usd_goal_real\"] < quant[0.6])][\"ID\"].count()\n",
    "q8 = 100 * df[(df[\"usd_goal_real\"] >= quant[0.6]) & (df[\"usd_goal_real\"] < quant[0.8]) & (df[\"state_new\"] == 1)][\"ID\"].count() / df[(df[\"usd_goal_real\"] >= quant[0.6]) & (df[\"usd_goal_real\"] < quant[0.8])][\"ID\"].count()\n",
    "q10 = 100 * df[(df[\"usd_goal_real\"] >= quant[0.8]) & (df[\"state_new\"] == 1)][\"ID\"].count() / df[(df[\"usd_goal_real\"] >= quant[0.8])][\"ID\"].count() \n",
    "\n",
    "list_q = [q2, q4, q6, q8, q10]\n",
    "\n",
    "plt.figure(figsize=(10, 5))\n",
    "plt.bar(range(len(list_q)), list_q, align='center')\n",
    "plt.xticks(rotation='horizontal')\n",
    "plt.show()"
   ]
  }
 ],
 "metadata": {
  "kernelspec": {
   "display_name": "Python 3",
   "language": "python",
   "name": "python3"
  },
  "language_info": {
   "codemirror_mode": {
    "name": "ipython",
    "version": 3
   },
   "file_extension": ".py",
   "mimetype": "text/x-python",
   "name": "python",
   "nbconvert_exporter": "python",
   "pygments_lexer": "ipython3",
   "version": "3.8.8"
  }
 },
 "nbformat": 4,
 "nbformat_minor": 5
}
