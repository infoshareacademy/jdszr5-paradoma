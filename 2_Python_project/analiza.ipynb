{
 "cells": [
  {
   "cell_type": "markdown",
   "id": "ebac24bb",
   "metadata": {
    "slideshow": {
     "slide_type": "skip"
    }
   },
   "source": [
    "## Wczytanie danych i bibliotek"
   ]
  },
  {
   "cell_type": "code",
   "execution_count": null,
   "id": "eb28e5af",
   "metadata": {
    "slideshow": {
     "slide_type": "skip"
    }
   },
   "outputs": [],
   "source": [
    "import pandas as pd\n",
    "import numpy as np\n",
    "import matplotlib.pyplot as plt\n",
    "import seaborn as sns\n",
    "\n",
    "%matplotlib inline"
   ]
  },
  {
   "cell_type": "code",
   "execution_count": null,
   "id": "92bc534d",
   "metadata": {
    "slideshow": {
     "slide_type": "skip"
    }
   },
   "outputs": [],
   "source": [
    "# file = \"ks_projects_201801.csv\"\n",
    "# filepath = os.path.join(os.path.abspath(\"\"), file)"
   ]
  },
  {
   "cell_type": "code",
   "execution_count": null,
   "id": "ff888908",
   "metadata": {
    "slideshow": {
     "slide_type": "skip"
    }
   },
   "outputs": [],
   "source": [
    "df = pd.read_csv(\"ks_projects_201801.csv\")\n"
   ]
  },
  {
   "cell_type": "markdown",
   "id": "0da283af",
   "metadata": {
    "slideshow": {
     "slide_type": "skip"
    }
   },
   "source": [
    "## Wstępne sprawdzenie danych"
   ]
  },
  {
   "cell_type": "code",
   "execution_count": null,
   "id": "c3cb52c0",
   "metadata": {
    "slideshow": {
     "slide_type": "skip"
    }
   },
   "outputs": [],
   "source": [
    "# Usunięcie wartości NaN\n",
    "df = df.dropna()\n",
    "\n",
    "# Ujednolicenie kolumn z datami, przekształcenie na format datetime\n",
    "df['deadline_new'] = pd.to_datetime(df['deadline']).dt.date\n",
    "df['launched_new'] = pd.to_datetime(df['launched']).dt.date\n",
    "\n",
    "# Obliczenie czasu trwania projektów, oczyszczenie danych - przekształcenie na typ int\n",
    "df['duration'] = df['deadline_new'] - df['launched_new']\n",
    "df['duration'] = df['duration'].map(lambda x: int(str(x).split(\" \")[0]))\n",
    "\n",
    "# Wyodrębnienie dwóch stanów projektów: successful = 1, pozostałe = 0\n",
    "df[\"state_new\"] = df[\"state\"].map(lambda x: 1 if x == \"successful\" else 0 )\n",
    "\n",
    "\n",
    "# df.sample(5)"
   ]
  },
  {
   "cell_type": "code",
   "execution_count": null,
   "id": "64deac4c",
   "metadata": {
    "scrolled": true,
    "slideshow": {
     "slide_type": "skip"
    }
   },
   "outputs": [],
   "source": [
    "# df.columns"
   ]
  },
  {
   "cell_type": "code",
   "execution_count": null,
   "id": "df24c41f",
   "metadata": {
    "slideshow": {
     "slide_type": "skip"
    }
   },
   "outputs": [],
   "source": [
    "# Usunięcie niepotrzebnych kolumn\n",
    "to_drop = [\"currency\",\n",
    "           \"deadline\",\n",
    "           \"goal\",\n",
    "           \"launched\",\n",
    "           \"pledged\",\n",
    "           \"state\",\n",
    "           \"usd pledged\"]\n",
    "\n",
    "df.drop(to_drop, inplace=True, axis=1)"
   ]
  },
  {
   "cell_type": "code",
   "execution_count": null,
   "id": "03cc217d",
   "metadata": {
    "slideshow": {
     "slide_type": "skip"
    }
   },
   "outputs": [],
   "source": [
    "# df.head()"
   ]
  },
  {
   "cell_type": "code",
   "execution_count": null,
   "id": "fd3f6a9c",
   "metadata": {
    "slideshow": {
     "slide_type": "skip"
    }
   },
   "outputs": [],
   "source": [
    "# Sprawdzenie, czy projekty się powtarzają\n",
    "df[\"ID\"].duplicated().any()"
   ]
  },
  {
   "cell_type": "markdown",
   "id": "ef6dcaba",
   "metadata": {
    "slideshow": {
     "slide_type": "fragment"
    }
   },
   "source": [
    "## Ogólna analiza danych"
   ]
  },
  {
   "cell_type": "code",
   "execution_count": null,
   "id": "04bd85d0",
   "metadata": {},
   "outputs": [],
   "source": [
    "# Sprawdzenie ile było projektów w poszczególnych krajach\n",
    "project_country = dict(df[\"country\"].value_counts())\n",
    "\n",
    "# project_country"
   ]
  },
  {
   "cell_type": "code",
   "execution_count": null,
   "id": "81f6c649",
   "metadata": {},
   "outputs": [],
   "source": [
    "# Połączenie Luksemburga, Belgii i Holandii w Beneluks\n",
    "\n",
    "df[\"country\"] = df[\"country\"].replace([\"LU\", \"BE\"],\"NL\")\n",
    "\n",
    "project_country = dict(df[\"country\"].value_counts())\n",
    "# project_country"
   ]
  },
  {
   "cell_type": "code",
   "execution_count": null,
   "id": "f3841101",
   "metadata": {
    "scrolled": true
   },
   "outputs": [],
   "source": [
    "# Odrzucenie krajów, w których liczba projektów jest poniżej 1000\n",
    "\n",
    "df = df[(df[\"country\"] != \"SG\") \n",
    "        & (df[\"country\"] != \"JP\") \n",
    "        & (df[\"country\"] != \"AT\") \n",
    "        & (df[\"country\"] != \"HK\")\n",
    "        & (df[\"country\"] != \"NO\")\n",
    "        & (df[\"country\"] != \"CH\")\n",
    "        & (df[\"country\"] != \"IE\")]\n",
    "# df[\"country\"].unique()"
   ]
  },
  {
   "cell_type": "code",
   "execution_count": null,
   "id": "13d9d5b5",
   "metadata": {},
   "outputs": [],
   "source": [
    "# Zaktualizowana liczba projektów w poszczególnych krajach\n",
    "\n",
    "project_country_s = dict(df[\"country\"].value_counts())\n",
    "# project_country_s"
   ]
  },
  {
   "cell_type": "code",
   "execution_count": null,
   "id": "a956ca19",
   "metadata": {
    "scrolled": true
   },
   "outputs": [],
   "source": [
    "# Odfiltrowanie projektów, które odniosły sukces w poszczególnych krajach\n",
    "\n",
    "success_filter = df[df[\"state_new\"] == 1]\n",
    "group_success_filter = success_filter.groupby(by=[\"country\"])\n",
    "sum_success = dict(group_success_filter[\"state_new\"].sum())\n",
    "\n",
    "# sum_success"
   ]
  },
  {
   "cell_type": "code",
   "execution_count": null,
   "id": "84ad078b",
   "metadata": {},
   "outputs": [],
   "source": [
    "# Wizualizacja liczby projektów w poszczególnych krajch - sumarycznie i tych, które zdobyły finansowanie\n",
    "\n",
    "all_country_list = []\n",
    "success_country_list = []\n",
    "country_list = []\n",
    "for k, v in project_country_s.items():\n",
    "    all_country_list.append(v)\n",
    "    success_item = sum_success[k]\n",
    "    success_country_list.append(success_item)\n",
    "    country_list.append(k)\n",
    "        \n",
    "# print(all_country_list)\n",
    "# print(success_country_list)\n",
    "# print(country_list)"
   ]
  },
  {
   "cell_type": "code",
   "execution_count": null,
   "id": "140cf2f7",
   "metadata": {
    "slideshow": {
     "slide_type": "notes"
    }
   },
   "outputs": [],
   "source": [
    "sns.set_theme(style=\"whitegrid\")\n",
    "\n",
    "# Ustawienia ogólne dla wykresu\n",
    "f, ax = plt.subplots(figsize=(15, 10))\n",
    "plt.title(\"Number of projects in selected countries\", fontdict={'fontsize': 18})\n",
    "plt.xticks(fontsize=14)\n",
    "plt.yticks(fontsize=14)\n",
    "plt.ylabel('Number of projects', fontdict={'fontsize': 16})\n",
    "\n",
    "# Wykres ogólnej liczby projektów\n",
    "sns.set(font_scale=1.5)\n",
    "sns.set_color_codes(\"pastel\")\n",
    "sns.barplot(x=country_list, y=all_country_list,\n",
    "            label=\"Total\", color=\"r\")\n",
    "\n",
    "# Wykres liczby projektów, które uzyskały finansowanie\n",
    "sns.set_color_codes(\"muted\")\n",
    "sns.barplot(x=country_list, y=success_country_list,\n",
    "            label=\"Succeed\", color=\"r\")\n",
    "\n",
    "# Formatowanie legendy\n",
    "ax.legend(ncol=2, loc=\"center right\", frameon=True)\n",
    "sns.despine(left=True, bottom=True)"
   ]
  },
  {
   "cell_type": "code",
   "execution_count": null,
   "id": "af8fd6ff",
   "metadata": {
    "slideshow": {
     "slide_type": "skip"
    }
   },
   "outputs": [],
   "source": [
    "# Procent projektów, które się udały\n",
    "\n",
    "perc_success = {key: round(((sum_success[key] / project_country[key]) * 100), 1) for key, value in sum_success.items()}\n",
    "\n",
    "# Procent projektów, które się udały - sortowanie wartości\n",
    "\n",
    "perc_success_sort = {k: v for k, v in sorted(perc_success.items(), key=lambda item: item[1], reverse=True)}"
   ]
  },
  {
   "cell_type": "code",
   "execution_count": null,
   "id": "bb1fca50",
   "metadata": {
    "slideshow": {
     "slide_type": "skip"
    }
   },
   "outputs": [],
   "source": [
    "# Wizualizacja odsetka sfinansowanych projektów w zależności od kraju\n",
    "\n",
    "perc_country_list = []\n",
    "country_list_2 = []\n",
    "for country, perc in perc_success_sort.items():\n",
    "    perc_country_list.append(perc)\n",
    "    country_list_2.append(country)\n",
    "        \n",
    "# print(perc_country_list)\n",
    "# print(country_list_2)"
   ]
  },
  {
   "cell_type": "code",
   "execution_count": null,
   "id": "b7fa9194",
   "metadata": {
    "scrolled": true,
    "slideshow": {
     "slide_type": "notes"
    }
   },
   "outputs": [],
   "source": [
    "sns.set_theme(style=\"white\", context=\"talk\")\n",
    "\n",
    "plt.figure(figsize=(15, 5))\n",
    "plt.title(\"Percent of successful projects in selected countries\", fontdict={'fontsize': 18})\n",
    "plt.ylabel(\"Successful projects [%]\", fontdict={'fontsize': 16})\n",
    "\n",
    "sns.barplot(x=country_list_2, y=perc_country_list, palette=\"magma\")\n",
    "\n",
    "sns.despine(left=True);"
   ]
  },
  {
   "cell_type": "markdown",
   "id": "0167d233",
   "metadata": {},
   "source": [
    "#### Charakterystyka rozkładu liczby osób wspierających projekty"
   ]
  },
  {
   "cell_type": "code",
   "execution_count": null,
   "id": "412fde6a",
   "metadata": {},
   "outputs": [],
   "source": [
    "# Charakterystyka rozkładu liczby osób wspierających projekty\n",
    "\n",
    "df.groupby(by=\"country\")[\"backers\"].describe().style.set_properties(**{'text-align':'center', 'padding':'15px'})"
   ]
  },
  {
   "cell_type": "code",
   "execution_count": null,
   "id": "772c164c",
   "metadata": {
    "scrolled": true
   },
   "outputs": [],
   "source": [
    "# Wizualizacja rozkładu liczby osób wspierających projekty\n",
    "\n",
    "sns.set_theme(style=\"whitegrid\")\n",
    "\n",
    "# Ogólne ustawienia dla wykresu\n",
    "fig, ax = plt.subplots(figsize=(15, 5))\n",
    "\n",
    "plt.title(\"Distribution of the project's backers\", fontdict={'fontsize': 18})\n",
    "\n",
    "# Wykres skrzynkowy dla rozkładu liczby osób wspierających projekty\n",
    "sns.boxplot(x=df[\"backers\"], y=df[\"country\"]);\n",
    "\n",
    "ax.set_xlabel(\"Backers\",fontsize=15)\n",
    "ax.tick_params(labelsize=15)\n",
    "ax.set_ylabel(\"\",fontsize=15)\n",
    "sns.despine(left=True);"
   ]
  },
  {
   "cell_type": "code",
   "execution_count": null,
   "id": "dedba072",
   "metadata": {},
   "outputs": [],
   "source": [
    "# Usunięcie 5 % najwyższych wartości\n",
    "\n",
    "df_95b = df[(df[\"backers\"] < np.quantile(df[\"backers\"],0.95))]"
   ]
  },
  {
   "cell_type": "code",
   "execution_count": null,
   "id": "602736d2",
   "metadata": {
    "scrolled": false
   },
   "outputs": [],
   "source": [
    "# Wizualizacja rozkładu liczby osób wspierających projekty\n",
    "\n",
    "sns.set_theme(style=\"whitegrid\")\n",
    "\n",
    "# Ogólne ustawienia dla wykresu\n",
    "fig, ax = plt.subplots(figsize=(15, 5))\n",
    "\n",
    "plt.title(\"Distribution project's backers ( < 95 %)\", fontdict={'fontsize': 18})\n",
    "\n",
    "# Wykres skrzynkowy dla rozkładu liczby osób wspierających projekty\n",
    "sns.boxplot(x=df_95b[\"backers\"], y=df_95b[\"country\"]);\n",
    "\n",
    "ax.set_xlabel(\"Backers\",fontsize=15)\n",
    "ax.tick_params(labelsize=15)\n",
    "ax.set_ylabel(\"\",fontsize=15)\n",
    "sns.despine(left=True);"
   ]
  },
  {
   "cell_type": "code",
   "execution_count": null,
   "id": "cd4c42c9",
   "metadata": {},
   "outputs": [],
   "source": [
    "sns.set_theme(style=\"whitegrid\")\n",
    "\n",
    "plt.figure(figsize=(15, 8))\n",
    "plt.title(\"Distribution of project's backers ( < 95 %)\", fontdict={'fontsize': 18})\n",
    "plt.xlabel('Backers', fontdict={'fontsize': 15})\n",
    "plt.ylabel(\"\", fontdict={'fontsize': 15})\n",
    "plt.xticks(fontsize=15)\n",
    "plt.yticks(fontsize=15)\n",
    "\n",
    "sns.histplot(df_95b[\"backers\"], bins=100, kde=True, color=\"indigo\");"
   ]
  },
  {
   "cell_type": "markdown",
   "id": "39c45796",
   "metadata": {},
   "source": [
    "#### Charakterystyka rozkładu liczby osób wspierających sfinansowane projekty"
   ]
  },
  {
   "cell_type": "code",
   "execution_count": null,
   "id": "0ac8f8f0",
   "metadata": {
    "scrolled": false
   },
   "outputs": [],
   "source": [
    "# Charakterystyka rozkładu liczby osób wspierających projekty, które uzyskały finansowanie\n",
    "\n",
    "success_filter.groupby(by=\"country\")[\"backers\"].describe().style.set_properties(**{'text-align':'center', 'padding':'15px'})"
   ]
  },
  {
   "cell_type": "code",
   "execution_count": null,
   "id": "7a8fc5ca",
   "metadata": {},
   "outputs": [],
   "source": [
    "# Wizualizacja rozkładu liczby osób wspierających projekty, które uzyskały finansowanie\n",
    "\n",
    "sns.set_theme(style=\"whitegrid\")\n",
    "\n",
    "# Ogólne ustawienia dla wykresu\n",
    "fig, ax = plt.subplots(figsize=(15, 5))\n",
    "\n",
    "plt.title(\"Distribution of the successful project's backers\", fontdict={'fontsize': 18})\n",
    "\n",
    "# Wykres skrzynkowy dla rozkładu liczby osób wspierających projekty\n",
    "sns.boxplot(x=success_filter[\"backers\"], y=success_filter[\"country\"]);\n",
    "\n",
    "ax.set_xlabel(\"Backers\",fontsize=15)\n",
    "ax.tick_params(labelsize=15)\n",
    "ax.set_ylabel(\"\",fontsize=15)\n",
    "sns.despine(left=True);"
   ]
  },
  {
   "cell_type": "code",
   "execution_count": null,
   "id": "ddb026cd",
   "metadata": {},
   "outputs": [],
   "source": [
    "# Usunięcie 5 % najwyższych wartości\n",
    "\n",
    "df_95bs = success_filter[(success_filter[\"backers\"] < np.quantile(success_filter[\"backers\"],0.95))]"
   ]
  },
  {
   "cell_type": "code",
   "execution_count": null,
   "id": "3975dc61",
   "metadata": {
    "scrolled": true
   },
   "outputs": [],
   "source": [
    "# Wizualizacja rozkładu liczby osób wspierających projekty, które uzyskały finansowanie\n",
    "\n",
    "sns.set_theme(style=\"whitegrid\")\n",
    "\n",
    "# Ogólne ustawienia dla wykresu\n",
    "fig, ax = plt.subplots(figsize=(15, 5))\n",
    "\n",
    "plt.title(\"Distribution of successful project's backers ( < 95 %)\", fontdict={'fontsize': 18})\n",
    "\n",
    "# Wykres skrzynkowy dla rozkładu liczby osób wspierających projekty\n",
    "sns.boxplot(x=df_95bs[\"backers\"], y=df_95bs[\"country\"]);\n",
    "\n",
    "ax.set_xlabel(\"Backers\",fontsize=15)\n",
    "ax.tick_params(labelsize=15)\n",
    "ax.set_ylabel(\"\",fontsize=15)\n",
    "sns.despine(left=True);"
   ]
  },
  {
   "cell_type": "code",
   "execution_count": null,
   "id": "004d3654",
   "metadata": {},
   "outputs": [],
   "source": [
    "sns.set_theme(style=\"whitegrid\")\n",
    "\n",
    "plt.figure(figsize=(15, 8))\n",
    "plt.title(\"Distribution of successful project's backers ( < 95 %)\", fontdict={'fontsize': 18})\n",
    "plt.xlabel('Backers', fontdict={'fontsize': 15})\n",
    "plt.ylabel(\"\", fontdict={'fontsize': 15})\n",
    "plt.xticks(fontsize=13)\n",
    "plt.yticks(fontsize=13)\n",
    "\n",
    "sns.histplot(df_95bs[\"backers\"], bins=100, kde=True, color=\"indigo\");"
   ]
  },
  {
   "cell_type": "markdown",
   "id": "ffada9a6",
   "metadata": {},
   "source": [
    "## Wyodrębnienie czynników mających wpływ na zakończenie projektu sukcesem"
   ]
  },
  {
   "cell_type": "markdown",
   "id": "5dc17668",
   "metadata": {},
   "source": [
    "### 1. Miesiąc rozpoczęcia zbiórki"
   ]
  },
  {
   "cell_type": "code",
   "execution_count": null,
   "id": "c37e8507",
   "metadata": {
    "scrolled": false
   },
   "outputs": [],
   "source": [
    "# Wyodrębnienie roku i miesiąca z danych \n",
    "\n",
    "df['year_launched'] = pd.DatetimeIndex(df['launched_new']).year\n",
    "df['month_launched'] = pd.DatetimeIndex(df['launched_new']).month\n",
    "df['year_deadline'] = pd.DatetimeIndex(df['deadline_new']).year\n",
    "df['month_deadline'] = pd.DatetimeIndex(df['deadline_new']).month\n",
    "# df.head()"
   ]
  },
  {
   "cell_type": "code",
   "execution_count": null,
   "id": "d4dd7a60",
   "metadata": {},
   "outputs": [],
   "source": [
    "# Sprawdzenie ile projektów powstało w poszczególnych latach\n",
    "\n",
    "df[\"year_launched\"].value_counts()"
   ]
  },
  {
   "cell_type": "code",
   "execution_count": null,
   "id": "2d6515a0",
   "metadata": {},
   "outputs": [],
   "source": [
    "# Usunięcie rekordów z 1970 roku\n",
    "\n",
    "df = df[df[\"year_launched\"] != 1970]\n",
    "df[\"year_launched\"].unique()"
   ]
  },
  {
   "cell_type": "code",
   "execution_count": null,
   "id": "28744898",
   "metadata": {},
   "outputs": [],
   "source": [
    "# Ile było rozpoczętych projektów w poszczególnych krajach w danym miesiącu\n",
    "\n",
    "all_month_grouped = df.groupby(by=[\"country\", \"month_launched\"]).size().reset_index(name=\"sum\")\n",
    "\n",
    "# Usuwam US z danych do Heatmap ze względu na to, że znacznie zawyża górną granicę danych (nie widać różnic w innych krajach)\n",
    "all_month_grouped_us = all_month_grouped[all_month_grouped[\"country\"] != \"US\"]\n"
   ]
  },
  {
   "cell_type": "code",
   "execution_count": null,
   "id": "61aec41c",
   "metadata": {
    "scrolled": false
   },
   "outputs": [],
   "source": [
    "# Przygotowanie danych do Heatmap'y\n",
    "\n",
    "df_month = all_month_grouped_us.pivot(\"country\", \"month_launched\", \"sum\")\n",
    "# df_month"
   ]
  },
  {
   "cell_type": "code",
   "execution_count": null,
   "id": "3a1bb8f7",
   "metadata": {},
   "outputs": [],
   "source": [
    "# Wizualizacja liczby projektów w analizowanych krajach w poszczególnych miesiącach\n",
    "\n",
    "fig, ax = plt.subplots(figsize=(15, 8))\n",
    "\n",
    "plt.title(\"No. of projects\", fontdict={'fontsize': 18})\n",
    "\n",
    "sns.heatmap(df_month, fmt=\"d\", annot=True, annot_kws={\"fontsize\":15}, linewidths=.5, cmap=\"RdPu\")\n",
    "\n",
    "ax.set_xlabel(\"Months\",fontsize=15)\n",
    "ax.tick_params(labelsize=15)\n",
    "ax.set_ylabel(\"Countries\",fontsize=15);"
   ]
  },
  {
   "cell_type": "code",
   "execution_count": null,
   "id": "87817e8d",
   "metadata": {},
   "outputs": [],
   "source": [
    "# Odfiltrowanie projektów, które uzyskały finansowanie\n",
    "\n",
    "success_filter = df[df[\"state_new\"] == 1]\n",
    "\n",
    "month_grouped = success_filter.groupby(by=[\"country\", \"month_launched\"]).size().reset_index(name=\"sum_success\")"
   ]
  },
  {
   "cell_type": "code",
   "execution_count": null,
   "id": "05aacedf",
   "metadata": {},
   "outputs": [],
   "source": [
    "# Stworzenie tabeli z pogrupowanymi projektami\n",
    "\n",
    "df_merge_month = pd.merge(all_month_grouped, month_grouped, on=[\"country\", \"month_launched\"], how=\"left\")\n",
    "\n",
    "df_merge_month[\"perc_success\"] = round(100 * df_merge_month[\"sum_success\"] / df_merge_month[\"sum\"], 2)"
   ]
  },
  {
   "cell_type": "code",
   "execution_count": null,
   "id": "cbf6e6d0",
   "metadata": {
    "scrolled": true
   },
   "outputs": [],
   "source": [
    "# Przygotowanie danych do Heatmap'y\n",
    "\n",
    "df_month_perc = df_merge_month.pivot(\"country\", \"month_launched\", \"perc_success\")"
   ]
  },
  {
   "cell_type": "code",
   "execution_count": null,
   "id": "5be8490c",
   "metadata": {},
   "outputs": [],
   "source": [
    "# Wizualizacja liczby sfinansowanych projektów w analizowanych krajach w poszczególnych miesiącach\n",
    "\n",
    "fig, ax = plt.subplots(figsize=(15, 8))\n",
    "\n",
    "plt.title(\"No. of funded projects\", fontdict={'fontsize': 18})\n",
    "\n",
    "sns.heatmap(df_month_perc, annot=True, annot_kws={\"fontsize\":15}, linewidths=.5, cmap=\"RdPu\")\n",
    "\n",
    "ax.set_xlabel(\"Months\",fontsize=15)\n",
    "ax.tick_params(labelsize=15)\n",
    "ax.set_ylabel(\"Countries\",fontsize=15);"
   ]
  },
  {
   "cell_type": "markdown",
   "id": "dacfb0be",
   "metadata": {},
   "source": [
    "#### W związku z tym, że nie ma wyraźnego trendu wskazującego na to, że w jakimś okresie szansa na uzyskanie finansowania projektu  jest większa (zarówno najmniejsze jak i największe wartości są rozdystrybułowane dość przypadkowo), nie bierzemy tej zależności pod uwagę w budowaniu aplikacji."
   ]
  },
  {
   "cell_type": "markdown",
   "id": "d2301424",
   "metadata": {},
   "source": [
    "### 2. Kategoria główna"
   ]
  },
  {
   "cell_type": "code",
   "execution_count": null,
   "id": "df181426",
   "metadata": {},
   "outputs": [],
   "source": [
    "df[\"main_category\"].unique()"
   ]
  },
  {
   "cell_type": "code",
   "execution_count": null,
   "id": "131a6270",
   "metadata": {
    "scrolled": false
   },
   "outputs": [],
   "source": [
    "# Ile było projektów w poszczególnych krajach w danej kategorii\n",
    "\n",
    "all_mcategory_grouped = df.groupby(by=[\"country\", \"main_category\"]).size().reset_index(name=\"sum\")\n",
    "\n",
    "# Ile było projektów, które zostały sfinansowane w poszczególnych krajach w danej kategorii\n",
    "\n",
    "mcategory_grouped = success_filter.groupby(by=[\"country\", \"main_category\"]).size().reset_index(name=\"sum_success\")\n",
    "\n",
    "# Stworzenie tabeli z pogrupowanymi projektami i odsetkiem sfinansowanych projektów\n",
    "\n",
    "df_merge_mcategory = pd.merge(all_mcategory_grouped, mcategory_grouped, on=[\"country\", \"main_category\"], how=\"left\")\n",
    "df_merge_mcategory = df_merge_mcategory.fillna(0.0)\n",
    "df_merge_mcategory[\"perc_success\"] = round(100 * df_merge_mcategory[\"sum_success\"] / df_merge_mcategory[\"sum\"], 2)"
   ]
  },
  {
   "cell_type": "code",
   "execution_count": null,
   "id": "f63c17f8",
   "metadata": {},
   "outputs": [],
   "source": [
    "# Wizualizacja odsetka sfinansowanych projektów w zależności od kategorii, w której projekt został złożony\n",
    "sns.set_theme(style=\"white\", context=\"talk\")\n",
    "\n",
    "fig, ax = plt.subplots(figsize=(15, 5))\n",
    "\n",
    "plt.title(\"Percent of successful projects in selected main categories (US)\", fontdict={'fontsize': 18})\n",
    "\n",
    "df_country = df_merge_mcategory[df_merge_mcategory[\"country\"] == \"US\"]b\n",
    "\n",
    "sns.barplot(x=\"main_category\", y=\"perc_success\", palette=\"magma\", data=df_country)\n",
    "\n",
    "ax.set_xlabel(\"\",fontsize=15)\n",
    "ax.tick_params(labelsize=15, rotation=90)\n",
    "ax.set_ylabel(\"Percent of founded projects [%]\",fontsize=15)\n",
    "sns.despine(left=True);"
   ]
  },
  {
   "cell_type": "code",
   "execution_count": null,
   "id": "646ad2d9",
   "metadata": {
    "scrolled": false
   },
   "outputs": [],
   "source": [
    "# Wizualizacja odsetka sfinansowanych projektów w zależności od kategorii, w której projekt został złożony\n",
    "sns.set_theme(style=\"white\", context=\"talk\")\n",
    "\n",
    "fig, ax = plt.subplots(figsize=(15, 5))\n",
    "\n",
    "plt.title(\"Percent of successful projects in selected main categories (GB)\", fontdict={'fontsize': 18})\n",
    "\n",
    "df_country = df_merge_mcategory[df_merge_mcategory[\"country\"] == \"GB\"]\n",
    "\n",
    "sns.barplot(x=\"main_category\", y=\"perc_success\", palette=\"magma\", data=df_country)\n",
    "\n",
    "ax.set_xlabel(\"\",fontsize=15)\n",
    "ax.tick_params(labelsize=15, rotation=90)\n",
    "ax.set_ylabel(\"Percent of founded projects [%]\",fontsize=15)\n",
    "sns.despine(left=True);"
   ]
  },
  {
   "cell_type": "code",
   "execution_count": null,
   "id": "a482612c",
   "metadata": {
    "scrolled": false
   },
   "outputs": [],
   "source": [
    "# Wizualizacja odsetka sfinansowanych projektów w zależności od kategorii, w której projekt został złożony\n",
    "sns.set_theme(style=\"white\", context=\"talk\")\n",
    "\n",
    "fig, ax = plt.subplots(figsize=(15, 5))\n",
    "\n",
    "plt.title(\"Percent of successful projects in selected main categories (IT)\", fontdict={'fontsize': 18})\n",
    "\n",
    "df_country = df_merge_mcategory[df_merge_mcategory[\"country\"] == \"IT\"]\n",
    "\n",
    "sns.barplot(x=\"main_category\", y=\"perc_success\", palette=\"magma\", data=df_country)\n",
    "\n",
    "ax.set_xlabel(\"\",fontsize=15)\n",
    "ax.tick_params(labelsize=15, rotation=90)\n",
    "ax.set_ylabel(\"Percent of founded projects [%]\",fontsize=15)\n",
    "sns.despine(left=True);"
   ]
  },
  {
   "cell_type": "code",
   "execution_count": null,
   "id": "046fd3e1",
   "metadata": {},
   "outputs": [],
   "source": [
    "# Wizualizacja odsetka sfinansowanych projektów w zależności od kategorii, w której projekt został złożony\n",
    "sns.set_theme(style=\"white\", context=\"talk\")\n",
    "\n",
    "fig, ax = plt.subplots(figsize=(15, 5))\n",
    "\n",
    "plt.title(\"Percent of successful projects in selected main categories (MX)\", fontdict={'fontsize': 18})\n",
    "\n",
    "df_country = df_merge_mcategory[df_merge_mcategory[\"country\"] == \"MX\"]\n",
    "\n",
    "sns.barplot(x=\"main_category\", y=\"perc_success\", palette=\"magma\", data=df_country)\n",
    "\n",
    "ax.set_xlabel(\"\",fontsize=15)\n",
    "ax.tick_params(labelsize=15, rotation=90)\n",
    "ax.set_ylabel(\"Percent of founded projects [%]\",fontsize=15)\n",
    "sns.despine(left=True);"
   ]
  },
  {
   "cell_type": "markdown",
   "id": "fa82742c",
   "metadata": {},
   "source": [
    "#### We wszystkich państwach widać wyraźną zależność powodzenia projektu od tego w jakiej kategorii został złożony, więc kategoria będzie jednym z parametrów analizowanych w aplikacji."
   ]
  },
  {
   "cell_type": "markdown",
   "id": "9dd7a4aa",
   "metadata": {},
   "source": [
    "### 3. Podkategoria"
   ]
  },
  {
   "cell_type": "code",
   "execution_count": null,
   "id": "309574e7",
   "metadata": {},
   "outputs": [],
   "source": [
    "# df[\"category\"].unique()"
   ]
  },
  {
   "cell_type": "code",
   "execution_count": null,
   "id": "33b26885",
   "metadata": {
    "scrolled": false
   },
   "outputs": [],
   "source": [
    "# Ile było projektów w poszczególnych krajach w danej podkategorii\n",
    "\n",
    "all_category_grouped = df.groupby(by=[\"country\", \"main_category\", \"category\"]).size().reset_index(name=\"sum\")\n",
    "\n",
    "# Ile było projektów, które zostały sfinansowane w poszczególnych krajach w danej podkategorii\n",
    "\n",
    "category_grouped = success_filter.groupby(by=[\"country\", \"main_category\", \"category\"]).size().reset_index(name=\"sum_success\")\n",
    "\n",
    "# Stworzenie tabeli z pogrupowanymi projektami i odsetkiem sfinansowanych projektów\n",
    "\n",
    "df_merge_category = pd.merge(all_category_grouped, category_grouped, on=[\"country\", \"main_category\", \"category\"], how=\"left\")\n",
    "df_merge_category = df_merge_category.fillna(0.0)\n",
    "df_merge_category[\"perc_success\"] = round(100 * df_merge_category[\"sum_success\"] / df_merge_category[\"sum\"], 2)\n",
    "\n",
    "# df_merge_category"
   ]
  },
  {
   "cell_type": "code",
   "execution_count": null,
   "id": "2063c2f6",
   "metadata": {},
   "outputs": [],
   "source": [
    "# Wizualizacja odsetka sfinansowanych projektów w zależności od podkategorii, w której projekt został złożony\n",
    "\n",
    "df_country_cat = df_merge_category[ df_merge_category[\"country\"] == \"US\" ]\n",
    "\n",
    "sns.set_theme(style=\"whitegrid\")\n",
    "\n",
    "fig, ax = plt.subplots(figsize=(6, 35))\n",
    "\n",
    "plt.title(\"Percent of successful projects in selected categories\", fontdict={'fontsize': 18})\n",
    "\n",
    "sns.barplot(x=\"perc_success\", y=\"category\", hue=\"main_category\", data=df_country_cat, dodge=False)\n",
    "\n",
    "ax.legend(ncol=1, loc=\"lower right\", frameon=True)\n",
    "ax.set_xlabel(\"Percent of founded projects [%]\",fontsize=15)\n",
    "ax.tick_params(labelsize=12)\n",
    "ax.set_ylabel(\"\",fontsize=20)\n",
    "sns.despine(left=True, bottom=True);"
   ]
  },
  {
   "cell_type": "markdown",
   "id": "9d21819f",
   "metadata": {},
   "source": [
    "#### We wszystkich państwach widać wyraźną zależność powodzenia projektu od tego w jakiej podkategorii został złożony, więc podkategoria jest jednym z parametrów analizowanych w aplikacji."
   ]
  },
  {
   "cell_type": "markdown",
   "id": "4ff6e7e3",
   "metadata": {},
   "source": [
    "### 4. Czas trwania zbiórki"
   ]
  },
  {
   "cell_type": "code",
   "execution_count": null,
   "id": "628d6f3f",
   "metadata": {},
   "outputs": [],
   "source": [
    "# Charakterystyka rozkładu czasu trwania projektów\n",
    "\n",
    "df[\"duration\"].describe().to_frame().style.set_properties(**{'padding':'15px'})"
   ]
  },
  {
   "cell_type": "code",
   "execution_count": null,
   "id": "97dd0f6d",
   "metadata": {},
   "outputs": [],
   "source": [
    "# Wizualizacja czasu trwania projektów w róznych krajach\n",
    "\n",
    "sns.set_theme(style=\"whitegrid\")\n",
    "\n",
    "# Ogólne ustawienia dla wykresu\n",
    "fig, ax = plt.subplots(figsize=(15, 5))\n",
    "\n",
    "plt.title(\"Duration of the project\", fontdict={'fontsize': 18})\n",
    "\n",
    "# Wykres skrzynkowy dla rozkładu czasu trwania projektów\n",
    "sns.boxplot(x=df[\"duration\"], y=df[\"country\"]);\n",
    "\n",
    "ax.set_xlabel(\"Days\",fontsize=15)\n",
    "ax.tick_params(labelsize=15)\n",
    "ax.set_ylabel(\"Countries\",fontsize=15)\n",
    "sns.despine(left=True);"
   ]
  },
  {
   "cell_type": "code",
   "execution_count": null,
   "id": "559995d4",
   "metadata": {},
   "outputs": [],
   "source": [
    "sns.set_theme(style=\"whitegrid\")\n",
    "\n",
    "plt.figure(figsize=(15, 8))\n",
    "plt.title(\"Duration of the project\", fontdict={'fontsize': 18})\n",
    "plt.xlabel('Days', fontdict={'fontsize': 15})\n",
    "plt.ylabel('No. of projects', fontdict={'fontsize': 15})\n",
    "plt.xticks(fontsize=13)\n",
    "plt.yticks(fontsize=13)\n",
    "\n",
    "sns.histplot(df[\"duration\"], bins=25, color=\"indigo\");"
   ]
  },
  {
   "cell_type": "code",
   "execution_count": null,
   "id": "d4271e25",
   "metadata": {},
   "outputs": [],
   "source": [
    "# Charakterystyka rozkładu czasu trwania sfinansowanych projektów\n",
    "\n",
    "success_filter[\"duration\"].describe().to_frame().style.set_properties(**{'padding':'15px'})"
   ]
  },
  {
   "cell_type": "code",
   "execution_count": null,
   "id": "f5bce5a1",
   "metadata": {},
   "outputs": [],
   "source": [
    "# Wizualizacja czasu trwania sfinansowanych projektów\n",
    "\n",
    "sns.set_theme(style=\"whitegrid\")\n",
    "\n",
    "# Ogólne ustawienia dla wykresu\n",
    "fig, ax = plt.subplots(figsize=(15, 5))\n",
    "\n",
    "plt.title(\"Duration of the successful projects\", fontdict={'fontsize': 18})\n",
    "\n",
    "# Wykres skrzynkowy dla rozkładu czasu trwania projektów\n",
    "sns.boxplot(x=success_filter[\"duration\"], y=df[\"country\"]);\n",
    "\n",
    "ax.set_xlabel(\"Days\",fontsize=15)\n",
    "ax.tick_params(labelsize=15)\n",
    "ax.set_ylabel(\"Countries\",fontsize=15)\n",
    "sns.despine(left=True);"
   ]
  },
  {
   "cell_type": "markdown",
   "id": "392a5f60",
   "metadata": {},
   "source": [
    "#### Możliwe jest określenie przedziałów czasowych, które mogłyby zwiększyć prawdopodobieństwo zakończenia zbiórki sukcesem"
   ]
  },
  {
   "cell_type": "markdown",
   "id": "3f1dc866",
   "metadata": {},
   "source": [
    "### 5. Kwota zbiórki"
   ]
  },
  {
   "cell_type": "markdown",
   "id": "6ce74813",
   "metadata": {},
   "source": [
    "#### Charakterystyka rozkładu kwot zgłaszanych zbiórek"
   ]
  },
  {
   "cell_type": "code",
   "execution_count": null,
   "id": "4ad128bf",
   "metadata": {},
   "outputs": [],
   "source": [
    "# Charakterystyka rozkładu kwot docelowych zgłaszanych projektów\n",
    "\n",
    "df.groupby(by=\"country\")[\"usd_goal_real\"].describe().style.set_properties(**{'text-align':'center', 'padding':'15px'})"
   ]
  },
  {
   "cell_type": "code",
   "execution_count": null,
   "id": "14bc41af",
   "metadata": {
    "scrolled": true
   },
   "outputs": [],
   "source": [
    "# Wizualizacja rozkładu kwot docelowych zgłaszanych projektów\n",
    "sns.set_theme(style=\"whitegrid\")\n",
    "\n",
    "# Ogólne ustawienia dla wykresu\n",
    "fig, ax = plt.subplots(figsize=(15, 5))\n",
    "\n",
    "plt.title(\"Distribution of the project's target costs\", fontdict={'fontsize': 18})\n",
    "\n",
    "# Wykres skrzynkowy dla rozkładu kwot projektów w wybranych krajach\n",
    "sns.boxplot(x=df[\"usd_goal_real\"], y=df[\"country\"]);\n",
    "\n",
    "ax.set_xlabel(\"Goal [$]\",fontsize=15)\n",
    "ax.tick_params(labelsize=15)\n",
    "ax.set_ylabel(\"\",fontsize=15)\n",
    "sns.despine(left=True);"
   ]
  },
  {
   "cell_type": "code",
   "execution_count": null,
   "id": "0e8702b6",
   "metadata": {},
   "outputs": [],
   "source": [
    "# Usunięcie 5 % najwyższych wartości\n",
    "\n",
    "df_95 = df[(df['usd_goal_real'] < np.quantile(df['usd_goal_real'],0.95))]"
   ]
  },
  {
   "cell_type": "code",
   "execution_count": null,
   "id": "29b35ec1",
   "metadata": {
    "scrolled": false
   },
   "outputs": [],
   "source": [
    "# Wizualizacja rozkładu kwot docelowych zgłaszanych projektów\n",
    "sns.set_theme(style=\"whitegrid\")\n",
    "\n",
    "# Ogólne ustawienia dla wykresu\n",
    "fig, ax = plt.subplots(figsize=(15, 5))\n",
    "\n",
    "plt.title(\"Distribution of the project's target costs ( < 95 %)\", fontdict={'fontsize': 18})\n",
    "\n",
    "# Wykres skrzynkowy dla rozkładu kwot projektów w wybranych krajach\n",
    "sns.boxplot(x=df_95[\"usd_goal_real\"], y=df_95[\"country\"]);\n",
    "\n",
    "ax.set_xlabel(\"Goal [$]\",fontsize=15)\n",
    "ax.tick_params(labelsize=15)\n",
    "ax.set_ylabel(\"\",fontsize=15)\n",
    "sns.despine(left=True);"
   ]
  },
  {
   "cell_type": "markdown",
   "id": "749865d5",
   "metadata": {},
   "source": [
    "#### Charakterystyka rozkładu kwot sfinansowanych zbiórek"
   ]
  },
  {
   "cell_type": "code",
   "execution_count": null,
   "id": "9c429925",
   "metadata": {},
   "outputs": [],
   "source": [
    "# Charakterystyka rozkładu kwot zebranych zgłaszanych projektów\n",
    "\n",
    "df.groupby(by=\"country\")[\"usd_pledged_real\"].describe().style.set_properties(**{'text-align':'center', 'padding':'15px'})"
   ]
  },
  {
   "cell_type": "code",
   "execution_count": null,
   "id": "dddc9051",
   "metadata": {
    "scrolled": false
   },
   "outputs": [],
   "source": [
    "# Wizualizacja rozkładu kwot zebranych zgłaszanych projektów\n",
    "\n",
    "sns.set_theme(style=\"whitegrid\")\n",
    "\n",
    "# Ogólne ustawienia dla wykresu\n",
    "fig, ax = plt.subplots(figsize=(15, 5))\n",
    "\n",
    "plt.title(\"Distribution of the collected amount of money\", fontdict={'fontsize': 18})\n",
    "\n",
    "# Wykres skrzynkowy dla rozkładu zebranych kwot projektów w wybranych krajach\n",
    "sns.boxplot(x=df[\"usd_pledged_real\"], y=df[\"country\"]);\n",
    "\n",
    "ax.set_xlabel(\"Collected [$]\",fontsize=15)\n",
    "ax.tick_params(labelsize=15)\n",
    "ax.set_ylabel(\"\",fontsize=15)\n",
    "sns.despine(left=True);"
   ]
  },
  {
   "cell_type": "code",
   "execution_count": null,
   "id": "64b889a8",
   "metadata": {},
   "outputs": [],
   "source": [
    "# Usunięcie 5 % najwyższych wartości\n",
    "\n",
    "df_95p = df[(df['usd_pledged_real'] < np.quantile(df['usd_pledged_real'],0.95))]"
   ]
  },
  {
   "cell_type": "code",
   "execution_count": null,
   "id": "e698529e",
   "metadata": {
    "scrolled": false
   },
   "outputs": [],
   "source": [
    "# Wizualizacja rozkładu kwot zebranych zgłaszanych projektów\n",
    "\n",
    "sns.set_theme(style=\"whitegrid\")\n",
    "\n",
    "# Ogólne ustawienia dla wykresu\n",
    "fig, ax = plt.subplots(figsize=(15, 5))\n",
    "\n",
    "plt.title(\"Distribution of the collected amount of money ( < 95 %)\", fontdict={'fontsize': 18})\n",
    "\n",
    "# Wykres skrzynkowy dla rozkładu zebranych kwot projektów w wybranych krajach\n",
    "sns.boxplot(x=df_95p[\"usd_pledged_real\"], y=df_95p[\"country\"]);\n",
    "\n",
    "ax.set_xlabel(\"Collected [$]\",fontsize=15)\n",
    "ax.tick_params(labelsize=15)\n",
    "ax.set_ylabel(\"\",fontsize=15)\n",
    "sns.despine(left=True);"
   ]
  },
  {
   "cell_type": "markdown",
   "id": "fd544c5b",
   "metadata": {},
   "source": [
    "#### Zadeklarowaną kwotę projektu należy uznać za czynnik mający wpływ na jego powodzenie"
   ]
  }
 ],
 "metadata": {
  "kernelspec": {
   "display_name": "Python 3",
   "language": "python",
   "name": "python3"
  },
  "language_info": {
   "codemirror_mode": {
    "name": "ipython",
    "version": 3
   },
   "file_extension": ".py",
   "mimetype": "text/x-python",
   "name": "python",
   "nbconvert_exporter": "python",
   "pygments_lexer": "ipython3",
   "version": "3.8.8"
  }
 },
 "nbformat": 4,
 "nbformat_minor": 5
}
