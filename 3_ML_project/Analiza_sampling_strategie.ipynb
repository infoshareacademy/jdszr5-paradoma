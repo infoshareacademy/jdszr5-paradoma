{
 "cells": [
  {
   "cell_type": "code",
   "execution_count": 16,
   "id": "4c193d8c",
   "metadata": {},
   "outputs": [],
   "source": [
    "import pandas as pd\n",
    "import numpy as np\n",
    "import seaborn as sns\n",
    "import matplotlib.pyplot as plt\n",
    "from scipy import stats\n",
    "\n",
    "from sklearn.preprocessing import StandardScaler\n",
    "from sklearn.model_selection import train_test_split, StratifiedKFold, GridSearchCV, cross_val_score\n",
    "\n",
    "from sklearn.linear_model import LogisticRegression\n",
    "from sklearn.ensemble import RandomForestClassifier\n",
    "from sklearn.neighbors import KNeighborsClassifier\n",
    "import xgboost as xgb\n",
    "from sklearn.svm import SVC\n",
    "\n",
    "from imblearn.over_sampling import RandomOverSampler, SMOTE\n",
    "from imblearn.under_sampling import RandomUnderSampler\n",
    "from imblearn.pipeline import Pipeline\n",
    "\n",
    "from sklearn.metrics import confusion_matrix, classification_report, accuracy_score, roc_auc_score\n",
    "\n",
    "from collections import Counter"
   ]
  },
  {
   "cell_type": "code",
   "execution_count": 25,
   "id": "7cbc7548",
   "metadata": {},
   "outputs": [],
   "source": [
    "df = pd.read_csv('winequality-red.csv')"
   ]
  },
  {
   "cell_type": "code",
   "execution_count": 26,
   "id": "274f7c9a",
   "metadata": {},
   "outputs": [
    {
     "data": {
      "text/html": [
       "<div>\n",
       "<style scoped>\n",
       "    .dataframe tbody tr th:only-of-type {\n",
       "        vertical-align: middle;\n",
       "    }\n",
       "\n",
       "    .dataframe tbody tr th {\n",
       "        vertical-align: top;\n",
       "    }\n",
       "\n",
       "    .dataframe thead th {\n",
       "        text-align: right;\n",
       "    }\n",
       "</style>\n",
       "<table border=\"1\" class=\"dataframe\">\n",
       "  <thead>\n",
       "    <tr style=\"text-align: right;\">\n",
       "      <th></th>\n",
       "      <th>fixed acidity</th>\n",
       "      <th>volatile acidity</th>\n",
       "      <th>citric acid</th>\n",
       "      <th>residual sugar</th>\n",
       "      <th>chlorides</th>\n",
       "      <th>free sulfur dioxide</th>\n",
       "      <th>total sulfur dioxide</th>\n",
       "      <th>density</th>\n",
       "      <th>pH</th>\n",
       "      <th>sulphates</th>\n",
       "      <th>alcohol</th>\n",
       "      <th>quality</th>\n",
       "    </tr>\n",
       "  </thead>\n",
       "  <tbody>\n",
       "    <tr>\n",
       "      <th>0</th>\n",
       "      <td>7.4</td>\n",
       "      <td>0.70</td>\n",
       "      <td>0.00</td>\n",
       "      <td>1.9</td>\n",
       "      <td>0.076</td>\n",
       "      <td>11.0</td>\n",
       "      <td>34.0</td>\n",
       "      <td>0.9978</td>\n",
       "      <td>3.51</td>\n",
       "      <td>0.56</td>\n",
       "      <td>9.4</td>\n",
       "      <td>5</td>\n",
       "    </tr>\n",
       "    <tr>\n",
       "      <th>1</th>\n",
       "      <td>7.8</td>\n",
       "      <td>0.88</td>\n",
       "      <td>0.00</td>\n",
       "      <td>2.6</td>\n",
       "      <td>0.098</td>\n",
       "      <td>25.0</td>\n",
       "      <td>67.0</td>\n",
       "      <td>0.9968</td>\n",
       "      <td>3.20</td>\n",
       "      <td>0.68</td>\n",
       "      <td>9.8</td>\n",
       "      <td>5</td>\n",
       "    </tr>\n",
       "    <tr>\n",
       "      <th>2</th>\n",
       "      <td>7.8</td>\n",
       "      <td>0.76</td>\n",
       "      <td>0.04</td>\n",
       "      <td>2.3</td>\n",
       "      <td>0.092</td>\n",
       "      <td>15.0</td>\n",
       "      <td>54.0</td>\n",
       "      <td>0.9970</td>\n",
       "      <td>3.26</td>\n",
       "      <td>0.65</td>\n",
       "      <td>9.8</td>\n",
       "      <td>5</td>\n",
       "    </tr>\n",
       "    <tr>\n",
       "      <th>3</th>\n",
       "      <td>11.2</td>\n",
       "      <td>0.28</td>\n",
       "      <td>0.56</td>\n",
       "      <td>1.9</td>\n",
       "      <td>0.075</td>\n",
       "      <td>17.0</td>\n",
       "      <td>60.0</td>\n",
       "      <td>0.9980</td>\n",
       "      <td>3.16</td>\n",
       "      <td>0.58</td>\n",
       "      <td>9.8</td>\n",
       "      <td>6</td>\n",
       "    </tr>\n",
       "    <tr>\n",
       "      <th>4</th>\n",
       "      <td>7.4</td>\n",
       "      <td>0.70</td>\n",
       "      <td>0.00</td>\n",
       "      <td>1.9</td>\n",
       "      <td>0.076</td>\n",
       "      <td>11.0</td>\n",
       "      <td>34.0</td>\n",
       "      <td>0.9978</td>\n",
       "      <td>3.51</td>\n",
       "      <td>0.56</td>\n",
       "      <td>9.4</td>\n",
       "      <td>5</td>\n",
       "    </tr>\n",
       "  </tbody>\n",
       "</table>\n",
       "</div>"
      ],
      "text/plain": [
       "   fixed acidity  volatile acidity  citric acid  residual sugar  chlorides  \\\n",
       "0            7.4              0.70         0.00             1.9      0.076   \n",
       "1            7.8              0.88         0.00             2.6      0.098   \n",
       "2            7.8              0.76         0.04             2.3      0.092   \n",
       "3           11.2              0.28         0.56             1.9      0.075   \n",
       "4            7.4              0.70         0.00             1.9      0.076   \n",
       "\n",
       "   free sulfur dioxide  total sulfur dioxide  density    pH  sulphates  \\\n",
       "0                 11.0                  34.0   0.9978  3.51       0.56   \n",
       "1                 25.0                  67.0   0.9968  3.20       0.68   \n",
       "2                 15.0                  54.0   0.9970  3.26       0.65   \n",
       "3                 17.0                  60.0   0.9980  3.16       0.58   \n",
       "4                 11.0                  34.0   0.9978  3.51       0.56   \n",
       "\n",
       "   alcohol  quality  \n",
       "0      9.4        5  \n",
       "1      9.8        5  \n",
       "2      9.8        5  \n",
       "3      9.8        6  \n",
       "4      9.4        5  "
      ]
     },
     "execution_count": 26,
     "metadata": {},
     "output_type": "execute_result"
    }
   ],
   "source": [
    "df.head()"
   ]
  },
  {
   "cell_type": "code",
   "execution_count": 27,
   "id": "ce88e636",
   "metadata": {},
   "outputs": [
    {
     "data": {
      "image/png": "[encoded data removed]",
      "text/plain": [
       "<Figure size 432x288 with 1 Axes>"
      ]
     },
     "metadata": {
      "needs_background": "light"
     },
     "output_type": "display_data"
    }
   ],
   "source": [
    "sns.countplot(x=df.quality);"
   ]
  },
  {
   "cell_type": "code",
   "execution_count": 28,
   "id": "c66e530d",
   "metadata": {
    "scrolled": true
   },
   "outputs": [
    {
     "data": {
      "text/plain": [
       "5    681\n",
       "6    638\n",
       "7    199\n",
       "4     53\n",
       "8     18\n",
       "3     10\n",
       "Name: quality, dtype: int64"
      ]
     },
     "execution_count": 28,
     "metadata": {},
     "output_type": "execute_result"
    }
   ],
   "source": [
    "df.quality.value_counts()"
   ]
  },
  {
   "cell_type": "code",
   "execution_count": 29,
   "id": "5b7871f7",
   "metadata": {},
   "outputs": [],
   "source": [
    "# df[\"good\"] = 0\n",
    "# df.loc[df[\"quality\"]>= 6, \"good\"] = 1"
   ]
  },
  {
   "cell_type": "code",
   "execution_count": 30,
   "id": "aaf86358",
   "metadata": {},
   "outputs": [
    {
     "data": {
      "text/html": [
       "<div>\n",
       "<style scoped>\n",
       "    .dataframe tbody tr th:only-of-type {\n",
       "        vertical-align: middle;\n",
       "    }\n",
       "\n",
       "    .dataframe tbody tr th {\n",
       "        vertical-align: top;\n",
       "    }\n",
       "\n",
       "    .dataframe thead th {\n",
       "        text-align: right;\n",
       "    }\n",
       "</style>\n",
       "<table border=\"1\" class=\"dataframe\">\n",
       "  <thead>\n",
       "    <tr style=\"text-align: right;\">\n",
       "      <th></th>\n",
       "      <th>fixed acidity</th>\n",
       "      <th>volatile acidity</th>\n",
       "      <th>citric acid</th>\n",
       "      <th>residual sugar</th>\n",
       "      <th>chlorides</th>\n",
       "      <th>free sulfur dioxide</th>\n",
       "      <th>total sulfur dioxide</th>\n",
       "      <th>density</th>\n",
       "      <th>pH</th>\n",
       "      <th>sulphates</th>\n",
       "      <th>alcohol</th>\n",
       "      <th>quality</th>\n",
       "    </tr>\n",
       "  </thead>\n",
       "  <tbody>\n",
       "    <tr>\n",
       "      <th>0</th>\n",
       "      <td>7.4</td>\n",
       "      <td>0.70</td>\n",
       "      <td>0.00</td>\n",
       "      <td>1.9</td>\n",
       "      <td>0.076</td>\n",
       "      <td>11.0</td>\n",
       "      <td>34.0</td>\n",
       "      <td>0.9978</td>\n",
       "      <td>3.51</td>\n",
       "      <td>0.56</td>\n",
       "      <td>9.4</td>\n",
       "      <td>5</td>\n",
       "    </tr>\n",
       "    <tr>\n",
       "      <th>1</th>\n",
       "      <td>7.8</td>\n",
       "      <td>0.88</td>\n",
       "      <td>0.00</td>\n",
       "      <td>2.6</td>\n",
       "      <td>0.098</td>\n",
       "      <td>25.0</td>\n",
       "      <td>67.0</td>\n",
       "      <td>0.9968</td>\n",
       "      <td>3.20</td>\n",
       "      <td>0.68</td>\n",
       "      <td>9.8</td>\n",
       "      <td>5</td>\n",
       "    </tr>\n",
       "    <tr>\n",
       "      <th>2</th>\n",
       "      <td>7.8</td>\n",
       "      <td>0.76</td>\n",
       "      <td>0.04</td>\n",
       "      <td>2.3</td>\n",
       "      <td>0.092</td>\n",
       "      <td>15.0</td>\n",
       "      <td>54.0</td>\n",
       "      <td>0.9970</td>\n",
       "      <td>3.26</td>\n",
       "      <td>0.65</td>\n",
       "      <td>9.8</td>\n",
       "      <td>5</td>\n",
       "    </tr>\n",
       "    <tr>\n",
       "      <th>3</th>\n",
       "      <td>11.2</td>\n",
       "      <td>0.28</td>\n",
       "      <td>0.56</td>\n",
       "      <td>1.9</td>\n",
       "      <td>0.075</td>\n",
       "      <td>17.0</td>\n",
       "      <td>60.0</td>\n",
       "      <td>0.9980</td>\n",
       "      <td>3.16</td>\n",
       "      <td>0.58</td>\n",
       "      <td>9.8</td>\n",
       "      <td>6</td>\n",
       "    </tr>\n",
       "    <tr>\n",
       "      <th>4</th>\n",
       "      <td>7.4</td>\n",
       "      <td>0.70</td>\n",
       "      <td>0.00</td>\n",
       "      <td>1.9</td>\n",
       "      <td>0.076</td>\n",
       "      <td>11.0</td>\n",
       "      <td>34.0</td>\n",
       "      <td>0.9978</td>\n",
       "      <td>3.51</td>\n",
       "      <td>0.56</td>\n",
       "      <td>9.4</td>\n",
       "      <td>5</td>\n",
       "    </tr>\n",
       "  </tbody>\n",
       "</table>\n",
       "</div>"
      ],
      "text/plain": [
       "   fixed acidity  volatile acidity  citric acid  residual sugar  chlorides  \\\n",
       "0            7.4              0.70         0.00             1.9      0.076   \n",
       "1            7.8              0.88         0.00             2.6      0.098   \n",
       "2            7.8              0.76         0.04             2.3      0.092   \n",
       "3           11.2              0.28         0.56             1.9      0.075   \n",
       "4            7.4              0.70         0.00             1.9      0.076   \n",
       "\n",
       "   free sulfur dioxide  total sulfur dioxide  density    pH  sulphates  \\\n",
       "0                 11.0                  34.0   0.9978  3.51       0.56   \n",
       "1                 25.0                  67.0   0.9968  3.20       0.68   \n",
       "2                 15.0                  54.0   0.9970  3.26       0.65   \n",
       "3                 17.0                  60.0   0.9980  3.16       0.58   \n",
       "4                 11.0                  34.0   0.9978  3.51       0.56   \n",
       "\n",
       "   alcohol  quality  \n",
       "0      9.4        5  \n",
       "1      9.8        5  \n",
       "2      9.8        5  \n",
       "3      9.8        6  \n",
       "4      9.4        5  "
      ]
     },
     "execution_count": 30,
     "metadata": {},
     "output_type": "execute_result"
    }
   ],
   "source": [
    "df.head()"
   ]
  },
  {
   "cell_type": "markdown",
   "id": "2d97ac16",
   "metadata": {},
   "source": [
    "### Podział na zbiór treningowy i testowy"
   ]
  },
  {
   "cell_type": "code",
   "execution_count": 31,
   "id": "ff5f7c9c",
   "metadata": {},
   "outputs": [
    {
     "data": {
      "text/plain": [
       "5    477\n",
       "6    446\n",
       "7    139\n",
       "4     37\n",
       "8     13\n",
       "3      7\n",
       "Name: quality, dtype: int64"
      ]
     },
     "execution_count": 31,
     "metadata": {},
     "output_type": "execute_result"
    }
   ],
   "source": [
    "# Podział na zbiór treningowy i testowy\n",
    "X = df.drop(\"quality\", axis=1)\n",
    "y = df.quality\n",
    "\n",
    "X_train, X_test, y_train, y_test = train_test_split(X, y, test_size=0.3, stratify = df.quality, random_state=0)\n",
    "y_train.value_counts()"
   ]
  },
  {
   "cell_type": "markdown",
   "id": "cd94cc70",
   "metadata": {},
   "source": [
    "### Oversampling / Undersampling"
   ]
  },
  {
   "cell_type": "markdown",
   "id": "aa2deddb",
   "metadata": {},
   "source": [
    "## KNN"
   ]
  },
  {
   "cell_type": "code",
   "execution_count": 51,
   "id": "5126826e",
   "metadata": {
    "scrolled": true
   },
   "outputs": [],
   "source": [
    "%%capture --no-display\n",
    "\n",
    "strategy_list = [{3: 277, 4: 277, 8: 277}, {3: 377, 4: 377, 8: 377}, {3: 477, 4: 477, 8: 477}, {3: 577, 4: 577, 8: 577}, {3: 677, 4: 677, 8: 677}]\n",
    "\n",
    "train_list = []\n",
    "test_list = []\n",
    "\n",
    "for over in strategy_list:\n",
    "    \n",
    "    # instantiating over and under sampler                 \n",
    "    over_strategy = SMOTE(sampling_strategy=over, random_state=20)\n",
    "\n",
    "    X_combined, y_combined = over_strategy.fit_resample(X_train, y_train)\n",
    "    \n",
    "    # Normalizacja\n",
    "    scaler = StandardScaler()\n",
    "    scaler.fit(X_combined)\n",
    "\n",
    "    X_train_std = scaler.transform(X_combined)\n",
    "    X_test_std = scaler.transform(X_test)\n",
    "\n",
    "    skf = StratifiedKFold(n_splits=5, shuffle=True, random_state=12)\n",
    "\n",
    "    # Model KNN\n",
    "\n",
    "    model_KNN = KNeighborsClassifier(n_neighbors=7, p=1)\n",
    "    model_KNN.fit(X_train_std, y_combined)\n",
    "\n",
    "    train_score = cross_val_score(model_KNN, X_train_std, y_combined, cv=skf, scoring=\"roc_auc_ovr\")\n",
    "    test_score = roc_auc_score(y_test, model_KNN.predict_proba(X_test_std), multi_class='ovr')\n",
    "    \n",
    "    train_list.append(train_score.mean())\n",
    "    test_list.append(test_score.mean())"
   ]
  },
  {
   "cell_type": "code",
   "execution_count": 52,
   "id": "29752176",
   "metadata": {},
   "outputs": [
    {
     "data": {
      "text/plain": [
       "[<matplotlib.lines.Line2D at 0x25bd3366070>]"
      ]
     },
     "execution_count": 52,
     "metadata": {},
     "output_type": "execute_result"
    },
    {
     "data": {
      "image/png": "[encoded data removed]",
      "text/plain": [
       "<Figure size 432x288 with 1 Axes>"
      ]
     },
     "metadata": {
      "needs_background": "light"
     },
     "output_type": "display_data"
    }
   ],
   "source": [
    "plt.plot(range(1, len(strategy_list)+1), train_list, \"red\")\n"
   ]
  },
  {
   "cell_type": "code",
   "execution_count": 53,
   "id": "b3ef8174",
   "metadata": {
    "scrolled": true
   },
   "outputs": [
    {
     "data": {
      "text/plain": [
       "[<matplotlib.lines.Line2D at 0x25bd33c9970>]"
      ]
     },
     "execution_count": 53,
     "metadata": {},
     "output_type": "execute_result"
    },
    {
     "data": {
      "image/png": "[encoded data removed]",
      "text/plain": [
       "<Figure size 432x288 with 1 Axes>"
      ]
     },
     "metadata": {
      "needs_background": "light"
     },
     "output_type": "display_data"
    }
   ],
   "source": [
    "plt.plot(range(1, len(strategy_list)+1), test_list, \"blue\")"
   ]
  },
  {
   "cell_type": "code",
   "execution_count": 54,
   "id": "c5595bdb",
   "metadata": {
    "scrolled": true
   },
   "outputs": [
    {
     "data": {
      "text/plain": [
       "<matplotlib.legend.Legend at 0x25bd33faf70>"
      ]
     },
     "execution_count": 54,
     "metadata": {},
     "output_type": "execute_result"
    },
    {
     "data": {
      "image/png": "[encoded data removed]",
      "text/plain": [
       "<Figure size 432x288 with 1 Axes>"
      ]
     },
     "metadata": {
      "needs_background": "light"
     },
     "output_type": "display_data"
    }
   ],
   "source": [
    "plt.plot(range(1, len(strategy_list)+1), train_list, \"red\")\n",
    "plt.plot(range(1, len(strategy_list)+1), test_list, \"blue\")\n",
    "plt.legend([\"train\", \"test\"])"
   ]
  },
  {
   "cell_type": "markdown",
   "id": "cf04cab3",
   "metadata": {},
   "source": [
    "## XGB"
   ]
  },
  {
   "cell_type": "code",
   "execution_count": 64,
   "id": "85bfe684",
   "metadata": {},
   "outputs": [],
   "source": [
    "%%capture --no-display\n",
    "\n",
    "strategy_list = [{3: 177, 4: 177, 8: 177}, {3: 277, 4: 277, 8: 277}, {3: 377, 4: 377, 8: 377}, {3: 477, 4: 477, 8: 477}, {3: 577, 4: 577, 8: 577}, {3: 677, 4: 677, 8: 677}]\n",
    "\n",
    "train_list = []\n",
    "test_list = []\n",
    "\n",
    "for over in strategy_list:\n",
    "    \n",
    "    # instantiating over and under sampler                 \n",
    "    over_strategy = SMOTE(sampling_strategy=over, random_state=20)\n",
    "\n",
    "    X_combined, y_combined = over_strategy.fit_resample(X_train, y_train)\n",
    "    \n",
    "    # Normalizacja\n",
    "    scaler = StandardScaler()\n",
    "    scaler.fit(X_combined)\n",
    "\n",
    "    X_train_std = scaler.transform(X_combined)\n",
    "    X_test_std = scaler.transform(X_test)\n",
    "\n",
    "    skf = StratifiedKFold(n_splits=5, shuffle=True, random_state=12)\n",
    "    \n",
    "    # XgBoost\n",
    "\n",
    "    model_xgb = xgb.XGBClassifier(random_state=12, booster='gbtree', learning_rate=0.1, \n",
    "                                  max_depth=10, n_estimators=150, num_class=6, \n",
    "                                  objective='multi:softmax', reg_alpha=1)\n",
    "    \n",
    "    model_xgb.fit(X_train_std, y_combined)\n",
    "\n",
    "    train_score = cross_val_score(model_xgb, X_train_std, y_combined, cv=skf, scoring=\"roc_auc_ovr\")\n",
    "\n",
    "    test_score = roc_auc_score(y_test, model_xgb.predict_proba(X_test_std), multi_class=\"ovr\")\n",
    "\n",
    "    train_list.append(train_score.mean())\n",
    "    test_list.append(test_score.mean())"
   ]
  },
  {
   "cell_type": "code",
   "execution_count": 65,
   "id": "fbb7b0a9",
   "metadata": {},
   "outputs": [
    {
     "data": {
      "text/plain": [
       "[<matplotlib.lines.Line2D at 0x25bd573a430>]"
      ]
     },
     "execution_count": 65,
     "metadata": {},
     "output_type": "execute_result"
    },
    {
     "data": {
      "image/png": "[encoded data removed]",
      "text/plain": [
       "<Figure size 432x288 with 1 Axes>"
      ]
     },
     "metadata": {
      "needs_background": "light"
     },
     "output_type": "display_data"
    }
   ],
   "source": [
    "plt.plot(range(1, len(strategy_list)+1), train_list, \"red\")\n"
   ]
  },
  {
   "cell_type": "code",
   "execution_count": 66,
   "id": "4ae79d65",
   "metadata": {},
   "outputs": [
    {
     "data": {
      "text/plain": [
       "[<matplotlib.lines.Line2D at 0x25bd57b6250>]"
      ]
     },
     "execution_count": 66,
     "metadata": {},
     "output_type": "execute_result"
    },
    {
     "data": {
      "image/png": "[encoded data removed]",
      "text/plain": [
       "<Figure size 432x288 with 1 Axes>"
      ]
     },
     "metadata": {
      "needs_background": "light"
     },
     "output_type": "display_data"
    }
   ],
   "source": [
    "plt.plot(range(1, len(strategy_list)+1), test_list, \"blue\")"
   ]
  },
  {
   "cell_type": "code",
   "execution_count": 67,
   "id": "3abcf3eb",
   "metadata": {
    "scrolled": true
   },
   "outputs": [
    {
     "data": {
      "text/plain": [
       "<matplotlib.legend.Legend at 0x25bd57c6b50>"
      ]
     },
     "execution_count": 67,
     "metadata": {},
     "output_type": "execute_result"
    },
    {
     "data": {
      "image/png": "[encoded data removed]",
      "text/plain": [
       "<Figure size 432x288 with 1 Axes>"
      ]
     },
     "metadata": {
      "needs_background": "light"
     },
     "output_type": "display_data"
    }
   ],
   "source": [
    "plt.plot(range(1, len(strategy_list)+1), train_list, \"red\")\n",
    "plt.plot(range(1, len(strategy_list)+1), test_list, \"blue\")\n",
    "plt.legend([\"train\", \"test\"])"
   ]
  },
  {
   "cell_type": "markdown",
   "id": "14e39792",
   "metadata": {},
   "source": [
    "## Random Forest"
   ]
  },
  {
   "cell_type": "code",
   "execution_count": 68,
   "id": "e3c84428",
   "metadata": {},
   "outputs": [],
   "source": [
    "%%capture --no-display\n",
    "\n",
    "strategy_list = [{3: 177, 4: 177, 8: 177}, {3: 277, 4: 277, 8: 277}, {3: 377, 4: 377, 8: 377}, {3: 477, 4: 477, 8: 477}, {3: 577, 4: 577, 8: 577}, {3: 677, 4: 677, 8: 677}]\n",
    "\n",
    "train_list = []\n",
    "test_list = []\n",
    "\n",
    "for over in strategy_list:\n",
    "    \n",
    "    # instantiating over and under sampler                 \n",
    "    over_strategy = SMOTE(sampling_strategy=over, random_state=20)\n",
    "\n",
    "    X_combined, y_combined = over_strategy.fit_resample(X_train, y_train)\n",
    "    \n",
    "    # Normalizacja\n",
    "    scaler = StandardScaler()\n",
    "    scaler.fit(X_combined)\n",
    "\n",
    "    X_train_std = scaler.transform(X_combined)\n",
    "    X_test_std = scaler.transform(X_test)\n",
    "\n",
    "    skf = StratifiedKFold(n_splits=5, shuffle=True, random_state=12)\n",
    "    \n",
    "    # XgBoost\n",
    "\n",
    "    model_RF_opt = RandomForestClassifier(random_state=12, max_depth=20, \n",
    "                                          max_features='auto', max_leaf_nodes= None, \n",
    "                                          min_samples_leaf=9, min_samples_split=13, \n",
    "                                          min_weight_fraction_leaf=0.0, n_estimators=72)\n",
    "    \n",
    "    model_RF_opt.fit(X_train_std, y_combined)\n",
    "\n",
    "    train_score = cross_val_score(model_RF_opt, X_train_std, y_combined, cv=skf, scoring=\"roc_auc_ovr\")\n",
    "\n",
    "    test_score = roc_auc_score(y_test, model_RF_opt.predict_proba(X_test_std), multi_class=\"ovr\")\n",
    "\n",
    "    train_list.append(train_score.mean())\n",
    "    test_list.append(test_score.mean())"
   ]
  },
  {
   "cell_type": "code",
   "execution_count": 69,
   "id": "9684bc26",
   "metadata": {},
   "outputs": [
    {
     "data": {
      "text/plain": [
       "[<matplotlib.lines.Line2D at 0x25bd5843e50>]"
      ]
     },
     "execution_count": 69,
     "metadata": {},
     "output_type": "execute_result"
    },
    {
     "data": {
      "image/png": "[encoded data removed]",
      "text/plain": [
       "<Figure size 432x288 with 1 Axes>"
      ]
     },
     "metadata": {
      "needs_background": "light"
     },
     "output_type": "display_data"
    }
   ],
   "source": [
    "plt.plot(range(1, len(strategy_list)+1), train_list, \"red\")"
   ]
  },
  {
   "cell_type": "code",
   "execution_count": 70,
   "id": "a972380b",
   "metadata": {},
   "outputs": [
    {
     "data": {
      "text/plain": [
       "[<matplotlib.lines.Line2D at 0x25bd58903a0>]"
      ]
     },
     "execution_count": 70,
     "metadata": {},
     "output_type": "execute_result"
    },
    {
     "data": {
      "image/png": "[encoded data removed]",
      "text/plain": [
       "<Figure size 432x288 with 1 Axes>"
      ]
     },
     "metadata": {
      "needs_background": "light"
     },
     "output_type": "display_data"
    }
   ],
   "source": [
    "plt.plot(range(1, len(strategy_list)+1), test_list, \"blue\")"
   ]
  },
  {
   "cell_type": "code",
   "execution_count": 71,
   "id": "dc73cd36",
   "metadata": {},
   "outputs": [
    {
     "data": {
      "text/plain": [
       "<matplotlib.legend.Legend at 0x25bd58a8370>"
      ]
     },
     "execution_count": 71,
     "metadata": {},
     "output_type": "execute_result"
    },
    {
     "data": {
      "image/png": "[encoded data removed]",
      "text/plain": [
       "<Figure size 432x288 with 1 Axes>"
      ]
     },
     "metadata": {
      "needs_background": "light"
     },
     "output_type": "display_data"
    }
   ],
   "source": [
    "plt.plot(range(1, len(strategy_list)+1), train_list, \"red\")\n",
    "plt.plot(range(1, len(strategy_list)+1), test_list, \"blue\")\n",
    "plt.legend([\"train\", \"test\"])"
   ]
  },
  {
   "cell_type": "markdown",
   "id": "b24734f6",
   "metadata": {},
   "source": [
    "## SVC"
   ]
  },
  {
   "cell_type": "code",
   "execution_count": 73,
   "id": "4dd3885b",
   "metadata": {},
   "outputs": [],
   "source": [
    "%%capture --no-display\n",
    "\n",
    "strategy_list = [{3: 177, 4: 177, 8: 177}, {3: 277, 4: 277, 8: 277}, {3: 377, 4: 377, 8: 377}, {3: 477, 4: 477, 8: 477}, {3: 577, 4: 577, 8: 577}, {3: 677, 4: 677, 8: 677}]\n",
    "\n",
    "train_list = []\n",
    "test_list = []\n",
    "\n",
    "for over in strategy_list:\n",
    "    \n",
    "    # instantiating over and under sampler                 \n",
    "    over_strategy = SMOTE(sampling_strategy=over, random_state=20)\n",
    "\n",
    "    X_combined, y_combined = over_strategy.fit_resample(X_train, y_train)\n",
    "    \n",
    "    # Normalizacja\n",
    "    scaler = StandardScaler()\n",
    "    scaler.fit(X_combined)\n",
    "\n",
    "    X_train_std = scaler.transform(X_combined)\n",
    "    X_test_std = scaler.transform(X_test)\n",
    "\n",
    "    skf = StratifiedKFold(n_splits=5, shuffle=True, random_state=12)\n",
    "    \n",
    "    # XgBoost\n",
    "\n",
    "    model_SVC = SVC(random_state=12, C=50, degree=2, gamma=0.005, kernel='rbf', probability=True)\n",
    "    \n",
    "    model_SVC.fit(X_train_std, y_combined)\n",
    "\n",
    "    train_score = cross_val_score(model_SVC, X_train_std, y_combined, cv=skf, scoring=\"roc_auc_ovr\")\n",
    "\n",
    "    test_score = roc_auc_score(y_test, model_SVC.predict_proba(X_test_std), multi_class=\"ovr\")\n",
    "\n",
    "    train_list.append(train_score.mean())\n",
    "    test_list.append(test_score.mean())"
   ]
  },
  {
   "cell_type": "code",
   "execution_count": 74,
   "id": "54706aea",
   "metadata": {},
   "outputs": [
    {
     "data": {
      "text/plain": [
       "[<matplotlib.lines.Line2D at 0x25bd59e9df0>]"
      ]
     },
     "execution_count": 74,
     "metadata": {},
     "output_type": "execute_result"
    },
    {
     "data": {
      "image/png": "[encoded data removed]",
      "text/plain": [
       "<Figure size 432x288 with 1 Axes>"
      ]
     },
     "metadata": {
      "needs_background": "light"
     },
     "output_type": "display_data"
    }
   ],
   "source": [
    "plt.plot(range(1, len(strategy_list)+1), train_list, \"red\")"
   ]
  },
  {
   "cell_type": "code",
   "execution_count": 75,
   "id": "a6ffcf28",
   "metadata": {},
   "outputs": [
    {
     "data": {
      "text/plain": [
       "[<matplotlib.lines.Line2D at 0x25bd5a52b80>]"
      ]
     },
     "execution_count": 75,
     "metadata": {},
     "output_type": "execute_result"
    },
    {
     "data": {
      "image/png": "[encoded data removed]",
      "text/plain": [
       "<Figure size 432x288 with 1 Axes>"
      ]
     },
     "metadata": {
      "needs_background": "light"
     },
     "output_type": "display_data"
    }
   ],
   "source": [
    "plt.plot(range(1, len(strategy_list)+1), test_list, \"blue\")"
   ]
  },
  {
   "cell_type": "code",
   "execution_count": 76,
   "id": "ceb36dc0",
   "metadata": {},
   "outputs": [
    {
     "data": {
      "text/plain": [
       "<matplotlib.legend.Legend at 0x25bd5a7d280>"
      ]
     },
     "execution_count": 76,
     "metadata": {},
     "output_type": "execute_result"
    },
    {
     "data": {
      "image/png": "[encoded data removed]",
      "text/plain": [
       "<Figure size 432x288 with 1 Axes>"
      ]
     },
     "metadata": {
      "needs_background": "light"
     },
     "output_type": "display_data"
    }
   ],
   "source": [
    "plt.plot(range(1, len(strategy_list)+1), train_list, \"red\")\n",
    "plt.plot(range(1, len(strategy_list)+1), test_list, \"blue\")\n",
    "plt.legend([\"train\", \"test\"])"
   ]
  },
  {
   "cell_type": "code",
   "execution_count": null,
   "id": "0ef92569",
   "metadata": {},
   "outputs": [],
   "source": []
  }
 ],
 "metadata": {
  "kernelspec": {
   "display_name": "Python 3 (ipykernel)",
   "language": "python",
   "name": "python3"
  },
  "language_info": {
   "codemirror_mode": {
    "name": "ipython",
    "version": 3
   },
   "file_extension": ".py",
   "mimetype": "text/x-python",
   "name": "python",
   "nbconvert_exporter": "python",
   "pygments_lexer": "ipython3",
   "version": "3.9.7"
  }
 },
 "nbformat": 4,
 "nbformat_minor": 5
}
