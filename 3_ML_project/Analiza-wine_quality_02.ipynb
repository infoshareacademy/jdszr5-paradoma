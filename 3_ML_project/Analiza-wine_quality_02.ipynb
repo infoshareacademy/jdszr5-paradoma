{
 "cells": [
  {
   "cell_type": "code",
   "execution_count": 20,
   "id": "4d81ab69",
   "metadata": {},
   "outputs": [],
   "source": [
    "import pandas as pd\n",
    "import numpy as np\n",
    "import seaborn as sns\n",
    "import matplotlib.pyplot as plt\n",
    "from scipy import stats\n",
    "\n",
    "from sklearn.preprocessing import StandardScaler\n",
    "from sklearn.model_selection import train_test_split\n",
    "from sklearn.model_selection import GridSearchCV, RandomizedSearchCV\n",
    "from sklearn.model_selection import cross_val_score\n",
    "\n",
    "from sklearn.ensemble import RandomForestClassifier\n",
    "from sklearn.neighbors import KNeighborsClassifier\n",
    "import xgboost as xgb\n",
    "from sklearn.svm import SVC\n",
    "\n",
    "from imblearn.over_sampling import RandomOverSampler\n",
    "from imblearn.under_sampling import RandomUnderSampler\n",
    "from imblearn.over_sampling import SMOTE\n",
    "\n",
    "from sklearn.metrics import confusion_matrix, classification_report, accuracy_score, roc_auc_score, precision_score, recall_score, plot_roc_curve, roc_curve\n",
    "import scikitplot as skplt\n",
    "from collections import Counter"
   ]
  },
  {
   "cell_type": "code",
   "execution_count": 21,
   "id": "0628ee0e",
   "metadata": {},
   "outputs": [],
   "source": [
    "df = pd.read_csv('winequality-red.csv')"
   ]
  },
  {
   "cell_type": "code",
   "execution_count": 22,
   "id": "ba1a3b04",
   "metadata": {},
   "outputs": [
    {
     "data": {
      "text/html": [
       "<div>\n",
       "<style scoped>\n",
       "    .dataframe tbody tr th:only-of-type {\n",
       "        vertical-align: middle;\n",
       "    }\n",
       "\n",
       "    .dataframe tbody tr th {\n",
       "        vertical-align: top;\n",
       "    }\n",
       "\n",
       "    .dataframe thead th {\n",
       "        text-align: right;\n",
       "    }\n",
       "</style>\n",
       "<table border=\"1\" class=\"dataframe\">\n",
       "  <thead>\n",
       "    <tr style=\"text-align: right;\">\n",
       "      <th></th>\n",
       "      <th>fixed acidity</th>\n",
       "      <th>volatile acidity</th>\n",
       "      <th>citric acid</th>\n",
       "      <th>residual sugar</th>\n",
       "      <th>chlorides</th>\n",
       "      <th>free sulfur dioxide</th>\n",
       "      <th>total sulfur dioxide</th>\n",
       "      <th>density</th>\n",
       "      <th>pH</th>\n",
       "      <th>sulphates</th>\n",
       "      <th>alcohol</th>\n",
       "      <th>quality</th>\n",
       "    </tr>\n",
       "  </thead>\n",
       "  <tbody>\n",
       "    <tr>\n",
       "      <th>0</th>\n",
       "      <td>7.4</td>\n",
       "      <td>0.70</td>\n",
       "      <td>0.00</td>\n",
       "      <td>1.9</td>\n",
       "      <td>0.076</td>\n",
       "      <td>11.0</td>\n",
       "      <td>34.0</td>\n",
       "      <td>0.9978</td>\n",
       "      <td>3.51</td>\n",
       "      <td>0.56</td>\n",
       "      <td>9.4</td>\n",
       "      <td>5</td>\n",
       "    </tr>\n",
       "    <tr>\n",
       "      <th>1</th>\n",
       "      <td>7.8</td>\n",
       "      <td>0.88</td>\n",
       "      <td>0.00</td>\n",
       "      <td>2.6</td>\n",
       "      <td>0.098</td>\n",
       "      <td>25.0</td>\n",
       "      <td>67.0</td>\n",
       "      <td>0.9968</td>\n",
       "      <td>3.20</td>\n",
       "      <td>0.68</td>\n",
       "      <td>9.8</td>\n",
       "      <td>5</td>\n",
       "    </tr>\n",
       "    <tr>\n",
       "      <th>2</th>\n",
       "      <td>7.8</td>\n",
       "      <td>0.76</td>\n",
       "      <td>0.04</td>\n",
       "      <td>2.3</td>\n",
       "      <td>0.092</td>\n",
       "      <td>15.0</td>\n",
       "      <td>54.0</td>\n",
       "      <td>0.9970</td>\n",
       "      <td>3.26</td>\n",
       "      <td>0.65</td>\n",
       "      <td>9.8</td>\n",
       "      <td>5</td>\n",
       "    </tr>\n",
       "    <tr>\n",
       "      <th>3</th>\n",
       "      <td>11.2</td>\n",
       "      <td>0.28</td>\n",
       "      <td>0.56</td>\n",
       "      <td>1.9</td>\n",
       "      <td>0.075</td>\n",
       "      <td>17.0</td>\n",
       "      <td>60.0</td>\n",
       "      <td>0.9980</td>\n",
       "      <td>3.16</td>\n",
       "      <td>0.58</td>\n",
       "      <td>9.8</td>\n",
       "      <td>6</td>\n",
       "    </tr>\n",
       "    <tr>\n",
       "      <th>4</th>\n",
       "      <td>7.4</td>\n",
       "      <td>0.70</td>\n",
       "      <td>0.00</td>\n",
       "      <td>1.9</td>\n",
       "      <td>0.076</td>\n",
       "      <td>11.0</td>\n",
       "      <td>34.0</td>\n",
       "      <td>0.9978</td>\n",
       "      <td>3.51</td>\n",
       "      <td>0.56</td>\n",
       "      <td>9.4</td>\n",
       "      <td>5</td>\n",
       "    </tr>\n",
       "  </tbody>\n",
       "</table>\n",
       "</div>"
      ],
      "text/plain": [
       "   fixed acidity  volatile acidity  citric acid  residual sugar  chlorides  \\\n",
       "0            7.4              0.70         0.00             1.9      0.076   \n",
       "1            7.8              0.88         0.00             2.6      0.098   \n",
       "2            7.8              0.76         0.04             2.3      0.092   \n",
       "3           11.2              0.28         0.56             1.9      0.075   \n",
       "4            7.4              0.70         0.00             1.9      0.076   \n",
       "\n",
       "   free sulfur dioxide  total sulfur dioxide  density    pH  sulphates  \\\n",
       "0                 11.0                  34.0   0.9978  3.51       0.56   \n",
       "1                 25.0                  67.0   0.9968  3.20       0.68   \n",
       "2                 15.0                  54.0   0.9970  3.26       0.65   \n",
       "3                 17.0                  60.0   0.9980  3.16       0.58   \n",
       "4                 11.0                  34.0   0.9978  3.51       0.56   \n",
       "\n",
       "   alcohol  quality  \n",
       "0      9.4        5  \n",
       "1      9.8        5  \n",
       "2      9.8        5  \n",
       "3      9.8        6  \n",
       "4      9.4        5  "
      ]
     },
     "execution_count": 22,
     "metadata": {},
     "output_type": "execute_result"
    }
   ],
   "source": [
    "df.head()"
   ]
  },
  {
   "cell_type": "code",
   "execution_count": 23,
   "id": "8d679c68",
   "metadata": {},
   "outputs": [],
   "source": [
    "def get_quant_features(dataframe):\n",
    "    feats = dataframe.select_dtypes([np.number, np.bool]).columns\n",
    "    return [x for x in feats]"
   ]
  },
  {
   "cell_type": "code",
   "execution_count": 24,
   "id": "85fbc2e5",
   "metadata": {},
   "outputs": [],
   "source": [
    "def draw_histograms(dataframe, variables, n_rows, n_cols):\n",
    "    \n",
    "    fig=plt.figure(figsize=(16,10))\n",
    "    \n",
    "    for i, var_name in enumerate(variables):\n",
    "        ax=fig.add_subplot(n_rows, n_cols, i+1)\n",
    "        dataframe[var_name].hist(bins=20, ax=ax)\n",
    "        ax.set_title(var_name)\n",
    "        \n",
    "    fig.tight_layout()\n",
    "    \n",
    "    plt.show()"
   ]
  },
  {
   "cell_type": "code",
   "execution_count": 25,
   "id": "b57caf07",
   "metadata": {},
   "outputs": [
    {
     "name": "stderr",
     "output_type": "stream",
     "text": [
      "C:\\Users\\doria\\AppData\\Local\\Temp/ipykernel_29504/2832649837.py:2: DeprecationWarning: `np.bool` is a deprecated alias for the builtin `bool`. To silence this warning, use `bool` by itself. Doing this will not modify any behavior and is safe. If you specifically wanted the numpy scalar type, use `np.bool_` here.\n",
      "Deprecated in NumPy 1.20; for more details and guidance: https://numpy.org/devdocs/release/1.20.0-notes.html#deprecations\n",
      "  feats = dataframe.select_dtypes([np.number, np.bool]).columns\n"
     ]
    },
    {
     "data": {
      "image/png": "[encoded data removed]",
      "text/plain": [
       "<Figure size 1152x720 with 12 Axes>"
      ]
     },
     "metadata": {},
     "output_type": "display_data"
    }
   ],
   "source": [
    "feats = get_quant_features(df)\n",
    "draw_histograms(df, feats, 4, 3)"
   ]
  },
  {
   "cell_type": "code",
   "execution_count": 26,
   "id": "afbccbb5",
   "metadata": {},
   "outputs": [
    {
     "data": {
      "image/png": "[encoded data removed]",
      "text/plain": [
       "<Figure size 432x288 with 1 Axes>"
      ]
     },
     "metadata": {},
     "output_type": "display_data"
    }
   ],
   "source": [
    "sns.countplot(x=df.quality);"
   ]
  },
  {
   "cell_type": "code",
   "execution_count": 27,
   "id": "b9f460bf",
   "metadata": {},
   "outputs": [
    {
     "data": {
      "text/plain": [
       "5    681\n",
       "6    638\n",
       "7    199\n",
       "4     53\n",
       "8     18\n",
       "3     10\n",
       "Name: quality, dtype: int64"
      ]
     },
     "execution_count": 27,
     "metadata": {},
     "output_type": "execute_result"
    }
   ],
   "source": [
    "df.quality.value_counts()"
   ]
  },
  {
   "cell_type": "code",
   "execution_count": 28,
   "id": "7e639c15",
   "metadata": {},
   "outputs": [],
   "source": [
    "df[\"good\"] = 0\n",
    "df.loc[df[\"quality\"]>=5,\"good\"] = 1\n",
    "df.loc[df[\"quality\"]>=7,\"good\"] = 2"
   ]
  },
  {
   "cell_type": "code",
   "execution_count": 29,
   "id": "22c0f73a",
   "metadata": {},
   "outputs": [
    {
     "data": {
      "text/plain": [
       "1    1319\n",
       "2     217\n",
       "0      63\n",
       "Name: good, dtype: int64"
      ]
     },
     "execution_count": 29,
     "metadata": {},
     "output_type": "execute_result"
    }
   ],
   "source": [
    "df.good.value_counts()"
   ]
  },
  {
   "cell_type": "code",
   "execution_count": 30,
   "id": "7a9d1418",
   "metadata": {
    "scrolled": false
   },
   "outputs": [],
   "source": [
    "# Boxploty\n",
    "\n",
    "sns.set_theme(style=\"whitegrid\")\n",
    "\n",
    "list_columns = list(df.drop(columns= [\"quality\",\"good\"], axis=1).columns)\n",
    "\n",
    "# for column in list_columns:\n",
    "#     f, ax = plt.subplots(figsize=(5, 3))\n",
    "#     sns.boxplot(x=df[column], palette=\"vlag\")\n",
    "#     ax.set_xlabel(column,fontsize=15)\n",
    "#     ax.tick_params(labelsize=15);"
   ]
  },
  {
   "cell_type": "markdown",
   "id": "2fc23863",
   "metadata": {},
   "source": [
    "### Podział na zbiór treningowy i testowy"
   ]
  },
  {
   "cell_type": "code",
   "execution_count": 31,
   "id": "2c5abc37",
   "metadata": {},
   "outputs": [
    {
     "data": {
      "text/plain": [
       "1    923\n",
       "2    152\n",
       "0     44\n",
       "Name: good, dtype: int64"
      ]
     },
     "execution_count": 31,
     "metadata": {},
     "output_type": "execute_result"
    }
   ],
   "source": [
    "# Podział na zbiór treningowy i testowy\n",
    "\n",
    "X = df.drop(columns= [\"quality\",\"good\"], axis=1)\n",
    "y = df.good\n",
    "\n",
    "X_train, X_test, y_train, y_test = train_test_split(X, y, test_size=0.3, stratify = df.quality, random_state=0)\n",
    "y_train.value_counts()"
   ]
  },
  {
   "cell_type": "code",
   "execution_count": 32,
   "id": "5104524b",
   "metadata": {},
   "outputs": [
    {
     "data": {
      "text/plain": [
       "1    396\n",
       "2     65\n",
       "0     19\n",
       "Name: good, dtype: int64"
      ]
     },
     "execution_count": 32,
     "metadata": {},
     "output_type": "execute_result"
    }
   ],
   "source": [
    "y_test.value_counts()"
   ]
  },
  {
   "cell_type": "markdown",
   "id": "c66ff2e5",
   "metadata": {},
   "source": [
    "### Oversampling / Undersampling   - zakomentowane"
   ]
  },
  {
   "cell_type": "code",
   "execution_count": 33,
   "id": "a2278edb",
   "metadata": {},
   "outputs": [
    {
     "name": "stdout",
     "output_type": "stream",
     "text": [
      "Oversampled: Counter({1: 923, 2: 923, 0: 923})\n"
     ]
    }
   ],
   "source": [
    "# # instantiating over and under sampler\n",
    "# over_strategy = {3: 177, 4: 177, 8: 177}                      # 50% średniej z 3 najliczniejszych klas\n",
    "over = SMOTE()\n",
    "# under_strategy = {5: 382, 6: 357}                             # 80% wartości każdej z dwóch najliczniejszych klas\n",
    "# under = RandomUnderSampler(sampling_strategy=under_strategy)\n",
    "\n",
    "# # now to comine over and under sampling\n",
    "# steps = [('o', over), ('u', under)]\n",
    "# pipeline = Pipeline(steps=steps)\n",
    "\n",
    "X_combined, y_combined = over.fit_resample(X_train, y_train)\n",
    "print(f\"Oversampled: {Counter(y_combined)}\")"
   ]
  },
  {
   "cell_type": "code",
   "execution_count": 16,
   "id": "5cd9d7a7",
   "metadata": {
    "scrolled": true
   },
   "outputs": [],
   "source": [
    "# y_combined.value_counts()"
   ]
  },
  {
   "cell_type": "markdown",
   "id": "caa05c6d",
   "metadata": {},
   "source": [
    "### Usuwanie outlier'ów"
   ]
  },
  {
   "cell_type": "code",
   "execution_count": 34,
   "id": "684fbf4d",
   "metadata": {},
   "outputs": [
    {
     "data": {
      "image/png": "[encoded data removed]",
      "text/plain": [
       "<Figure size 360x216 with 1 Axes>"
      ]
     },
     "metadata": {},
     "output_type": "display_data"
    },
    {
     "data": {
      "image/png": "[encoded data removed]",
      "text/plain": [
       "<Figure size 360x216 with 1 Axes>"
      ]
     },
     "metadata": {},
     "output_type": "display_data"
    },
    {
     "data": {
      "image/png": "[encoded data removed]",
      "text/plain": [
       "<Figure size 360x216 with 1 Axes>"
      ]
     },
     "metadata": {},
     "output_type": "display_data"
    },
    {
     "data": {
      "image/png": "[encoded data removed]",
      "text/plain": [
       "<Figure size 360x216 with 1 Axes>"
      ]
     },
     "metadata": {},
     "output_type": "display_data"
    },
    {
     "data": {
      "image/png": "[encoded data removed]",
      "text/plain": [
       "<Figure size 360x216 with 1 Axes>"
      ]
     },
     "metadata": {},
     "output_type": "display_data"
    },
    {
     "data": {
      "image/png": "[encoded data removed]",
      "text/plain": [
       "<Figure size 360x216 with 1 Axes>"
      ]
     },
     "metadata": {},
     "output_type": "display_data"
    },
    {
     "data": {
      "image/png": "[encoded data removed]",
      "text/plain": [
       "<Figure size 360x216 with 1 Axes>"
      ]
     },
     "metadata": {},
     "output_type": "display_data"
    },
    {
     "data": {
      "image/png": "[encoded data removed]",
      "text/plain": [
       "<Figure size 360x216 with 1 Axes>"
      ]
     },
     "metadata": {},
     "output_type": "display_data"
    },
    {
     "data": {
      "image/png": "[encoded data removed]",
      "text/plain": [
       "<Figure size 360x216 with 1 Axes>"
      ]
     },
     "metadata": {},
     "output_type": "display_data"
    },
    {
     "data": {
      "image/png": "[encoded data removed]",
      "text/plain": [
       "<Figure size 360x216 with 1 Axes>"
      ]
     },
     "metadata": {},
     "output_type": "display_data"
    },
    {
     "data": {
      "image/png": "[encoded data removed]",
      "text/plain": [
       "<Figure size 360x216 with 1 Axes>"
      ]
     },
     "metadata": {},
     "output_type": "display_data"
    }
   ],
   "source": [
    "# # Boxploty przed usunięciem outlier'ów\n",
    "\n",
    "sns.set_theme(style=\"whitegrid\")\n",
    "\n",
    "list_columns_comb = list(X.columns)\n",
    "\n",
    "for column in list_columns_comb:\n",
    "    f, ax = plt.subplots(figsize=(5, 3))\n",
    "    sns.boxplot(x=X[column], palette=\"vlag\")\n",
    "    ax.set_xlabel(column,fontsize=15)\n",
    "    ax.tick_params(labelsize=15);"
   ]
  },
  {
   "cell_type": "code",
   "execution_count": 35,
   "id": "c200abd1",
   "metadata": {},
   "outputs": [],
   "source": [
    "def drop_outliers(dff, column):\n",
    "    iqr = np.percentile(dff[column], 75) - np.percentile(dff[column], 25)\n",
    "    dff.drop(dff[dff[column] < np.percentile(dff[column], 25) - 3.0 * iqr].index, inplace=True)\n",
    "    dff.drop(dff[dff[column] > np.percentile(dff[column], 75) + 3.0 * iqr].index, inplace=True)\n",
    "    return dff"
   ]
  },
  {
   "cell_type": "code",
   "execution_count": 36,
   "id": "ab5a4ddd",
   "metadata": {},
   "outputs": [
    {
     "data": {
      "text/html": [
       "<div>\n",
       "<style scoped>\n",
       "    .dataframe tbody tr th:only-of-type {\n",
       "        vertical-align: middle;\n",
       "    }\n",
       "\n",
       "    .dataframe tbody tr th {\n",
       "        vertical-align: top;\n",
       "    }\n",
       "\n",
       "    .dataframe thead th {\n",
       "        text-align: right;\n",
       "    }\n",
       "</style>\n",
       "<table border=\"1\" class=\"dataframe\">\n",
       "  <thead>\n",
       "    <tr style=\"text-align: right;\">\n",
       "      <th></th>\n",
       "      <th>fixed acidity</th>\n",
       "      <th>volatile acidity</th>\n",
       "      <th>citric acid</th>\n",
       "      <th>residual sugar</th>\n",
       "      <th>chlorides</th>\n",
       "      <th>free sulfur dioxide</th>\n",
       "      <th>total sulfur dioxide</th>\n",
       "      <th>density</th>\n",
       "      <th>pH</th>\n",
       "      <th>sulphates</th>\n",
       "      <th>alcohol</th>\n",
       "      <th>good</th>\n",
       "    </tr>\n",
       "  </thead>\n",
       "  <tbody>\n",
       "    <tr>\n",
       "      <th>0</th>\n",
       "      <td>7.1</td>\n",
       "      <td>0.710</td>\n",
       "      <td>0.00</td>\n",
       "      <td>1.9</td>\n",
       "      <td>0.080</td>\n",
       "      <td>14.0</td>\n",
       "      <td>35.0</td>\n",
       "      <td>0.9972</td>\n",
       "      <td>3.47</td>\n",
       "      <td>0.55</td>\n",
       "      <td>9.4</td>\n",
       "      <td>1</td>\n",
       "    </tr>\n",
       "    <tr>\n",
       "      <th>1</th>\n",
       "      <td>7.2</td>\n",
       "      <td>0.650</td>\n",
       "      <td>0.02</td>\n",
       "      <td>2.3</td>\n",
       "      <td>0.094</td>\n",
       "      <td>5.0</td>\n",
       "      <td>31.0</td>\n",
       "      <td>0.9993</td>\n",
       "      <td>3.67</td>\n",
       "      <td>0.80</td>\n",
       "      <td>9.7</td>\n",
       "      <td>1</td>\n",
       "    </tr>\n",
       "    <tr>\n",
       "      <th>2</th>\n",
       "      <td>6.9</td>\n",
       "      <td>0.490</td>\n",
       "      <td>0.10</td>\n",
       "      <td>2.3</td>\n",
       "      <td>0.074</td>\n",
       "      <td>12.0</td>\n",
       "      <td>30.0</td>\n",
       "      <td>0.9959</td>\n",
       "      <td>3.42</td>\n",
       "      <td>0.58</td>\n",
       "      <td>10.2</td>\n",
       "      <td>1</td>\n",
       "    </tr>\n",
       "    <tr>\n",
       "      <th>3</th>\n",
       "      <td>10.7</td>\n",
       "      <td>0.350</td>\n",
       "      <td>0.53</td>\n",
       "      <td>2.6</td>\n",
       "      <td>0.070</td>\n",
       "      <td>5.0</td>\n",
       "      <td>16.0</td>\n",
       "      <td>0.9972</td>\n",
       "      <td>3.15</td>\n",
       "      <td>0.65</td>\n",
       "      <td>11.0</td>\n",
       "      <td>2</td>\n",
       "    </tr>\n",
       "    <tr>\n",
       "      <th>4</th>\n",
       "      <td>7.3</td>\n",
       "      <td>0.695</td>\n",
       "      <td>0.00</td>\n",
       "      <td>2.5</td>\n",
       "      <td>0.075</td>\n",
       "      <td>3.0</td>\n",
       "      <td>13.0</td>\n",
       "      <td>0.9980</td>\n",
       "      <td>3.49</td>\n",
       "      <td>0.52</td>\n",
       "      <td>9.2</td>\n",
       "      <td>1</td>\n",
       "    </tr>\n",
       "  </tbody>\n",
       "</table>\n",
       "</div>"
      ],
      "text/plain": [
       "   fixed acidity  volatile acidity  citric acid  residual sugar  chlorides  \\\n",
       "0            7.1             0.710         0.00             1.9      0.080   \n",
       "1            7.2             0.650         0.02             2.3      0.094   \n",
       "2            6.9             0.490         0.10             2.3      0.074   \n",
       "3           10.7             0.350         0.53             2.6      0.070   \n",
       "4            7.3             0.695         0.00             2.5      0.075   \n",
       "\n",
       "   free sulfur dioxide  total sulfur dioxide  density    pH  sulphates  \\\n",
       "0                 14.0                  35.0   0.9972  3.47       0.55   \n",
       "1                  5.0                  31.0   0.9993  3.67       0.80   \n",
       "2                 12.0                  30.0   0.9959  3.42       0.58   \n",
       "3                  5.0                  16.0   0.9972  3.15       0.65   \n",
       "4                  3.0                  13.0   0.9980  3.49       0.52   \n",
       "\n",
       "   alcohol  good  \n",
       "0      9.4     1  \n",
       "1      9.7     1  \n",
       "2     10.2     1  \n",
       "3     11.0     2  \n",
       "4      9.2     1  "
      ]
     },
     "execution_count": 36,
     "metadata": {},
     "output_type": "execute_result"
    }
   ],
   "source": [
    "df_train = pd.concat([X_combined, y_combined], axis=1)\n",
    "df_train.head()"
   ]
  },
  {
   "cell_type": "code",
   "execution_count": 37,
   "id": "621ebe59",
   "metadata": {},
   "outputs": [
    {
     "data": {
      "text/plain": [
       "(2769, 12)"
      ]
     },
     "execution_count": 37,
     "metadata": {},
     "output_type": "execute_result"
    }
   ],
   "source": [
    "df_train.shape"
   ]
  },
  {
   "cell_type": "code",
   "execution_count": 38,
   "id": "647d0efc",
   "metadata": {},
   "outputs": [
    {
     "data": {
      "image/png": "[encoded data removed]",
      "text/plain": [
       "<Figure size 360x216 with 1 Axes>"
      ]
     },
     "metadata": {},
     "output_type": "display_data"
    },
    {
     "data": {
      "image/png": "[encoded data removed]",
      "text/plain": [
       "<Figure size 360x216 with 1 Axes>"
      ]
     },
     "metadata": {},
     "output_type": "display_data"
    },
    {
     "data": {
      "image/png": "[encoded data removed]",
      "text/plain": [
       "<Figure size 360x216 with 1 Axes>"
      ]
     },
     "metadata": {},
     "output_type": "display_data"
    },
    {
     "data": {
      "image/png": "[encoded data removed]",
      "text/plain": [
       "<Figure size 360x216 with 1 Axes>"
      ]
     },
     "metadata": {},
     "output_type": "display_data"
    },
    {
     "data": {
      "image/png": "[encoded data removed]",
      "text/plain": [
       "<Figure size 360x216 with 1 Axes>"
      ]
     },
     "metadata": {},
     "output_type": "display_data"
    },
    {
     "data": {
      "image/png": "[encoded data removed]",
      "text/plain": [
       "<Figure size 360x216 with 1 Axes>"
      ]
     },
     "metadata": {},
     "output_type": "display_data"
    },
    {
     "data": {
      "image/png": "[encoded data removed]",
      "text/plain": [
       "<Figure size 360x216 with 1 Axes>"
      ]
     },
     "metadata": {},
     "output_type": "display_data"
    },
    {
     "data": {
      "image/png": "[encoded data removed]",
      "text/plain": [
       "<Figure size 360x216 with 1 Axes>"
      ]
     },
     "metadata": {},
     "output_type": "display_data"
    },
    {
     "data": {
      "image/png": "[encoded data removed]",
      "text/plain": [
       "<Figure size 360x216 with 1 Axes>"
      ]
     },
     "metadata": {},
     "output_type": "display_data"
    },
    {
     "data": {
      "image/png": "[encoded data removed]",
      "text/plain": [
       "<Figure size 360x216 with 1 Axes>"
      ]
     },
     "metadata": {},
     "output_type": "display_data"
    },
    {
     "data": {
      "image/png": "[encoded data removed]",
      "text/plain": [
       "<Figure size 360x216 with 1 Axes>"
      ]
     },
     "metadata": {},
     "output_type": "display_data"
    }
   ],
   "source": [
    "for column in list_columns:\n",
    "    drop_outliers(df_train, column=column)\n",
    "    \n",
    "    f, ax = plt.subplots(figsize=(5, 3))\n",
    "    sns.boxplot(x=df_train[column], palette=\"vlag\")\n",
    "    ax.set_xlabel(column,fontsize=15)\n",
    "    ax.tick_params(labelsize=15);"
   ]
  },
  {
   "cell_type": "code",
   "execution_count": 39,
   "id": "f247492e",
   "metadata": {},
   "outputs": [
    {
     "data": {
      "text/plain": [
       "2    856\n",
       "1    824\n",
       "0    818\n",
       "Name: good, dtype: int64"
      ]
     },
     "execution_count": 39,
     "metadata": {},
     "output_type": "execute_result"
    }
   ],
   "source": [
    "X_train_outlier = df_train.drop('good',axis=1)\n",
    "y_train_outlier = df_train.good\n",
    "\n",
    "y_train_outlier.value_counts()"
   ]
  },
  {
   "cell_type": "code",
   "execution_count": 40,
   "id": "24df4332",
   "metadata": {},
   "outputs": [],
   "source": [
    "\n",
    "def drop_outliers_test(df_train, df_test, column):\n",
    "    iqr = np.percentile(df_train[column], 75) - np.percentile(df_train[column], 25)\n",
    "    df_test.drop(df_test[df_test[column] < np.percentile(df_train[column], 25) - 3.0 * iqr].index, inplace=True)\n",
    "    df_test.drop(df_test[df_test[column] > np.percentile(df_train[column], 75) + 3.0 * iqr].index, inplace=True)\n",
    "    return df_test"
   ]
  },
  {
   "cell_type": "code",
   "execution_count": 41,
   "id": "8a0d8743",
   "metadata": {},
   "outputs": [
    {
     "data": {
      "text/plain": [
       "1    396\n",
       "2     65\n",
       "0     19\n",
       "Name: good, dtype: int64"
      ]
     },
     "execution_count": 41,
     "metadata": {},
     "output_type": "execute_result"
    }
   ],
   "source": [
    "y_test.value_counts()"
   ]
  },
  {
   "cell_type": "code",
   "execution_count": 42,
   "id": "19530e74",
   "metadata": {},
   "outputs": [
    {
     "data": {
      "text/html": [
       "<div>\n",
       "<style scoped>\n",
       "    .dataframe tbody tr th:only-of-type {\n",
       "        vertical-align: middle;\n",
       "    }\n",
       "\n",
       "    .dataframe tbody tr th {\n",
       "        vertical-align: top;\n",
       "    }\n",
       "\n",
       "    .dataframe thead th {\n",
       "        text-align: right;\n",
       "    }\n",
       "</style>\n",
       "<table border=\"1\" class=\"dataframe\">\n",
       "  <thead>\n",
       "    <tr style=\"text-align: right;\">\n",
       "      <th></th>\n",
       "      <th>fixed acidity</th>\n",
       "      <th>volatile acidity</th>\n",
       "      <th>citric acid</th>\n",
       "      <th>residual sugar</th>\n",
       "      <th>chlorides</th>\n",
       "      <th>free sulfur dioxide</th>\n",
       "      <th>total sulfur dioxide</th>\n",
       "      <th>density</th>\n",
       "      <th>pH</th>\n",
       "      <th>sulphates</th>\n",
       "      <th>alcohol</th>\n",
       "      <th>good</th>\n",
       "    </tr>\n",
       "  </thead>\n",
       "  <tbody>\n",
       "    <tr>\n",
       "      <th>435</th>\n",
       "      <td>12.3</td>\n",
       "      <td>0.39</td>\n",
       "      <td>0.63</td>\n",
       "      <td>2.30</td>\n",
       "      <td>0.091</td>\n",
       "      <td>6.0</td>\n",
       "      <td>18.0</td>\n",
       "      <td>1.00040</td>\n",
       "      <td>3.16</td>\n",
       "      <td>0.49</td>\n",
       "      <td>9.5</td>\n",
       "      <td>1</td>\n",
       "    </tr>\n",
       "    <tr>\n",
       "      <th>125</th>\n",
       "      <td>9.0</td>\n",
       "      <td>0.62</td>\n",
       "      <td>0.04</td>\n",
       "      <td>1.90</td>\n",
       "      <td>0.146</td>\n",
       "      <td>27.0</td>\n",
       "      <td>90.0</td>\n",
       "      <td>0.99840</td>\n",
       "      <td>3.16</td>\n",
       "      <td>0.70</td>\n",
       "      <td>9.4</td>\n",
       "      <td>1</td>\n",
       "    </tr>\n",
       "    <tr>\n",
       "      <th>1245</th>\n",
       "      <td>7.4</td>\n",
       "      <td>0.55</td>\n",
       "      <td>0.19</td>\n",
       "      <td>1.80</td>\n",
       "      <td>0.082</td>\n",
       "      <td>15.0</td>\n",
       "      <td>34.0</td>\n",
       "      <td>0.99655</td>\n",
       "      <td>3.49</td>\n",
       "      <td>0.68</td>\n",
       "      <td>10.5</td>\n",
       "      <td>1</td>\n",
       "    </tr>\n",
       "    <tr>\n",
       "      <th>721</th>\n",
       "      <td>8.9</td>\n",
       "      <td>0.48</td>\n",
       "      <td>0.24</td>\n",
       "      <td>2.85</td>\n",
       "      <td>0.094</td>\n",
       "      <td>35.0</td>\n",
       "      <td>106.0</td>\n",
       "      <td>0.99820</td>\n",
       "      <td>3.10</td>\n",
       "      <td>0.53</td>\n",
       "      <td>9.2</td>\n",
       "      <td>1</td>\n",
       "    </tr>\n",
       "    <tr>\n",
       "      <th>289</th>\n",
       "      <td>11.6</td>\n",
       "      <td>0.42</td>\n",
       "      <td>0.53</td>\n",
       "      <td>3.30</td>\n",
       "      <td>0.105</td>\n",
       "      <td>33.0</td>\n",
       "      <td>98.0</td>\n",
       "      <td>1.00100</td>\n",
       "      <td>3.20</td>\n",
       "      <td>0.95</td>\n",
       "      <td>9.2</td>\n",
       "      <td>1</td>\n",
       "    </tr>\n",
       "  </tbody>\n",
       "</table>\n",
       "</div>"
      ],
      "text/plain": [
       "      fixed acidity  volatile acidity  citric acid  residual sugar  chlorides  \\\n",
       "435            12.3              0.39         0.63            2.30      0.091   \n",
       "125             9.0              0.62         0.04            1.90      0.146   \n",
       "1245            7.4              0.55         0.19            1.80      0.082   \n",
       "721             8.9              0.48         0.24            2.85      0.094   \n",
       "289            11.6              0.42         0.53            3.30      0.105   \n",
       "\n",
       "      free sulfur dioxide  total sulfur dioxide  density    pH  sulphates  \\\n",
       "435                   6.0                  18.0  1.00040  3.16       0.49   \n",
       "125                  27.0                  90.0  0.99840  3.16       0.70   \n",
       "1245                 15.0                  34.0  0.99655  3.49       0.68   \n",
       "721                  35.0                 106.0  0.99820  3.10       0.53   \n",
       "289                  33.0                  98.0  1.00100  3.20       0.95   \n",
       "\n",
       "      alcohol  good  \n",
       "435       9.5     1  \n",
       "125       9.4     1  \n",
       "1245     10.5     1  \n",
       "721       9.2     1  \n",
       "289       9.2     1  "
      ]
     },
     "execution_count": 42,
     "metadata": {},
     "output_type": "execute_result"
    }
   ],
   "source": [
    "df_test = pd.concat([X_test, y_test], axis=1)\n",
    "df_test.head()"
   ]
  },
  {
   "cell_type": "code",
   "execution_count": 43,
   "id": "f4626008",
   "metadata": {},
   "outputs": [
    {
     "data": {
      "text/plain": [
       "(480, 12)"
      ]
     },
     "execution_count": 43,
     "metadata": {},
     "output_type": "execute_result"
    }
   ],
   "source": [
    "df_test.shape"
   ]
  },
  {
   "cell_type": "code",
   "execution_count": 44,
   "id": "81f0878c",
   "metadata": {},
   "outputs": [
    {
     "data": {
      "text/plain": [
       "(2769, 12)"
      ]
     },
     "execution_count": 44,
     "metadata": {},
     "output_type": "execute_result"
    }
   ],
   "source": [
    "df_train_2 = pd.concat([X_combined, y_combined], axis=1)\n",
    "df_train_2.shape"
   ]
  },
  {
   "cell_type": "code",
   "execution_count": 45,
   "id": "04c46acc",
   "metadata": {},
   "outputs": [],
   "source": [
    "for column in list_columns:\n",
    "    drop_outliers_test(df_train_2, df_test, column=column)"
   ]
  },
  {
   "cell_type": "code",
   "execution_count": 46,
   "id": "69c84591",
   "metadata": {},
   "outputs": [
    {
     "data": {
      "text/plain": [
       "(437, 12)"
      ]
     },
     "execution_count": 46,
     "metadata": {},
     "output_type": "execute_result"
    }
   ],
   "source": [
    "df_test.shape"
   ]
  },
  {
   "cell_type": "code",
   "execution_count": 47,
   "id": "fc776048",
   "metadata": {},
   "outputs": [
    {
     "data": {
      "text/plain": [
       "1    363\n",
       "2     57\n",
       "0     17\n",
       "Name: good, dtype: int64"
      ]
     },
     "execution_count": 47,
     "metadata": {},
     "output_type": "execute_result"
    }
   ],
   "source": [
    "X_test_outlier = df_test.drop(\"good\", axis=1)\n",
    "y_test_outlier = df_test.good\n",
    "\n",
    "y_test_outlier.value_counts()"
   ]
  },
  {
   "cell_type": "markdown",
   "id": "8ffb4235",
   "metadata": {},
   "source": [
    "### Normalizacja"
   ]
  },
  {
   "cell_type": "code",
   "execution_count": 48,
   "id": "f4f0dd53",
   "metadata": {},
   "outputs": [
    {
     "name": "stdout",
     "output_type": "stream",
     "text": [
      "[ 8.32687435  0.5470269   0.25855813  2.41039484  0.07827937 14.13608068\n",
      " 37.94262252  0.99649437  3.33358486  0.64105674 10.65127229] [1.66017662e+00 2.01718328e-01 1.91857804e-01 7.06956581e-01\n",
      " 1.65521323e-02 9.52339155e+00 2.61214441e+01 1.72132875e-03\n",
      " 1.42071857e-01 1.37485194e-01 1.06934185e+00]\n"
     ]
    }
   ],
   "source": [
    "# Normalizacja zestawu treningowego do rozkładu normalnego, wyznaczenie wartości średnich i odchyleń standardowych\n",
    "# https://stats.stackexchange.com/questions/174823/how-to-apply-standardization-normalization-to-train-and-testset-if-prediction-i\n",
    "\n",
    "scaler = StandardScaler()\n",
    "scaler.fit(X_train_outlier)\n",
    "\n",
    "X_train_std = scaler.transform(X_train_outlier)\n",
    "\n",
    "print(scaler.mean_, scaler.scale_)"
   ]
  },
  {
   "cell_type": "code",
   "execution_count": 49,
   "id": "ebeccb6b",
   "metadata": {},
   "outputs": [],
   "source": [
    "# Normalizacja zestawu testowego do rozkładu normalnego z wykorzystaniem wartości średnich i odch. std z zestawu treningowego\n",
    "\n",
    "X_test_std = scaler.transform(X_test_outlier)"
   ]
  },
  {
   "cell_type": "markdown",
   "id": "c68b7fa5",
   "metadata": {},
   "source": [
    "## SVC"
   ]
  },
  {
   "cell_type": "code",
   "execution_count": 20,
   "id": "4ea2b31f",
   "metadata": {},
   "outputs": [],
   "source": [
    "# SVC?"
   ]
  },
  {
   "cell_type": "code",
   "execution_count": 62,
   "id": "b4bed749",
   "metadata": {},
   "outputs": [
    {
     "ename": "ValueError",
     "evalue": "Found input variables with inconsistent numbers of samples: [2498, 1119]",
     "output_type": "error",
     "traceback": [
      "\u001b[1;31m---------------------------------------------------------------------------\u001b[0m",
      "\u001b[1;31mValueError\u001b[0m                                Traceback (most recent call last)",
      "\u001b[1;32m~\\AppData\\Local\\Temp/ipykernel_29504/3656831863.py\u001b[0m in \u001b[0;36m<module>\u001b[1;34m\u001b[0m\n\u001b[0;32m      9\u001b[0m \u001b[0mmodel_SVC\u001b[0m \u001b[1;33m=\u001b[0m \u001b[0mSVC\u001b[0m\u001b[1;33m(\u001b[0m\u001b[0mprobability\u001b[0m\u001b[1;33m=\u001b[0m\u001b[1;32mTrue\u001b[0m\u001b[1;33m)\u001b[0m\u001b[1;33m\u001b[0m\u001b[1;33m\u001b[0m\u001b[0m\n\u001b[0;32m     10\u001b[0m \u001b[0mmodel_SVC_with_best_params\u001b[0m \u001b[1;33m=\u001b[0m \u001b[0mGridSearchCV\u001b[0m\u001b[1;33m(\u001b[0m\u001b[0mmodel_SVC\u001b[0m\u001b[1;33m,\u001b[0m \u001b[0mparameters_SVC\u001b[0m\u001b[1;33m)\u001b[0m\u001b[1;33m\u001b[0m\u001b[1;33m\u001b[0m\u001b[0m\n\u001b[1;32m---> 11\u001b[1;33m \u001b[0mmodel_SVC_with_best_params\u001b[0m\u001b[1;33m.\u001b[0m\u001b[0mfit\u001b[0m\u001b[1;33m(\u001b[0m\u001b[0mX_train_std\u001b[0m\u001b[1;33m,\u001b[0m\u001b[0my_train\u001b[0m\u001b[1;33m)\u001b[0m\u001b[1;33m\u001b[0m\u001b[1;33m\u001b[0m\u001b[0m\n\u001b[0m\u001b[0;32m     12\u001b[0m \u001b[0mmodel_SVC_best_params\u001b[0m \u001b[1;33m=\u001b[0m \u001b[0mmodel_SVC_with_best_params\u001b[0m\u001b[1;33m.\u001b[0m\u001b[0mbest_params_\u001b[0m\u001b[1;33m\u001b[0m\u001b[1;33m\u001b[0m\u001b[0m\n",
      "\u001b[1;32m~\\AppData\\Roaming\\Python\\Python39\\site-packages\\sklearn\\model_selection\\_search.py\u001b[0m in \u001b[0;36mfit\u001b[1;34m(self, X, y, groups, **fit_params)\u001b[0m\n\u001b[0;32m    797\u001b[0m             \u001b[0mrefit_metric\u001b[0m \u001b[1;33m=\u001b[0m \u001b[0mself\u001b[0m\u001b[1;33m.\u001b[0m\u001b[0mrefit\u001b[0m\u001b[1;33m\u001b[0m\u001b[1;33m\u001b[0m\u001b[0m\n\u001b[0;32m    798\u001b[0m \u001b[1;33m\u001b[0m\u001b[0m\n\u001b[1;32m--> 799\u001b[1;33m         \u001b[0mX\u001b[0m\u001b[1;33m,\u001b[0m \u001b[0my\u001b[0m\u001b[1;33m,\u001b[0m \u001b[0mgroups\u001b[0m \u001b[1;33m=\u001b[0m \u001b[0mindexable\u001b[0m\u001b[1;33m(\u001b[0m\u001b[0mX\u001b[0m\u001b[1;33m,\u001b[0m \u001b[0my\u001b[0m\u001b[1;33m,\u001b[0m \u001b[0mgroups\u001b[0m\u001b[1;33m)\u001b[0m\u001b[1;33m\u001b[0m\u001b[1;33m\u001b[0m\u001b[0m\n\u001b[0m\u001b[0;32m    800\u001b[0m         \u001b[0mfit_params\u001b[0m \u001b[1;33m=\u001b[0m \u001b[0m_check_fit_params\u001b[0m\u001b[1;33m(\u001b[0m\u001b[0mX\u001b[0m\u001b[1;33m,\u001b[0m \u001b[0mfit_params\u001b[0m\u001b[1;33m)\u001b[0m\u001b[1;33m\u001b[0m\u001b[1;33m\u001b[0m\u001b[0m\n\u001b[0;32m    801\u001b[0m \u001b[1;33m\u001b[0m\u001b[0m\n",
      "\u001b[1;32m~\\AppData\\Roaming\\Python\\Python39\\site-packages\\sklearn\\utils\\validation.py\u001b[0m in \u001b[0;36mindexable\u001b[1;34m(*iterables)\u001b[0m\n\u001b[0;32m    368\u001b[0m     \"\"\"\n\u001b[0;32m    369\u001b[0m     \u001b[0mresult\u001b[0m \u001b[1;33m=\u001b[0m \u001b[1;33m[\u001b[0m\u001b[0m_make_indexable\u001b[0m\u001b[1;33m(\u001b[0m\u001b[0mX\u001b[0m\u001b[1;33m)\u001b[0m \u001b[1;32mfor\u001b[0m \u001b[0mX\u001b[0m \u001b[1;32min\u001b[0m \u001b[0miterables\u001b[0m\u001b[1;33m]\u001b[0m\u001b[1;33m\u001b[0m\u001b[1;33m\u001b[0m\u001b[0m\n\u001b[1;32m--> 370\u001b[1;33m     \u001b[0mcheck_consistent_length\u001b[0m\u001b[1;33m(\u001b[0m\u001b[1;33m*\u001b[0m\u001b[0mresult\u001b[0m\u001b[1;33m)\u001b[0m\u001b[1;33m\u001b[0m\u001b[1;33m\u001b[0m\u001b[0m\n\u001b[0m\u001b[0;32m    371\u001b[0m     \u001b[1;32mreturn\u001b[0m \u001b[0mresult\u001b[0m\u001b[1;33m\u001b[0m\u001b[1;33m\u001b[0m\u001b[0m\n\u001b[0;32m    372\u001b[0m \u001b[1;33m\u001b[0m\u001b[0m\n",
      "\u001b[1;32m~\\AppData\\Roaming\\Python\\Python39\\site-packages\\sklearn\\utils\\validation.py\u001b[0m in \u001b[0;36mcheck_consistent_length\u001b[1;34m(*arrays)\u001b[0m\n\u001b[0;32m    329\u001b[0m     \u001b[0muniques\u001b[0m \u001b[1;33m=\u001b[0m \u001b[0mnp\u001b[0m\u001b[1;33m.\u001b[0m\u001b[0munique\u001b[0m\u001b[1;33m(\u001b[0m\u001b[0mlengths\u001b[0m\u001b[1;33m)\u001b[0m\u001b[1;33m\u001b[0m\u001b[1;33m\u001b[0m\u001b[0m\n\u001b[0;32m    330\u001b[0m     \u001b[1;32mif\u001b[0m \u001b[0mlen\u001b[0m\u001b[1;33m(\u001b[0m\u001b[0muniques\u001b[0m\u001b[1;33m)\u001b[0m \u001b[1;33m>\u001b[0m \u001b[1;36m1\u001b[0m\u001b[1;33m:\u001b[0m\u001b[1;33m\u001b[0m\u001b[1;33m\u001b[0m\u001b[0m\n\u001b[1;32m--> 331\u001b[1;33m         raise ValueError(\n\u001b[0m\u001b[0;32m    332\u001b[0m             \u001b[1;34m\"Found input variables with inconsistent numbers of samples: %r\"\u001b[0m\u001b[1;33m\u001b[0m\u001b[1;33m\u001b[0m\u001b[0m\n\u001b[0;32m    333\u001b[0m             \u001b[1;33m%\u001b[0m \u001b[1;33m[\u001b[0m\u001b[0mint\u001b[0m\u001b[1;33m(\u001b[0m\u001b[0ml\u001b[0m\u001b[1;33m)\u001b[0m \u001b[1;32mfor\u001b[0m \u001b[0ml\u001b[0m \u001b[1;32min\u001b[0m \u001b[0mlengths\u001b[0m\u001b[1;33m]\u001b[0m\u001b[1;33m\u001b[0m\u001b[1;33m\u001b[0m\u001b[0m\n",
      "\u001b[1;31mValueError\u001b[0m: Found input variables with inconsistent numbers of samples: [2498, 1119]"
     ]
    }
   ],
   "source": [
    "parameters_SVC = {\n",
    "    \"C\": [0.1, 1, 10, 50],\n",
    "    \"gamma\": [0.0001, 0.0005, 0.001, 0.005], \n",
    "    \"kernel\": ('linear','poly','rbf', 'sigmoid'),\n",
    "    \"degree\": [2,4] \n",
    "    \n",
    "}\n",
    "\n",
    "model_SVC = SVC(probability=True)\n",
    "model_SVC_with_best_params = GridSearchCV(model_SVC, parameters_SVC)\n",
    "model_SVC_with_best_params.fit(X_train_std,y_train)\n",
    "model_SVC_best_params = model_SVC_with_best_params.best_params_"
   ]
  },
  {
   "cell_type": "code",
   "execution_count": 22,
   "id": "05a4e4d1",
   "metadata": {},
   "outputs": [
    {
     "data": {
      "text/plain": [
       "{'C': 10, 'degree': 2, 'gamma': 0.005, 'kernel': 'rbf'}"
      ]
     },
     "execution_count": 22,
     "metadata": {},
     "output_type": "execute_result"
    }
   ],
   "source": [
    "model_SVC_best_params"
   ]
  },
  {
   "cell_type": "code",
   "execution_count": 23,
   "id": "63e2b6e0",
   "metadata": {},
   "outputs": [],
   "source": [
    "predictions_SVC = model_SVC_with_best_params.predict(X_test_std)"
   ]
  },
  {
   "cell_type": "code",
   "execution_count": 24,
   "id": "51f1897d",
   "metadata": {},
   "outputs": [
    {
     "name": "stdout",
     "output_type": "stream",
     "text": [
      "              precision    recall  f1-score   support\n",
      "\n",
      "           0      0.752     0.762     0.757       223\n",
      "           1      0.791     0.782     0.787       257\n",
      "\n",
      "    accuracy                          0.773       480\n",
      "   macro avg      0.772     0.772     0.772       480\n",
      "weighted avg      0.773     0.773     0.773       480\n",
      "\n",
      "Overall Accuracy: 0.7729166666666667\n",
      "Overall Precision: 0.7717754860288482\n",
      "Overall Recall: 0.7722165029400987\n"
     ]
    },
    {
     "data": {
      "image/png": "[encoded data removed]",
      "text/plain": [
       "<Figure size 432x288 with 2 Axes>"
      ]
     },
     "metadata": {},
     "output_type": "display_data"
    }
   ],
   "source": [
    "cm = confusion_matrix(y_test, predictions_SVC)\n",
    "sns.heatmap(cm, annot=True)\n",
    "plt.title(\"Confusion Matrix\")\n",
    "    \n",
    "acc = accuracy_score(y_test, predictions_SVC)\n",
    "pre = precision_score(y_test, predictions_SVC, average=\"macro\")\n",
    "rec = recall_score(y_test, predictions_SVC, average=\"macro\")\n",
    "# Prediction Report\n",
    "print(classification_report(y_test, predictions_SVC, digits=3))\n",
    "print(\"Overall Accuracy:\", acc)\n",
    "print(\"Overall Precision:\", pre)\n",
    "print(\"Overall Recall:\", rec)"
   ]
  },
  {
   "cell_type": "code",
   "execution_count": 25,
   "id": "17ad4606",
   "metadata": {},
   "outputs": [
    {
     "data": {
      "image/png": "[encoded data removed]",
      "text/plain": [
       "<Figure size 432x288 with 2 Axes>"
      ]
     },
     "metadata": {},
     "output_type": "display_data"
    }
   ],
   "source": [
    "skplt.metrics.plot_confusion_matrix(y_test, y_pred=predictions_SVC, normalize=True)\n",
    "plt.show()"
   ]
  },
  {
   "cell_type": "code",
   "execution_count": 26,
   "id": "9c937eed",
   "metadata": {},
   "outputs": [
    {
     "data": {
      "image/png": "[encoded data removed]",
      "text/plain": [
       "<Figure size 432x288 with 1 Axes>"
      ]
     },
     "metadata": {},
     "output_type": "display_data"
    }
   ],
   "source": [
    "plot_roc_curve(model_SVC_with_best_params, X_test_std, y_test)\n",
    "y_score = model_SVC_with_best_params.predict_proba(X_test_std)[:, 1]\n",
    "fpr, tpr, threshold = roc_curve(y_test, y_score)\n",
    "auc = roc_auc_score(y_test, y_score)"
   ]
  },
  {
   "cell_type": "code",
   "execution_count": 27,
   "id": "3e7fa2a6",
   "metadata": {},
   "outputs": [
    {
     "data": {
      "text/plain": [
       "0.835354469473574"
      ]
     },
     "execution_count": 27,
     "metadata": {},
     "output_type": "execute_result"
    }
   ],
   "source": [
    "auc"
   ]
  },
  {
   "cell_type": "code",
   "execution_count": 61,
   "id": "d6378432",
   "metadata": {},
   "outputs": [
    {
     "data": {
      "image/png": "[encoded data removed]",
      "text/plain": [
       "<Figure size 432x288 with 1 Axes>"
      ]
     },
     "metadata": {},
     "output_type": "display_data"
    }
   ],
   "source": [
    "plot_roc_curve(model_SVC_with_best_params, X_test_std, y_test)\n",
    "pass"
   ]
  },
  {
   "cell_type": "code",
   "execution_count": 50,
   "id": "ce80fd92",
   "metadata": {},
   "outputs": [
    {
     "data": {
      "text/plain": [
       "array([0.918     , 0.942     , 0.914     , 0.93787575, 0.94388778])"
      ]
     },
     "execution_count": 50,
     "metadata": {},
     "output_type": "execute_result"
    }
   ],
   "source": [
    "model_RF = RandomForestClassifier(random_state=12)\n",
    "model_RF.fit(X_train_std, y_train_outlier)\n",
    "\n",
    "cross_val_score(model_RF, X_train_std, y_train_outlier, cv=5)"
   ]
  },
  {
   "cell_type": "code",
   "execution_count": 51,
   "id": "fb88fe3f",
   "metadata": {},
   "outputs": [
    {
     "data": {
      "text/plain": [
       "0.7894736842105263"
      ]
     },
     "execution_count": 51,
     "metadata": {},
     "output_type": "execute_result"
    }
   ],
   "source": [
    "model_RF.score(X_test_std, y_test_outlier)"
   ]
  },
  {
   "cell_type": "code",
   "execution_count": 52,
   "id": "dfe236f3",
   "metadata": {},
   "outputs": [
    {
     "name": "stdout",
     "output_type": "stream",
     "text": [
      "Confusion matrix - tablica pomyłek\n",
      " [[  4  13   0]\n",
      " [ 16 299  48]\n",
      " [  0  15  42]]\n",
      "Raport klasyfikacyjny: \n",
      "               precision    recall  f1-score   support\n",
      "\n",
      "           0       0.20      0.24      0.22        17\n",
      "           1       0.91      0.82      0.87       363\n",
      "           2       0.47      0.74      0.57        57\n",
      "\n",
      "    accuracy                           0.79       437\n",
      "   macro avg       0.53      0.60      0.55       437\n",
      "weighted avg       0.83      0.79      0.80       437\n",
      "\n"
     ]
    }
   ],
   "source": [
    "y_pred_RF = model_RF.predict(X_test_std)\n",
    "\n",
    "print(\"Confusion matrix - tablica pomyłek\\n\", confusion_matrix(y_test_outlier, y_pred_RF))\n",
    "\n",
    "print(\"Raport klasyfikacyjny: \\n\", classification_report(y_test_outlier, y_pred_RF))"
   ]
  },
  {
   "cell_type": "code",
   "execution_count": 53,
   "id": "f9149f5e",
   "metadata": {},
   "outputs": [],
   "source": [
    "param_grid_RF = {\"n_estimators\": [10, 17, 25, 33, 41, 48, 56, 64, 72, 80,100,200],\n",
    "    \"ccp_alpha\" : [0, 0.2, 0.02],\n",
    "            \"max_depth\" : [1,3,5,7,9,11,12],\n",
    "           \"min_samples_leaf\":[1,2,3,4,5,6,7,8,9,10],\n",
    "           \"min_weight_fraction_leaf\":[0.1,0.2,0.3,0.4,0.5],\n",
    "           \"max_features\":[\"auto\",\"log2\",\"sqrt\",None],\n",
    "           \"max_leaf_nodes\":[None,10,20,30,40,50,60,70,80,90], \n",
    "           \"min_samples_split\":[3,5,7,9,11,13,15,17,20],\n",
    "           \"bootstrap\": [True,False]}"
   ]
  },
  {
   "cell_type": "code",
   "execution_count": 54,
   "id": "fb94df4e",
   "metadata": {},
   "outputs": [
    {
     "name": "stdout",
     "output_type": "stream",
     "text": [
      "Fitting 5 folds for each of 500 candidates, totalling 2500 fits\n"
     ]
    },
    {
     "data": {
      "text/plain": [
       "RandomizedSearchCV(cv=5, estimator=RandomForestClassifier(random_state=12),\n",
       "                   n_iter=500,\n",
       "                   param_distributions={'bootstrap': [True, False],\n",
       "                                        'ccp_alpha': [0, 0.2, 0.02],\n",
       "                                        'max_depth': [1, 3, 5, 7, 9, 11, 12],\n",
       "                                        'max_features': ['auto', 'log2', 'sqrt',\n",
       "                                                         None],\n",
       "                                        'max_leaf_nodes': [None, 10, 20, 30, 40,\n",
       "                                                           50, 60, 70, 80, 90],\n",
       "                                        'min_samples_leaf': [1, 2, 3, 4, 5, 6,\n",
       "                                                             7, 8, 9, 10],\n",
       "                                        'min_samples_split': [3, 5, 7, 9, 11,\n",
       "                                                              13, 15, 17, 20],\n",
       "                                        'min_weight_fraction_leaf': [0.1, 0.2,\n",
       "                                                                     0.3, 0.4,\n",
       "                                                                     0.5],\n",
       "                                        'n_estimators': [10, 17, 25, 33, 41, 48,\n",
       "                                                         56, 64, 72, 80, 100,\n",
       "                                                         200]},\n",
       "                   verbose=1)"
      ]
     },
     "execution_count": 54,
     "metadata": {},
     "output_type": "execute_result"
    }
   ],
   "source": [
    "random_search_RF = RandomizedSearchCV(model_RF,\n",
    "                                   param_distributions=param_grid_RF,\n",
    "                                   cv=5,\n",
    "                                   n_iter=500,\n",
    "                                   verbose=1)\n",
    "random_search_RF.fit(X_train_std, y_train_outlier)"
   ]
  },
  {
   "cell_type": "code",
   "execution_count": 55,
   "id": "adcb040b",
   "metadata": {},
   "outputs": [
    {
     "name": "stdout",
     "output_type": "stream",
     "text": [
      "Najlepsze parametry:  {'n_estimators': 100, 'min_weight_fraction_leaf': 0.1, 'min_samples_split': 3, 'min_samples_leaf': 1, 'max_leaf_nodes': 80, 'max_features': 'sqrt', 'max_depth': 7, 'ccp_alpha': 0, 'bootstrap': False}\n",
      "Najwyższy score:  0.7281859719438877\n"
     ]
    }
   ],
   "source": [
    "print(\"Najlepsze parametry: \", random_search_RF.best_params_)\n",
    "print(\"Najwyższy score: \", random_search_RF.best_score_)"
   ]
  },
  {
   "cell_type": "code",
   "execution_count": 56,
   "id": "8f5ad468",
   "metadata": {},
   "outputs": [],
   "source": [
    "param_grid_RF_2 = {\"n_estimators\": [200,100],\n",
    "            \"max_depth\" : [7,20],\n",
    "           \"min_samples_leaf\":[1,10],\n",
    "           \"min_weight_fraction_leaf\":[0.0,0.1,0.2],\n",
    "           \"max_leaf_nodes\":[None,80],\n",
    "           'max_features': ['auto', 'sqrt'], \n",
    "           \"min_samples_split\":[3,20],\n",
    "           \"bootstrap\": [True,False]}"
   ]
  },
  {
   "cell_type": "code",
   "execution_count": 57,
   "id": "b5a09759",
   "metadata": {},
   "outputs": [
    {
     "data": {
      "text/plain": [
       "GridSearchCV(cv=5, estimator=RandomForestClassifier(random_state=12), n_jobs=-1,\n",
       "             param_grid={'bootstrap': [True, False], 'max_depth': [7, 20],\n",
       "                         'max_features': ['auto', 'sqrt'],\n",
       "                         'max_leaf_nodes': [None, 80],\n",
       "                         'min_samples_leaf': [1, 10],\n",
       "                         'min_samples_split': [3, 20],\n",
       "                         'min_weight_fraction_leaf': [0.0, 0.1, 0.2],\n",
       "                         'n_estimators': [200, 100]},\n",
       "             scoring='f1_micro')"
      ]
     },
     "execution_count": 57,
     "metadata": {},
     "output_type": "execute_result"
    }
   ],
   "source": [
    "grid_RF = GridSearchCV(model_RF, param_grid=param_grid_RF_2, cv=5, scoring=\"f1_micro\", verbose=0, n_jobs=-1)\n",
    "grid_RF.fit(X_train_std, y_train_outlier)"
   ]
  },
  {
   "cell_type": "code",
   "execution_count": 58,
   "id": "8d02c7b6",
   "metadata": {},
   "outputs": [
    {
     "name": "stdout",
     "output_type": "stream",
     "text": [
      "Najlepsze parametry:  {'bootstrap': False, 'max_depth': 20, 'max_features': 'auto', 'max_leaf_nodes': None, 'min_samples_leaf': 1, 'min_samples_split': 3, 'min_weight_fraction_leaf': 0.0, 'n_estimators': 200}\n",
      "Najwyższy score:  0.93835751503006\n"
     ]
    }
   ],
   "source": [
    "print(\"Najlepsze parametry: \", grid_RF.best_params_)\n",
    "print(\"Najwyższy score: \", grid_RF.best_score_)"
   ]
  },
  {
   "cell_type": "code",
   "execution_count": 59,
   "id": "ea588c1e",
   "metadata": {},
   "outputs": [
    {
     "data": {
      "text/plain": [
       "array([0.906     , 0.942     , 0.91      , 0.93386774, 0.94589178])"
      ]
     },
     "execution_count": 59,
     "metadata": {},
     "output_type": "execute_result"
    }
   ],
   "source": [
    "model_RF_opt = RandomForestClassifier(random_state=12, max_depth=20, max_features='auto', max_leaf_nodes= None, min_samples_leaf=1,min_samples_split=3, min_weight_fraction_leaf=0.0, n_estimators=200 )\n",
    "model_RF_opt.fit(X_train_std, y_train_outlier)\n",
    "\n",
    "cross_val_score(model_RF_opt, X_train_std, y_train_outlier, cv=5)"
   ]
  },
  {
   "cell_type": "code",
   "execution_count": 60,
   "id": "cc813dbc",
   "metadata": {},
   "outputs": [
    {
     "data": {
      "text/plain": [
       "0.7963386727688787"
      ]
     },
     "execution_count": 60,
     "metadata": {},
     "output_type": "execute_result"
    }
   ],
   "source": [
    "model_RF_opt.score(X_test_std, y_test_outlier)"
   ]
  },
  {
   "cell_type": "code",
   "execution_count": 61,
   "id": "6a7dbe59",
   "metadata": {},
   "outputs": [
    {
     "name": "stdout",
     "output_type": "stream",
     "text": [
      "Confusion matrix - tablica pomyłek\n",
      " [[  4  13   0]\n",
      " [ 16 299  48]\n",
      " [  0  12  45]]\n",
      "Raport klasyfikacyjny: \n",
      "               precision    recall  f1-score   support\n",
      "\n",
      "           0       0.20      0.24      0.22        17\n",
      "           1       0.92      0.82      0.87       363\n",
      "           2       0.48      0.79      0.60        57\n",
      "\n",
      "    accuracy                           0.80       437\n",
      "   macro avg       0.54      0.62      0.56       437\n",
      "weighted avg       0.84      0.80      0.81       437\n",
      "\n"
     ]
    }
   ],
   "source": [
    "y_pred_RF_opt = model_RF_opt.predict(X_test_std)\n",
    "\n",
    "print(\"Confusion matrix - tablica pomyłek\\n\", confusion_matrix(y_test_outlier, y_pred_RF_opt))\n",
    "\n",
    "print(\"Raport klasyfikacyjny: \\n\", classification_report(y_test_outlier, y_pred_RF_opt))"
   ]
  }
 ],
 "metadata": {
  "hide_input": false,
  "kernelspec": {
   "display_name": "Python 3",
   "language": "python",
   "name": "python3"
  },
  "language_info": {
   "codemirror_mode": {
    "name": "ipython",
    "version": 3
   },
   "file_extension": ".py",
   "mimetype": "text/x-python",
   "name": "python",
   "nbconvert_exporter": "python",
   "pygments_lexer": "ipython3",
   "version": "3.9.2"
  }
 },
 "nbformat": 4,
 "nbformat_minor": 5
}
