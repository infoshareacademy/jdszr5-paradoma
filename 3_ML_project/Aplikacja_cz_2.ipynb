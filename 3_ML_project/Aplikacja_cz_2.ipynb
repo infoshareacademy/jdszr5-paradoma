{
 "cells": [
  {
   "cell_type": "code",
   "execution_count": 31,
   "id": "5fac52dd",
   "metadata": {},
   "outputs": [],
   "source": [
    "import pandas as pd\n",
    "import numpy as np\n",
    "import matplotlib.pyplot as plt\n",
    "import os\n",
    "import ipywidgets as widgets\n",
    "from IPython.display import display\n",
    "from IPython.display import Image\n",
    "from ipywidgets import Box, Layout\n",
    "import seaborn as sns"
   ]
  },
  {
   "cell_type": "code",
   "execution_count": 2,
   "id": "f73d8458",
   "metadata": {},
   "outputs": [],
   "source": [
    "file = \"winequality-red.csv\"\n",
    "filepath = os.path.join(os.path.abspath(\"\"), file)"
   ]
  },
  {
   "cell_type": "code",
   "execution_count": 3,
   "id": "b97491fb",
   "metadata": {},
   "outputs": [],
   "source": [
    "df = pd.read_csv(filepath)"
   ]
  },
  {
   "cell_type": "code",
   "execution_count": 4,
   "id": "a1698bc2",
   "metadata": {},
   "outputs": [
    {
     "data": {
      "text/html": [
       "<div>\n",
       "<style scoped>\n",
       "    .dataframe tbody tr th:only-of-type {\n",
       "        vertical-align: middle;\n",
       "    }\n",
       "\n",
       "    .dataframe tbody tr th {\n",
       "        vertical-align: top;\n",
       "    }\n",
       "\n",
       "    .dataframe thead th {\n",
       "        text-align: right;\n",
       "    }\n",
       "</style>\n",
       "<table border=\"1\" class=\"dataframe\">\n",
       "  <thead>\n",
       "    <tr style=\"text-align: right;\">\n",
       "      <th></th>\n",
       "      <th>fixed acidity</th>\n",
       "      <th>volatile acidity</th>\n",
       "      <th>citric acid</th>\n",
       "      <th>residual sugar</th>\n",
       "      <th>chlorides</th>\n",
       "      <th>free sulfur dioxide</th>\n",
       "      <th>total sulfur dioxide</th>\n",
       "      <th>density</th>\n",
       "      <th>pH</th>\n",
       "      <th>sulphates</th>\n",
       "      <th>alcohol</th>\n",
       "      <th>quality</th>\n",
       "    </tr>\n",
       "  </thead>\n",
       "  <tbody>\n",
       "    <tr>\n",
       "      <th>0</th>\n",
       "      <td>7.4</td>\n",
       "      <td>0.700</td>\n",
       "      <td>0.00</td>\n",
       "      <td>1.9</td>\n",
       "      <td>0.076</td>\n",
       "      <td>11.0</td>\n",
       "      <td>34.0</td>\n",
       "      <td>0.99780</td>\n",
       "      <td>3.51</td>\n",
       "      <td>0.56</td>\n",
       "      <td>9.4</td>\n",
       "      <td>5</td>\n",
       "    </tr>\n",
       "    <tr>\n",
       "      <th>1</th>\n",
       "      <td>7.8</td>\n",
       "      <td>0.880</td>\n",
       "      <td>0.00</td>\n",
       "      <td>2.6</td>\n",
       "      <td>0.098</td>\n",
       "      <td>25.0</td>\n",
       "      <td>67.0</td>\n",
       "      <td>0.99680</td>\n",
       "      <td>3.20</td>\n",
       "      <td>0.68</td>\n",
       "      <td>9.8</td>\n",
       "      <td>5</td>\n",
       "    </tr>\n",
       "    <tr>\n",
       "      <th>2</th>\n",
       "      <td>7.8</td>\n",
       "      <td>0.760</td>\n",
       "      <td>0.04</td>\n",
       "      <td>2.3</td>\n",
       "      <td>0.092</td>\n",
       "      <td>15.0</td>\n",
       "      <td>54.0</td>\n",
       "      <td>0.99700</td>\n",
       "      <td>3.26</td>\n",
       "      <td>0.65</td>\n",
       "      <td>9.8</td>\n",
       "      <td>5</td>\n",
       "    </tr>\n",
       "    <tr>\n",
       "      <th>3</th>\n",
       "      <td>11.2</td>\n",
       "      <td>0.280</td>\n",
       "      <td>0.56</td>\n",
       "      <td>1.9</td>\n",
       "      <td>0.075</td>\n",
       "      <td>17.0</td>\n",
       "      <td>60.0</td>\n",
       "      <td>0.99800</td>\n",
       "      <td>3.16</td>\n",
       "      <td>0.58</td>\n",
       "      <td>9.8</td>\n",
       "      <td>6</td>\n",
       "    </tr>\n",
       "    <tr>\n",
       "      <th>4</th>\n",
       "      <td>7.4</td>\n",
       "      <td>0.700</td>\n",
       "      <td>0.00</td>\n",
       "      <td>1.9</td>\n",
       "      <td>0.076</td>\n",
       "      <td>11.0</td>\n",
       "      <td>34.0</td>\n",
       "      <td>0.99780</td>\n",
       "      <td>3.51</td>\n",
       "      <td>0.56</td>\n",
       "      <td>9.4</td>\n",
       "      <td>5</td>\n",
       "    </tr>\n",
       "    <tr>\n",
       "      <th>...</th>\n",
       "      <td>...</td>\n",
       "      <td>...</td>\n",
       "      <td>...</td>\n",
       "      <td>...</td>\n",
       "      <td>...</td>\n",
       "      <td>...</td>\n",
       "      <td>...</td>\n",
       "      <td>...</td>\n",
       "      <td>...</td>\n",
       "      <td>...</td>\n",
       "      <td>...</td>\n",
       "      <td>...</td>\n",
       "    </tr>\n",
       "    <tr>\n",
       "      <th>1594</th>\n",
       "      <td>6.2</td>\n",
       "      <td>0.600</td>\n",
       "      <td>0.08</td>\n",
       "      <td>2.0</td>\n",
       "      <td>0.090</td>\n",
       "      <td>32.0</td>\n",
       "      <td>44.0</td>\n",
       "      <td>0.99490</td>\n",
       "      <td>3.45</td>\n",
       "      <td>0.58</td>\n",
       "      <td>10.5</td>\n",
       "      <td>5</td>\n",
       "    </tr>\n",
       "    <tr>\n",
       "      <th>1595</th>\n",
       "      <td>5.9</td>\n",
       "      <td>0.550</td>\n",
       "      <td>0.10</td>\n",
       "      <td>2.2</td>\n",
       "      <td>0.062</td>\n",
       "      <td>39.0</td>\n",
       "      <td>51.0</td>\n",
       "      <td>0.99512</td>\n",
       "      <td>3.52</td>\n",
       "      <td>0.76</td>\n",
       "      <td>11.2</td>\n",
       "      <td>6</td>\n",
       "    </tr>\n",
       "    <tr>\n",
       "      <th>1596</th>\n",
       "      <td>6.3</td>\n",
       "      <td>0.510</td>\n",
       "      <td>0.13</td>\n",
       "      <td>2.3</td>\n",
       "      <td>0.076</td>\n",
       "      <td>29.0</td>\n",
       "      <td>40.0</td>\n",
       "      <td>0.99574</td>\n",
       "      <td>3.42</td>\n",
       "      <td>0.75</td>\n",
       "      <td>11.0</td>\n",
       "      <td>6</td>\n",
       "    </tr>\n",
       "    <tr>\n",
       "      <th>1597</th>\n",
       "      <td>5.9</td>\n",
       "      <td>0.645</td>\n",
       "      <td>0.12</td>\n",
       "      <td>2.0</td>\n",
       "      <td>0.075</td>\n",
       "      <td>32.0</td>\n",
       "      <td>44.0</td>\n",
       "      <td>0.99547</td>\n",
       "      <td>3.57</td>\n",
       "      <td>0.71</td>\n",
       "      <td>10.2</td>\n",
       "      <td>5</td>\n",
       "    </tr>\n",
       "    <tr>\n",
       "      <th>1598</th>\n",
       "      <td>6.0</td>\n",
       "      <td>0.310</td>\n",
       "      <td>0.47</td>\n",
       "      <td>3.6</td>\n",
       "      <td>0.067</td>\n",
       "      <td>18.0</td>\n",
       "      <td>42.0</td>\n",
       "      <td>0.99549</td>\n",
       "      <td>3.39</td>\n",
       "      <td>0.66</td>\n",
       "      <td>11.0</td>\n",
       "      <td>6</td>\n",
       "    </tr>\n",
       "  </tbody>\n",
       "</table>\n",
       "<p>1599 rows × 12 columns</p>\n",
       "</div>"
      ],
      "text/plain": [
       "      fixed acidity  volatile acidity  citric acid  residual sugar  chlorides  \\\n",
       "0               7.4             0.700         0.00             1.9      0.076   \n",
       "1               7.8             0.880         0.00             2.6      0.098   \n",
       "2               7.8             0.760         0.04             2.3      0.092   \n",
       "3              11.2             0.280         0.56             1.9      0.075   \n",
       "4               7.4             0.700         0.00             1.9      0.076   \n",
       "...             ...               ...          ...             ...        ...   \n",
       "1594            6.2             0.600         0.08             2.0      0.090   \n",
       "1595            5.9             0.550         0.10             2.2      0.062   \n",
       "1596            6.3             0.510         0.13             2.3      0.076   \n",
       "1597            5.9             0.645         0.12             2.0      0.075   \n",
       "1598            6.0             0.310         0.47             3.6      0.067   \n",
       "\n",
       "      free sulfur dioxide  total sulfur dioxide  density    pH  sulphates  \\\n",
       "0                    11.0                  34.0  0.99780  3.51       0.56   \n",
       "1                    25.0                  67.0  0.99680  3.20       0.68   \n",
       "2                    15.0                  54.0  0.99700  3.26       0.65   \n",
       "3                    17.0                  60.0  0.99800  3.16       0.58   \n",
       "4                    11.0                  34.0  0.99780  3.51       0.56   \n",
       "...                   ...                   ...      ...   ...        ...   \n",
       "1594                 32.0                  44.0  0.99490  3.45       0.58   \n",
       "1595                 39.0                  51.0  0.99512  3.52       0.76   \n",
       "1596                 29.0                  40.0  0.99574  3.42       0.75   \n",
       "1597                 32.0                  44.0  0.99547  3.57       0.71   \n",
       "1598                 18.0                  42.0  0.99549  3.39       0.66   \n",
       "\n",
       "      alcohol  quality  \n",
       "0         9.4        5  \n",
       "1         9.8        5  \n",
       "2         9.8        5  \n",
       "3         9.8        6  \n",
       "4         9.4        5  \n",
       "...       ...      ...  \n",
       "1594     10.5        5  \n",
       "1595     11.2        6  \n",
       "1596     11.0        6  \n",
       "1597     10.2        5  \n",
       "1598     11.0        6  \n",
       "\n",
       "[1599 rows x 12 columns]"
      ]
     },
     "execution_count": 4,
     "metadata": {},
     "output_type": "execute_result"
    }
   ],
   "source": [
    "df"
   ]
  },
  {
   "cell_type": "code",
   "execution_count": 110,
   "id": "cc595e57",
   "metadata": {},
   "outputs": [],
   "source": [
    "columns= df.columns"
   ]
  },
  {
   "cell_type": "code",
   "execution_count": 30,
   "id": "3208a03e",
   "metadata": {},
   "outputs": [
    {
     "data": {
      "text/html": [
       "<div>\n",
       "<style scoped>\n",
       "    .dataframe tbody tr th:only-of-type {\n",
       "        vertical-align: middle;\n",
       "    }\n",
       "\n",
       "    .dataframe tbody tr th {\n",
       "        vertical-align: top;\n",
       "    }\n",
       "\n",
       "    .dataframe thead th {\n",
       "        text-align: right;\n",
       "    }\n",
       "</style>\n",
       "<table border=\"1\" class=\"dataframe\">\n",
       "  <thead>\n",
       "    <tr style=\"text-align: right;\">\n",
       "      <th></th>\n",
       "      <th>fixed acidity</th>\n",
       "      <th>volatile acidity</th>\n",
       "      <th>citric acid</th>\n",
       "      <th>residual sugar</th>\n",
       "      <th>chlorides</th>\n",
       "      <th>free sulfur dioxide</th>\n",
       "      <th>total sulfur dioxide</th>\n",
       "      <th>density</th>\n",
       "      <th>pH</th>\n",
       "      <th>sulphates</th>\n",
       "      <th>alcohol</th>\n",
       "      <th>quality</th>\n",
       "    </tr>\n",
       "  </thead>\n",
       "  <tbody>\n",
       "    <tr>\n",
       "      <th>7</th>\n",
       "      <td>7.3</td>\n",
       "      <td>0.65</td>\n",
       "      <td>0.00</td>\n",
       "      <td>1.2</td>\n",
       "      <td>0.065</td>\n",
       "      <td>15.0</td>\n",
       "      <td>21.0</td>\n",
       "      <td>0.99460</td>\n",
       "      <td>3.39</td>\n",
       "      <td>0.47</td>\n",
       "      <td>10.00</td>\n",
       "      <td>7</td>\n",
       "    </tr>\n",
       "    <tr>\n",
       "      <th>8</th>\n",
       "      <td>7.8</td>\n",
       "      <td>0.58</td>\n",
       "      <td>0.02</td>\n",
       "      <td>2.0</td>\n",
       "      <td>0.073</td>\n",
       "      <td>9.0</td>\n",
       "      <td>18.0</td>\n",
       "      <td>0.99680</td>\n",
       "      <td>3.36</td>\n",
       "      <td>0.57</td>\n",
       "      <td>9.50</td>\n",
       "      <td>7</td>\n",
       "    </tr>\n",
       "    <tr>\n",
       "      <th>16</th>\n",
       "      <td>8.5</td>\n",
       "      <td>0.28</td>\n",
       "      <td>0.56</td>\n",
       "      <td>1.8</td>\n",
       "      <td>0.092</td>\n",
       "      <td>35.0</td>\n",
       "      <td>103.0</td>\n",
       "      <td>0.99690</td>\n",
       "      <td>3.30</td>\n",
       "      <td>0.75</td>\n",
       "      <td>10.50</td>\n",
       "      <td>7</td>\n",
       "    </tr>\n",
       "    <tr>\n",
       "      <th>37</th>\n",
       "      <td>8.1</td>\n",
       "      <td>0.38</td>\n",
       "      <td>0.28</td>\n",
       "      <td>2.1</td>\n",
       "      <td>0.066</td>\n",
       "      <td>13.0</td>\n",
       "      <td>30.0</td>\n",
       "      <td>0.99680</td>\n",
       "      <td>3.23</td>\n",
       "      <td>0.73</td>\n",
       "      <td>9.70</td>\n",
       "      <td>7</td>\n",
       "    </tr>\n",
       "    <tr>\n",
       "      <th>62</th>\n",
       "      <td>7.5</td>\n",
       "      <td>0.52</td>\n",
       "      <td>0.16</td>\n",
       "      <td>1.9</td>\n",
       "      <td>0.085</td>\n",
       "      <td>12.0</td>\n",
       "      <td>35.0</td>\n",
       "      <td>0.99680</td>\n",
       "      <td>3.38</td>\n",
       "      <td>0.62</td>\n",
       "      <td>9.50</td>\n",
       "      <td>7</td>\n",
       "    </tr>\n",
       "    <tr>\n",
       "      <th>...</th>\n",
       "      <td>...</td>\n",
       "      <td>...</td>\n",
       "      <td>...</td>\n",
       "      <td>...</td>\n",
       "      <td>...</td>\n",
       "      <td>...</td>\n",
       "      <td>...</td>\n",
       "      <td>...</td>\n",
       "      <td>...</td>\n",
       "      <td>...</td>\n",
       "      <td>...</td>\n",
       "      <td>...</td>\n",
       "    </tr>\n",
       "    <tr>\n",
       "      <th>1541</th>\n",
       "      <td>7.4</td>\n",
       "      <td>0.25</td>\n",
       "      <td>0.29</td>\n",
       "      <td>2.2</td>\n",
       "      <td>0.054</td>\n",
       "      <td>19.0</td>\n",
       "      <td>49.0</td>\n",
       "      <td>0.99666</td>\n",
       "      <td>3.40</td>\n",
       "      <td>0.76</td>\n",
       "      <td>10.90</td>\n",
       "      <td>7</td>\n",
       "    </tr>\n",
       "    <tr>\n",
       "      <th>1544</th>\n",
       "      <td>8.4</td>\n",
       "      <td>0.37</td>\n",
       "      <td>0.43</td>\n",
       "      <td>2.3</td>\n",
       "      <td>0.063</td>\n",
       "      <td>12.0</td>\n",
       "      <td>19.0</td>\n",
       "      <td>0.99550</td>\n",
       "      <td>3.17</td>\n",
       "      <td>0.81</td>\n",
       "      <td>11.20</td>\n",
       "      <td>7</td>\n",
       "    </tr>\n",
       "    <tr>\n",
       "      <th>1549</th>\n",
       "      <td>7.4</td>\n",
       "      <td>0.36</td>\n",
       "      <td>0.30</td>\n",
       "      <td>1.8</td>\n",
       "      <td>0.074</td>\n",
       "      <td>17.0</td>\n",
       "      <td>24.0</td>\n",
       "      <td>0.99419</td>\n",
       "      <td>3.24</td>\n",
       "      <td>0.70</td>\n",
       "      <td>11.40</td>\n",
       "      <td>8</td>\n",
       "    </tr>\n",
       "    <tr>\n",
       "      <th>1555</th>\n",
       "      <td>7.0</td>\n",
       "      <td>0.56</td>\n",
       "      <td>0.17</td>\n",
       "      <td>1.7</td>\n",
       "      <td>0.065</td>\n",
       "      <td>15.0</td>\n",
       "      <td>24.0</td>\n",
       "      <td>0.99514</td>\n",
       "      <td>3.44</td>\n",
       "      <td>0.68</td>\n",
       "      <td>10.55</td>\n",
       "      <td>7</td>\n",
       "    </tr>\n",
       "    <tr>\n",
       "      <th>1584</th>\n",
       "      <td>6.7</td>\n",
       "      <td>0.32</td>\n",
       "      <td>0.44</td>\n",
       "      <td>2.4</td>\n",
       "      <td>0.061</td>\n",
       "      <td>24.0</td>\n",
       "      <td>34.0</td>\n",
       "      <td>0.99484</td>\n",
       "      <td>3.29</td>\n",
       "      <td>0.80</td>\n",
       "      <td>11.60</td>\n",
       "      <td>7</td>\n",
       "    </tr>\n",
       "  </tbody>\n",
       "</table>\n",
       "<p>217 rows × 12 columns</p>\n",
       "</div>"
      ],
      "text/plain": [
       "      fixed acidity  volatile acidity  citric acid  residual sugar  chlorides  \\\n",
       "7               7.3              0.65         0.00             1.2      0.065   \n",
       "8               7.8              0.58         0.02             2.0      0.073   \n",
       "16              8.5              0.28         0.56             1.8      0.092   \n",
       "37              8.1              0.38         0.28             2.1      0.066   \n",
       "62              7.5              0.52         0.16             1.9      0.085   \n",
       "...             ...               ...          ...             ...        ...   \n",
       "1541            7.4              0.25         0.29             2.2      0.054   \n",
       "1544            8.4              0.37         0.43             2.3      0.063   \n",
       "1549            7.4              0.36         0.30             1.8      0.074   \n",
       "1555            7.0              0.56         0.17             1.7      0.065   \n",
       "1584            6.7              0.32         0.44             2.4      0.061   \n",
       "\n",
       "      free sulfur dioxide  total sulfur dioxide  density    pH  sulphates  \\\n",
       "7                    15.0                  21.0  0.99460  3.39       0.47   \n",
       "8                     9.0                  18.0  0.99680  3.36       0.57   \n",
       "16                   35.0                 103.0  0.99690  3.30       0.75   \n",
       "37                   13.0                  30.0  0.99680  3.23       0.73   \n",
       "62                   12.0                  35.0  0.99680  3.38       0.62   \n",
       "...                   ...                   ...      ...   ...        ...   \n",
       "1541                 19.0                  49.0  0.99666  3.40       0.76   \n",
       "1544                 12.0                  19.0  0.99550  3.17       0.81   \n",
       "1549                 17.0                  24.0  0.99419  3.24       0.70   \n",
       "1555                 15.0                  24.0  0.99514  3.44       0.68   \n",
       "1584                 24.0                  34.0  0.99484  3.29       0.80   \n",
       "\n",
       "      alcohol  quality  \n",
       "7       10.00        7  \n",
       "8        9.50        7  \n",
       "16      10.50        7  \n",
       "37       9.70        7  \n",
       "62       9.50        7  \n",
       "...       ...      ...  \n",
       "1541    10.90        7  \n",
       "1544    11.20        7  \n",
       "1549    11.40        8  \n",
       "1555    10.55        7  \n",
       "1584    11.60        7  \n",
       "\n",
       "[217 rows x 12 columns]"
      ]
     },
     "execution_count": 30,
     "metadata": {},
     "output_type": "execute_result"
    }
   ],
   "source": [
    "df[df['quality']>=7]"
   ]
  },
  {
   "cell_type": "code",
   "execution_count": 52,
   "id": "9b050d1d",
   "metadata": {},
   "outputs": [
    {
     "data": {
      "application/vnd.jupyter.widget-view+json": {
       "model_id": "fd0f5e884b5c48138ca264b4e170af5b",
       "version_major": 2,
       "version_minor": 0
      },
      "text/plain": [
       "Box(children=(FloatSlider(value=4.6, continuous_update=False, description='fixed acidity', max=15.9, min=4.6),…"
      ]
     },
     "metadata": {},
     "output_type": "display_data"
    }
   ],
   "source": [
    "fixac_widget = widgets.FloatSlider(\n",
    "                    value=0,\n",
    "                    min=df[\"fixed acidity\"].min(),\n",
    "                    max=df[\"fixed acidity\"].max(),\n",
    "                    step=0.1,\n",
    "                    description= \"fixed acidity\",\n",
    "                    disabled=False,\n",
    "                    continuous_update=False,\n",
    "                    orientation=\"horizontal\")\n",
    "\n",
    "volac_widget = widgets.FloatSlider(\n",
    "                    value=0,\n",
    "                    min=df[\"volatile acidity\"].min(),\n",
    "                    max=df[\"volatile acidity\"].max(),\n",
    "                    step=0.01,\n",
    "                    description= \"volatile acidity\",\n",
    "                    disabled=False,\n",
    "                    continuous_update=False,\n",
    "                    orientation=\"horizontal\")\n",
    "\n",
    "citac_widget = widgets.FloatSlider(\n",
    "                    value=0,\n",
    "                    min=df[\"citric acid\"].min(),\n",
    "                    max=df[\"citric acid\"].max(),\n",
    "                    step=0.01,\n",
    "                    description= \"citric acid\",\n",
    "                    disabled=False,\n",
    "                    continuous_update=False,\n",
    "                    orientation=\"horizontal\")\n",
    "\n",
    "ressu_widget = widgets.FloatSlider(\n",
    "                    value=0,\n",
    "                    min=df[\"residual sugar\"].min(),\n",
    "                    max=df[\"residual sugar\"].max(),\n",
    "                    step=0.1,\n",
    "                    description= \"residual sugar\",\n",
    "                    disabled=False,\n",
    "                    continuous_update=False,\n",
    "                    orientation=\"horizontal\")\n",
    "\n",
    "chlor_widget = widgets.FloatSlider(\n",
    "                    value=0,\n",
    "                    min=df[\"chlorides\"].min(),\n",
    "                    max=df[\"chlorides\"].max(),\n",
    "                    step=0.001,\n",
    "                    description= \"chlorides\",\n",
    "                    disabled=False,\n",
    "                    continuous_update=False,\n",
    "                    orientation=\"horizontal\")\n",
    "\n",
    "frsudi_widget = widgets.FloatSlider(\n",
    "                    value=0,\n",
    "                    min=df[\"free sulfur dioxide\"].min(),\n",
    "                    max=df[\"free sulfur dioxide\"].max(),\n",
    "                    step=1.0,\n",
    "                    description= \"free sulfur dioxide\",\n",
    "                    disabled=False,\n",
    "                    continuous_update=False,\n",
    "                    orientation=\"horizontal\")\n",
    "\n",
    "tosudi_widget = widgets.FloatSlider(\n",
    "                    value=0,\n",
    "                    min=df[\"total sulfur dioxide\"].min(),\n",
    "                    max=df[\"total sulfur dioxide\"].max(),\n",
    "                    step=1.0,\n",
    "                    description= \"total sulfur dioxide\",\n",
    "                    disabled=False,\n",
    "                    continuous_update=False,\n",
    "                    orientation=\"horizontal\")\n",
    "\n",
    "dens_widget = widgets.FloatSlider(\n",
    "                    value=0,\n",
    "                    min=df[\"density\"].min(),\n",
    "                    max=df[\"density\"].max(),\n",
    "                    step=0.0001,\n",
    "                    description= \"density\",\n",
    "                    disabled=False,\n",
    "                    continuous_update=False,\n",
    "                    orientation=\"horizontal\")\n",
    "\n",
    "ph_widget = widgets.FloatSlider(\n",
    "                    value=0,\n",
    "                    min=df[\"pH\"].min(),\n",
    "                    max=df[\"pH\"].max(),\n",
    "                    step=0.01,\n",
    "                    description= \"pH\",\n",
    "                    disabled=False,\n",
    "                    continuous_update=False,\n",
    "                    orientation=\"horizontal\")\n",
    "\n",
    "sulph_widget = widgets.FloatSlider(\n",
    "                    value=0,\n",
    "                    min=df[\"sulphates\"].min(),\n",
    "                    max=df[\"sulphates\"].max(),\n",
    "                    step=0.01,\n",
    "                    description= \"sulphates\",\n",
    "                    disabled=False,\n",
    "                    continuous_update=False,\n",
    "                    orientation=\"horizontal\")\n",
    "\n",
    "alcohol_widget = widgets.FloatSlider(\n",
    "                    value=0,\n",
    "                    min=df[\"alcohol\"].min(),\n",
    "                    max=df[\"alcohol\"].max(),\n",
    "                    step=0.1,\n",
    "                    description= \"alcohol\",\n",
    "                    disabled=False,\n",
    "                    continuous_update=False,\n",
    "                    orientation=\"horizontal\")\n",
    "\n",
    "Fixac_widget\n",
    "volac_widget\n",
    "citac_widget\n",
    "ressu_widget\n",
    "chlor_widget\n",
    "frsudi_widget\n",
    "tosudi_widget\n",
    "dens_widget\n",
    "ph_widget\n",
    "sulph_widget\n",
    "alcohol_widget\n",
    "\n",
    "\n",
    "\n",
    "items = [fixac_widget,\n",
    "volac_widget,\n",
    "citac_widget,\n",
    "ressu_widget,\n",
    "chlor_widget,\n",
    "frsudi_widget,\n",
    "tosudi_widget,\n",
    "dens_widget,\n",
    "ph_widget,\n",
    "sulph_widget,\n",
    "alcohol_widget]\n",
    "\n",
    "box_layout = Layout(display='flex',\n",
    "                    flex_flow='column',\n",
    "                    align_items='stretch',\n",
    "                    border='solid',\n",
    "                    width='50%')\n",
    "\n",
    "box = Box(children=items, layout=box_layout)\n",
    "\n",
    "box"
   ]
  },
  {
   "cell_type": "code",
   "execution_count": 112,
   "id": "370d8535",
   "metadata": {},
   "outputs": [
    {
     "data": {
      "text/plain": [
       "Index(['fixed acidity', 'volatile acidity', 'citric acid', 'residual sugar',\n",
       "       'chlorides', 'free sulfur dioxide', 'total sulfur dioxide', 'density',\n",
       "       'pH', 'sulphates', 'alcohol', 'quality'],\n",
       "      dtype='object')"
      ]
     },
     "execution_count": 112,
     "metadata": {},
     "output_type": "execute_result"
    }
   ],
   "source": [
    "columns"
   ]
  },
  {
   "cell_type": "code",
   "execution_count": 130,
   "id": "1bac8317",
   "metadata": {
    "scrolled": false
   },
   "outputs": [
    {
     "data": {
      "application/vnd.jupyter.widget-view+json": {
       "model_id": "afd84805ede84f30b676a0867b5254f5",
       "version_major": 2,
       "version_minor": 0
      },
      "text/plain": [
       "Button(description='Want to know the good wine?', icon='check', style=ButtonStyle(), tooltip='Click me')"
      ]
     },
     "metadata": {},
     "output_type": "display_data"
    },
    {
     "name": "stdout",
     "output_type": "stream",
     "text": [
      "\u001b[1mfixed acidity\u001b[0m\n",
      "\n"
     ]
    },
    {
     "data": {
      "image/png": "[encoded data removed]",
      "text/plain": [
       "<Figure size 432x288 with 1 Axes>"
      ]
     },
     "metadata": {
      "needs_background": "light"
     },
     "output_type": "display_data"
    },
    {
     "name": "stdout",
     "output_type": "stream",
     "text": [
      "Most of good wines have their fixed acidity between 7.4 and 10.1\n",
      "\n",
      "Your wine has a fixed acidity of 9.4, it is exactly within the range of good wines\n",
      "\n",
      "\n",
      "\u001b[1mvolatile acidity\u001b[0m\n",
      "\n"
     ]
    },
    {
     "data": {
      "image/png": "[encoded data removed]",
      "text/plain": [
       "<Figure size 432x288 with 1 Axes>"
      ]
     },
     "metadata": {
      "needs_background": "light"
     },
     "output_type": "display_data"
    },
    {
     "name": "stdout",
     "output_type": "stream",
     "text": [
      "Most of good wines have their volatile acidity between 0.3 and 0.49\n",
      "\n",
      "Your wine has a volatile acidity of 0.43, it is exactly within the range of good wines\n",
      "\n",
      "\n",
      "\u001b[1mcitric acid\u001b[0m\n",
      "\n"
     ]
    },
    {
     "data": {
      "image/png": "[encoded data removed]",
      "text/plain": [
       "<Figure size 432x288 with 1 Axes>"
      ]
     },
     "metadata": {
      "needs_background": "light"
     },
     "output_type": "display_data"
    },
    {
     "name": "stdout",
     "output_type": "stream",
     "text": [
      "Most of good wines have their citric acid between 0.3 and 0.49\n",
      "\n",
      "Your wine has a citric acid of 0.55, it is more than most of good wines have\n",
      "\n",
      "\n",
      "\u001b[1mresidual sugar\u001b[0m\n",
      "\n"
     ]
    },
    {
     "data": {
      "image/png": "[encoded data removed]",
      "text/plain": [
       "<Figure size 432x288 with 1 Axes>"
      ]
     },
     "metadata": {
      "needs_background": "light"
     },
     "output_type": "display_data"
    },
    {
     "name": "stdout",
     "output_type": "stream",
     "text": [
      "Most of good wines have their residual sugar between 2.0 and 2.7\n",
      "\n",
      "Your wine has a residual sugar of 6.0, it is more than most of good wines have\n",
      "\n",
      "\n",
      "\u001b[1mchlorides\u001b[0m\n",
      "\n"
     ]
    },
    {
     "data": {
      "image/png": "[encoded data removed]",
      "text/plain": [
       "<Figure size 432x288 with 1 Axes>"
      ]
     },
     "metadata": {
      "needs_background": "light"
     },
     "output_type": "display_data"
    },
    {
     "name": "stdout",
     "output_type": "stream",
     "text": [
      "Most of good wines have their chlorides between 0.062 and 0.085\n",
      "\n",
      "Your wine has a chlorides of 0.308, it is more than most of good wines have\n",
      "\n",
      "\n",
      "\u001b[1mfree sulfur dioxide\u001b[0m\n",
      "\n"
     ]
    },
    {
     "data": {
      "image/png": "[encoded data removed]",
      "text/plain": [
       "<Figure size 432x288 with 1 Axes>"
      ]
     },
     "metadata": {
      "needs_background": "light"
     },
     "output_type": "display_data"
    },
    {
     "name": "stdout",
     "output_type": "stream",
     "text": [
      "Most of good wines have their free sulfur dioxide between 6.0 and 18.0\n",
      "\n",
      "Your wine has a free sulfur dioxide of 45.0, it is more than most of good wines have\n",
      "\n",
      "\n",
      "\u001b[1mtotal sulfur dioxide\u001b[0m\n",
      "\n"
     ]
    },
    {
     "data": {
      "image/png": "[encoded data removed]",
      "text/plain": [
       "<Figure size 432x288 with 1 Axes>"
      ]
     },
     "metadata": {
      "needs_background": "light"
     },
     "output_type": "display_data"
    },
    {
     "name": "stdout",
     "output_type": "stream",
     "text": [
      "Most of good wines have their total sulfur dioxide between 17.0 and 43.0\n",
      "\n",
      "Your wine has a total sulfur dioxide of 72.0, it is more than most of good wines have\n",
      "\n",
      "\n",
      "\u001b[1mdensity\u001b[0m\n",
      "\n"
     ]
    },
    {
     "data": {
      "image/png": "[encoded data removed]",
      "text/plain": [
       "<Figure size 432x288 with 1 Axes>"
      ]
     },
     "metadata": {
      "needs_background": "light"
     },
     "output_type": "display_data"
    },
    {
     "name": "stdout",
     "output_type": "stream",
     "text": [
      "Most of good wines have their density between 0.9947 and 0.99735\n",
      "\n",
      "Your wine has a density of 0.99577, it is exactly within the range of good wines\n",
      "\n",
      "\n",
      "\u001b[1mpH\u001b[0m\n",
      "\n"
     ]
    },
    {
     "data": {
      "image/png": "[encoded data removed]",
      "text/plain": [
       "<Figure size 432x288 with 1 Axes>"
      ]
     },
     "metadata": {
      "needs_background": "light"
     },
     "output_type": "display_data"
    },
    {
     "name": "stdout",
     "output_type": "stream",
     "text": [
      "Most of good wines have their pH between 3.2 and 3.38\n",
      "\n",
      "Your wine has a pH of 3.4, it is more than most of good wines have\n",
      "\n",
      "\n",
      "\u001b[1msulphates\u001b[0m\n",
      "\n"
     ]
    },
    {
     "data": {
      "image/png": "[encoded data removed]",
      "text/plain": [
       "<Figure size 432x288 with 1 Axes>"
      ]
     },
     "metadata": {
      "needs_background": "light"
     },
     "output_type": "display_data"
    },
    {
     "name": "stdout",
     "output_type": "stream",
     "text": [
      "Most of good wines have their sulphates between 0.65 and 0.82\n",
      "\n",
      "Your wine has a sulphates of 0.72, it is exactly within the range of good wines\n",
      "\n",
      "\n",
      "\u001b[1malcohol\u001b[0m\n",
      "\n"
     ]
    },
    {
     "data": {
      "image/png": "[encoded data removed]",
      "text/plain": [
       "<Figure size 432x288 with 1 Axes>"
      ]
     },
     "metadata": {
      "needs_background": "light"
     },
     "output_type": "display_data"
    },
    {
     "name": "stdout",
     "output_type": "stream",
     "text": [
      "Most of good wines have their alcohol between 10.8 and 12.2\n",
      "\n",
      "Your wine has a alcohol of 12.8, it is more than most of good wines have\n",
      "\n",
      "\n"
     ]
    }
   ],
   "source": [
    "cf = df[df['quality']>=7]\n",
    "\n",
    "run_button = widgets.Button(\n",
    "    description='Want to know the good wine?',\n",
    "    disabled=False,\n",
    "    button_style='',\n",
    "    tooltip='Click me',\n",
    "    icon='check' \n",
    ")\n",
    "\n",
    "def button_callback(button):\n",
    "    \n",
    "    \n",
    "    for column, item in zip(columns, items):\n",
    "            print('\\033[1m'+\"{}\".format(column)+'\\033[0m\\n')\n",
    "            column_Q1 = cf[column].quantile(0.25)\n",
    "            column_Q3 = cf[column].quantile(0.75)\n",
    "    \n",
    "            sns.boxplot(x= cf[column])\n",
    "            plt.annotate( \"Your\\n Wine\",(item.value,0),weight='bold', textcoords='data',xytext=(item.value-((cf[column].max()-cf[column].min())/10), 0),\n",
    "                    arrowprops=dict(facecolor='red', shrink=0.05),\n",
    "                    va='center', ha='right')\n",
    "            plt.show()\n",
    "#   \n",
    "            print('Most of good wines have their {} between {} and {}\\n'.format(column,column_Q1, column_Q3))\n",
    "   \n",
    "            if item.value < column_Q1:\n",
    "                print('Your wine has a {} of {}, it is less than most of good wines have\\n\\n'.format(column, item.value))\n",
    "            elif item.value >= column_Q1 and item.value <= column_Q3:\n",
    "                print('Your wine has a {} of {}, it is exactly within the range of good wines\\n\\n'.format(column, item.value))\n",
    "            elif item.value > column_Q3:\n",
    "                print('Your wine has a {} of {}, it is more than most of good wines have\\n\\n'.format(column, item.value))\n",
    "     \n",
    "    \n",
    "    \n",
    "run_button.on_click(button_callback)\n",
    "display(run_button)"
   ]
  },
  {
   "cell_type": "code",
   "execution_count": null,
   "id": "4531ff80",
   "metadata": {},
   "outputs": [],
   "source": []
  }
 ],
 "metadata": {
  "kernelspec": {
   "display_name": "Python 3",
   "language": "python",
   "name": "python3"
  },
  "language_info": {
   "codemirror_mode": {
    "name": "ipython",
    "version": 3
   },
   "file_extension": ".py",
   "mimetype": "text/x-python",
   "name": "python",
   "nbconvert_exporter": "python",
   "pygments_lexer": "ipython3",
   "version": "3.8.8"
  }
 },
 "nbformat": 4,
 "nbformat_minor": 5
}
