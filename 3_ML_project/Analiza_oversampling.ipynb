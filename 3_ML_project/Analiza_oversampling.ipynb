{
 "cells": [
  {
   "cell_type": "code",
   "execution_count": 295,
   "id": "94151c15",
   "metadata": {},
   "outputs": [],
   "source": [
    "import pandas as pd\n",
    "import numpy as np\n",
    "import seaborn as sns\n",
    "import matplotlib.pyplot as plt\n",
    "from scipy import stats\n",
    "\n",
    "from sklearn.preprocessing import StandardScaler\n",
    "from sklearn.model_selection import train_test_split\n",
    "from sklearn.model_selection import GridSearchCV\n",
    "from sklearn.model_selection import cross_val_score\n",
    "\n",
    "from sklearn.ensemble import RandomForestClassifier\n",
    "from sklearn.neighbors import KNeighborsClassifier\n",
    "import xgboost as xgb\n",
    "from sklearn.svm import SVC\n",
    "\n",
    "from imblearn.over_sampling import RandomOverSampler\n",
    "from imblearn.under_sampling import RandomUnderSampler\n",
    "from imblearn.over_sampling import SMOTE\n",
    "from imblearn.pipeline import Pipeline\n",
    "\n",
    "from sklearn.metrics import confusion_matrix, classification_report, accuracy_score, roc_auc_score\n",
    "\n",
    "from collections import Counter"
   ]
  },
  {
   "cell_type": "code",
   "execution_count": 80,
   "id": "5257c856",
   "metadata": {},
   "outputs": [],
   "source": [
    "df = pd.read_csv('winequality-red.csv')"
   ]
  },
  {
   "cell_type": "code",
   "execution_count": 81,
   "id": "1559f172",
   "metadata": {},
   "outputs": [
    {
     "data": {
      "text/html": [
       "<div>\n",
       "<style scoped>\n",
       "    .dataframe tbody tr th:only-of-type {\n",
       "        vertical-align: middle;\n",
       "    }\n",
       "\n",
       "    .dataframe tbody tr th {\n",
       "        vertical-align: top;\n",
       "    }\n",
       "\n",
       "    .dataframe thead th {\n",
       "        text-align: right;\n",
       "    }\n",
       "</style>\n",
       "<table border=\"1\" class=\"dataframe\">\n",
       "  <thead>\n",
       "    <tr style=\"text-align: right;\">\n",
       "      <th></th>\n",
       "      <th>fixed acidity</th>\n",
       "      <th>volatile acidity</th>\n",
       "      <th>citric acid</th>\n",
       "      <th>residual sugar</th>\n",
       "      <th>chlorides</th>\n",
       "      <th>free sulfur dioxide</th>\n",
       "      <th>total sulfur dioxide</th>\n",
       "      <th>density</th>\n",
       "      <th>pH</th>\n",
       "      <th>sulphates</th>\n",
       "      <th>alcohol</th>\n",
       "      <th>quality</th>\n",
       "    </tr>\n",
       "  </thead>\n",
       "  <tbody>\n",
       "    <tr>\n",
       "      <th>0</th>\n",
       "      <td>7.4</td>\n",
       "      <td>0.70</td>\n",
       "      <td>0.00</td>\n",
       "      <td>1.9</td>\n",
       "      <td>0.076</td>\n",
       "      <td>11.0</td>\n",
       "      <td>34.0</td>\n",
       "      <td>0.9978</td>\n",
       "      <td>3.51</td>\n",
       "      <td>0.56</td>\n",
       "      <td>9.4</td>\n",
       "      <td>5</td>\n",
       "    </tr>\n",
       "    <tr>\n",
       "      <th>1</th>\n",
       "      <td>7.8</td>\n",
       "      <td>0.88</td>\n",
       "      <td>0.00</td>\n",
       "      <td>2.6</td>\n",
       "      <td>0.098</td>\n",
       "      <td>25.0</td>\n",
       "      <td>67.0</td>\n",
       "      <td>0.9968</td>\n",
       "      <td>3.20</td>\n",
       "      <td>0.68</td>\n",
       "      <td>9.8</td>\n",
       "      <td>5</td>\n",
       "    </tr>\n",
       "    <tr>\n",
       "      <th>2</th>\n",
       "      <td>7.8</td>\n",
       "      <td>0.76</td>\n",
       "      <td>0.04</td>\n",
       "      <td>2.3</td>\n",
       "      <td>0.092</td>\n",
       "      <td>15.0</td>\n",
       "      <td>54.0</td>\n",
       "      <td>0.9970</td>\n",
       "      <td>3.26</td>\n",
       "      <td>0.65</td>\n",
       "      <td>9.8</td>\n",
       "      <td>5</td>\n",
       "    </tr>\n",
       "    <tr>\n",
       "      <th>3</th>\n",
       "      <td>11.2</td>\n",
       "      <td>0.28</td>\n",
       "      <td>0.56</td>\n",
       "      <td>1.9</td>\n",
       "      <td>0.075</td>\n",
       "      <td>17.0</td>\n",
       "      <td>60.0</td>\n",
       "      <td>0.9980</td>\n",
       "      <td>3.16</td>\n",
       "      <td>0.58</td>\n",
       "      <td>9.8</td>\n",
       "      <td>6</td>\n",
       "    </tr>\n",
       "    <tr>\n",
       "      <th>4</th>\n",
       "      <td>7.4</td>\n",
       "      <td>0.70</td>\n",
       "      <td>0.00</td>\n",
       "      <td>1.9</td>\n",
       "      <td>0.076</td>\n",
       "      <td>11.0</td>\n",
       "      <td>34.0</td>\n",
       "      <td>0.9978</td>\n",
       "      <td>3.51</td>\n",
       "      <td>0.56</td>\n",
       "      <td>9.4</td>\n",
       "      <td>5</td>\n",
       "    </tr>\n",
       "  </tbody>\n",
       "</table>\n",
       "</div>"
      ],
      "text/plain": [
       "   fixed acidity  volatile acidity  citric acid  residual sugar  chlorides  \\\n",
       "0            7.4              0.70         0.00             1.9      0.076   \n",
       "1            7.8              0.88         0.00             2.6      0.098   \n",
       "2            7.8              0.76         0.04             2.3      0.092   \n",
       "3           11.2              0.28         0.56             1.9      0.075   \n",
       "4            7.4              0.70         0.00             1.9      0.076   \n",
       "\n",
       "   free sulfur dioxide  total sulfur dioxide  density    pH  sulphates  \\\n",
       "0                 11.0                  34.0   0.9978  3.51       0.56   \n",
       "1                 25.0                  67.0   0.9968  3.20       0.68   \n",
       "2                 15.0                  54.0   0.9970  3.26       0.65   \n",
       "3                 17.0                  60.0   0.9980  3.16       0.58   \n",
       "4                 11.0                  34.0   0.9978  3.51       0.56   \n",
       "\n",
       "   alcohol  quality  \n",
       "0      9.4        5  \n",
       "1      9.8        5  \n",
       "2      9.8        5  \n",
       "3      9.8        6  \n",
       "4      9.4        5  "
      ]
     },
     "execution_count": 81,
     "metadata": {},
     "output_type": "execute_result"
    }
   ],
   "source": [
    "df.head()"
   ]
  },
  {
   "cell_type": "code",
   "execution_count": 82,
   "id": "42af59c5",
   "metadata": {
    "scrolled": true
   },
   "outputs": [
    {
     "data": {
      "image/png": "[encoded data removed]",
      "text/plain": [
       "<Figure size 432x288 with 1 Axes>"
      ]
     },
     "metadata": {},
     "output_type": "display_data"
    }
   ],
   "source": [
    "sns.countplot(x=df.quality);"
   ]
  },
  {
   "cell_type": "code",
   "execution_count": 336,
   "id": "376beac3",
   "metadata": {},
   "outputs": [
    {
     "data": {
      "text/plain": [
       "6.0"
      ]
     },
     "execution_count": 336,
     "metadata": {},
     "output_type": "execute_result"
    }
   ],
   "source": [
    "df.quality.median()"
   ]
  },
  {
   "cell_type": "code",
   "execution_count": 83,
   "id": "973c35e7",
   "metadata": {},
   "outputs": [
    {
     "data": {
      "text/plain": [
       "5    681\n",
       "6    638\n",
       "7    199\n",
       "4     53\n",
       "8     18\n",
       "3     10\n",
       "Name: quality, dtype: int64"
      ]
     },
     "execution_count": 83,
     "metadata": {},
     "output_type": "execute_result"
    }
   ],
   "source": [
    "df.quality.value_counts()"
   ]
  },
  {
   "cell_type": "code",
   "execution_count": 84,
   "id": "c5a992e0",
   "metadata": {
    "scrolled": true
   },
   "outputs": [
    {
     "data": {
      "image/png": "[encoded data removed]",
      "text/plain": [
       "<Figure size 360x216 with 1 Axes>"
      ]
     },
     "metadata": {},
     "output_type": "display_data"
    },
    {
     "data": {
      "image/png": "[encoded data removed]",
      "text/plain": [
       "<Figure size 360x216 with 1 Axes>"
      ]
     },
     "metadata": {},
     "output_type": "display_data"
    },
    {
     "data": {
      "image/png": "[encoded data removed]",
      "text/plain": [
       "<Figure size 360x216 with 1 Axes>"
      ]
     },
     "metadata": {},
     "output_type": "display_data"
    },
    {
     "data": {
      "image/png": "[encoded data removed]",
      "text/plain": [
       "<Figure size 360x216 with 1 Axes>"
      ]
     },
     "metadata": {},
     "output_type": "display_data"
    },
    {
     "data": {
      "image/png": "[encoded data removed]",
      "text/plain": [
       "<Figure size 360x216 with 1 Axes>"
      ]
     },
     "metadata": {},
     "output_type": "display_data"
    },
    {
     "data": {
      "image/png": "[encoded data removed]",
      "text/plain": [
       "<Figure size 360x216 with 1 Axes>"
      ]
     },
     "metadata": {},
     "output_type": "display_data"
    },
    {
     "data": {
      "image/png": "[encoded data removed]",
      "text/plain": [
       "<Figure size 360x216 with 1 Axes>"
      ]
     },
     "metadata": {},
     "output_type": "display_data"
    },
    {
     "data": {
      "image/png": "[encoded data removed]",
      "text/plain": [
       "<Figure size 360x216 with 1 Axes>"
      ]
     },
     "metadata": {},
     "output_type": "display_data"
    },
    {
     "data": {
      "image/png": "[encoded data removed]",
      "text/plain": [
       "<Figure size 360x216 with 1 Axes>"
      ]
     },
     "metadata": {},
     "output_type": "display_data"
    },
    {
     "data": {
      "image/png": "[encoded data removed]",
      "text/plain": [
       "<Figure size 360x216 with 1 Axes>"
      ]
     },
     "metadata": {},
     "output_type": "display_data"
    },
    {
     "data": {
      "image/png": "[encoded data removed]",
      "text/plain": [
       "<Figure size 360x216 with 1 Axes>"
      ]
     },
     "metadata": {},
     "output_type": "display_data"
    }
   ],
   "source": [
    "# Boxploty\n",
    "\n",
    "sns.set_theme(style=\"whitegrid\")\n",
    "\n",
    "list_columns = list(df.drop(\"quality\", axis=1).columns)\n",
    "\n",
    "for column in list_columns:\n",
    "    f, ax = plt.subplots(figsize=(5, 3))\n",
    "    sns.boxplot(x=df[column], palette=\"vlag\")\n",
    "    ax.set_xlabel(column,fontsize=15)\n",
    "    ax.tick_params(labelsize=15);"
   ]
  },
  {
   "cell_type": "markdown",
   "id": "c4836fa4",
   "metadata": {},
   "source": [
    "### Podział na zbiór treningowy i testowy"
   ]
  },
  {
   "cell_type": "code",
   "execution_count": 85,
   "id": "f0abc31e",
   "metadata": {},
   "outputs": [
    {
     "data": {
      "text/plain": [
       "5    477\n",
       "6    446\n",
       "7    139\n",
       "4     37\n",
       "8     13\n",
       "3      7\n",
       "Name: quality, dtype: int64"
      ]
     },
     "execution_count": 85,
     "metadata": {},
     "output_type": "execute_result"
    }
   ],
   "source": [
    "# Podział na zbiór treningowy i testowy\n",
    "\n",
    "X = df.drop(\"quality\", axis=1)\n",
    "y = df.quality\n",
    "\n",
    "X_train, X_test, y_train, y_test = train_test_split(X, y, test_size=0.3, stratify = df.quality, random_state=0)\n",
    "y_train.value_counts()"
   ]
  },
  {
   "cell_type": "markdown",
   "id": "ef7e6259",
   "metadata": {},
   "source": [
    "### Oversampling / Undersampling"
   ]
  },
  {
   "cell_type": "code",
   "execution_count": 86,
   "id": "54a3073b",
   "metadata": {},
   "outputs": [
    {
     "name": "stdout",
     "output_type": "stream",
     "text": [
      "Oversampled: Counter({5: 477, 6: 446, 8: 177, 4: 177, 3: 177, 7: 139})\n",
      "Combined Random Sampling: Counter({5: 382, 6: 357, 3: 177, 4: 177, 8: 177, 7: 139})\n"
     ]
    }
   ],
   "source": [
    "# # instantiating over and under sampler\n",
    "# over_strategy = {3: 177, 4: 177, 8: 177}                      # 50% średniej z 3 najliczniejszych klas\n",
    "# over = RandomOverSampler(sampling_strategy=over_strategy)\n",
    "# under_strategy = {5: 382, 6: 357}                             # 80% wartości każdej z dwóch najliczniejszych klas\n",
    "# under = RandomUnderSampler(sampling_strategy=under_strategy)\n",
    "\n",
    "# # first performing oversampling to minority class\n",
    "# X_over, y_over = over.fit_resample(X_train, y_train)\n",
    "# print(f\"Oversampled: {Counter(y_over)}\")\n",
    "\n",
    "# # now to comine under sampling \n",
    "# X_combined, y_combined = under.fit_resample(X_over, y_over)\n",
    "# print(f\"Combined Random Sampling: {Counter(y_combined)}\")"
   ]
  },
  {
   "cell_type": "code",
   "execution_count": 296,
   "id": "ace90aac",
   "metadata": {},
   "outputs": [
    {
     "name": "stdout",
     "output_type": "stream",
     "text": [
      "Oversampled: Counter({5: 382, 6: 357, 3: 177, 4: 177, 8: 177, 7: 139})\n"
     ]
    }
   ],
   "source": [
    "# instantiating over and under sampler\n",
    "over_strategy = {3: 177, 4: 177, 8: 177}                      # 50% średniej z 3 najliczniejszych klas\n",
    "over = SMOTE(sampling_strategy=over_strategy, random_state=20)\n",
    "under_strategy = {5: 382, 6: 357}                             # 80% wartości każdej z dwóch najliczniejszych klas\n",
    "under = RandomUnderSampler(sampling_strategy=under_strategy)\n",
    "\n",
    "# now to comine over and under sampling\n",
    "steps = [('o', over), ('u', under)]\n",
    "pipeline = Pipeline(steps=steps)\n",
    "\n",
    "X_combined, y_combined = pipeline.fit_resample(X_train, y_train)\n",
    "print(f\"Oversampled: {Counter(y_combined)}\")"
   ]
  },
  {
   "cell_type": "code",
   "execution_count": 297,
   "id": "595435e7",
   "metadata": {
    "scrolled": true
   },
   "outputs": [
    {
     "data": {
      "text/plain": [
       "5    382\n",
       "6    357\n",
       "3    177\n",
       "4    177\n",
       "8    177\n",
       "7    139\n",
       "Name: quality, dtype: int64"
      ]
     },
     "execution_count": 297,
     "metadata": {},
     "output_type": "execute_result"
    }
   ],
   "source": [
    "y_combined.value_counts()"
   ]
  },
  {
   "cell_type": "markdown",
   "id": "613f709a",
   "metadata": {},
   "source": [
    "### Usuwanie outlier'ów"
   ]
  },
  {
   "cell_type": "code",
   "execution_count": 298,
   "id": "0c012ef0",
   "metadata": {
    "scrolled": true
   },
   "outputs": [
    {
     "data": {
      "image/png": "[encoded data removed]",
      "text/plain": [
       "<Figure size 360x216 with 1 Axes>"
      ]
     },
     "metadata": {},
     "output_type": "display_data"
    },
    {
     "data": {
      "image/png": "[encoded data removed]",
      "text/plain": [
       "<Figure size 360x216 with 1 Axes>"
      ]
     },
     "metadata": {},
     "output_type": "display_data"
    },
    {
     "data": {
      "image/png": "[encoded data removed]",
      "text/plain": [
       "<Figure size 360x216 with 1 Axes>"
      ]
     },
     "metadata": {},
     "output_type": "display_data"
    },
    {
     "data": {
      "image/png": "[encoded data removed]",
      "text/plain": [
       "<Figure size 360x216 with 1 Axes>"
      ]
     },
     "metadata": {},
     "output_type": "display_data"
    },
    {
     "data": {
      "image/png": "[encoded data removed]",
      "text/plain": [
       "<Figure size 360x216 with 1 Axes>"
      ]
     },
     "metadata": {},
     "output_type": "display_data"
    },
    {
     "data": {
      "image/png": "[encoded data removed]",
      "text/plain": [
       "<Figure size 360x216 with 1 Axes>"
      ]
     },
     "metadata": {},
     "output_type": "display_data"
    },
    {
     "data": {
      "image/png": "[encoded data removed]",
      "text/plain": [
       "<Figure size 360x216 with 1 Axes>"
      ]
     },
     "metadata": {},
     "output_type": "display_data"
    },
    {
     "data": {
      "image/png": "[encoded data removed]",
      "text/plain": [
       "<Figure size 360x216 with 1 Axes>"
      ]
     },
     "metadata": {},
     "output_type": "display_data"
    },
    {
     "data": {
      "image/png": "[encoded data removed]",
      "text/plain": [
       "<Figure size 360x216 with 1 Axes>"
      ]
     },
     "metadata": {},
     "output_type": "display_data"
    },
    {
     "data": {
      "image/png": "[encoded data removed]",
      "text/plain": [
       "<Figure size 360x216 with 1 Axes>"
      ]
     },
     "metadata": {},
     "output_type": "display_data"
    },
    {
     "data": {
      "image/png": "[encoded data removed]",
      "text/plain": [
       "<Figure size 360x216 with 1 Axes>"
      ]
     },
     "metadata": {},
     "output_type": "display_data"
    }
   ],
   "source": [
    "# Boxploty przed usunięciem outlier'ów\n",
    "\n",
    "sns.set_theme(style=\"whitegrid\")\n",
    "\n",
    "list_columns_comb = list(X_combined.columns)\n",
    "\n",
    "for column in list_columns_comb:\n",
    "    f, ax = plt.subplots(figsize=(5, 3))\n",
    "    sns.boxplot(x=X_combined[column], palette=\"vlag\")\n",
    "    ax.set_xlabel(column,fontsize=15)\n",
    "    ax.tick_params(labelsize=15);"
   ]
  },
  {
   "cell_type": "code",
   "execution_count": 299,
   "id": "21a4b908",
   "metadata": {},
   "outputs": [],
   "source": [
    "# Usuwanie outlier'ów z zestawu treningowego\n",
    "\n",
    "def drop_outliers(dff, column):\n",
    "    iqr = np.percentile(dff[column], 75) - np.percentile(dff[column], 25)\n",
    "    dff.drop(dff[dff[column] < np.percentile(dff[column], 25) - 3.0 * iqr].index, inplace=True)\n",
    "    dff.drop(dff[dff[column] > np.percentile(dff[column], 75) + 3.0 * iqr].index, inplace=True)\n",
    "    return dff"
   ]
  },
  {
   "cell_type": "code",
   "execution_count": 300,
   "id": "fc926b92",
   "metadata": {
    "scrolled": true
   },
   "outputs": [
    {
     "data": {
      "text/html": [
       "<div>\n",
       "<style scoped>\n",
       "    .dataframe tbody tr th:only-of-type {\n",
       "        vertical-align: middle;\n",
       "    }\n",
       "\n",
       "    .dataframe tbody tr th {\n",
       "        vertical-align: top;\n",
       "    }\n",
       "\n",
       "    .dataframe thead th {\n",
       "        text-align: right;\n",
       "    }\n",
       "</style>\n",
       "<table border=\"1\" class=\"dataframe\">\n",
       "  <thead>\n",
       "    <tr style=\"text-align: right;\">\n",
       "      <th></th>\n",
       "      <th>fixed acidity</th>\n",
       "      <th>volatile acidity</th>\n",
       "      <th>citric acid</th>\n",
       "      <th>residual sugar</th>\n",
       "      <th>chlorides</th>\n",
       "      <th>free sulfur dioxide</th>\n",
       "      <th>total sulfur dioxide</th>\n",
       "      <th>density</th>\n",
       "      <th>pH</th>\n",
       "      <th>sulphates</th>\n",
       "      <th>alcohol</th>\n",
       "      <th>quality</th>\n",
       "    </tr>\n",
       "  </thead>\n",
       "  <tbody>\n",
       "    <tr>\n",
       "      <th>0</th>\n",
       "      <td>6.7</td>\n",
       "      <td>0.760</td>\n",
       "      <td>0.02</td>\n",
       "      <td>1.80</td>\n",
       "      <td>0.078</td>\n",
       "      <td>6.0</td>\n",
       "      <td>12.0</td>\n",
       "      <td>0.99600</td>\n",
       "      <td>3.55</td>\n",
       "      <td>0.63</td>\n",
       "      <td>9.95</td>\n",
       "      <td>3</td>\n",
       "    </tr>\n",
       "    <tr>\n",
       "      <th>1</th>\n",
       "      <td>10.4</td>\n",
       "      <td>0.610</td>\n",
       "      <td>0.49</td>\n",
       "      <td>2.10</td>\n",
       "      <td>0.200</td>\n",
       "      <td>5.0</td>\n",
       "      <td>16.0</td>\n",
       "      <td>0.99940</td>\n",
       "      <td>3.16</td>\n",
       "      <td>0.63</td>\n",
       "      <td>8.40</td>\n",
       "      <td>3</td>\n",
       "    </tr>\n",
       "    <tr>\n",
       "      <th>2</th>\n",
       "      <td>7.1</td>\n",
       "      <td>0.875</td>\n",
       "      <td>0.05</td>\n",
       "      <td>5.70</td>\n",
       "      <td>0.082</td>\n",
       "      <td>3.0</td>\n",
       "      <td>14.0</td>\n",
       "      <td>0.99808</td>\n",
       "      <td>3.40</td>\n",
       "      <td>0.52</td>\n",
       "      <td>10.20</td>\n",
       "      <td>3</td>\n",
       "    </tr>\n",
       "    <tr>\n",
       "      <th>3</th>\n",
       "      <td>8.3</td>\n",
       "      <td>1.020</td>\n",
       "      <td>0.02</td>\n",
       "      <td>3.40</td>\n",
       "      <td>0.084</td>\n",
       "      <td>6.0</td>\n",
       "      <td>11.0</td>\n",
       "      <td>0.99892</td>\n",
       "      <td>3.48</td>\n",
       "      <td>0.49</td>\n",
       "      <td>11.00</td>\n",
       "      <td>3</td>\n",
       "    </tr>\n",
       "    <tr>\n",
       "      <th>4</th>\n",
       "      <td>7.4</td>\n",
       "      <td>1.185</td>\n",
       "      <td>0.00</td>\n",
       "      <td>4.25</td>\n",
       "      <td>0.097</td>\n",
       "      <td>5.0</td>\n",
       "      <td>14.0</td>\n",
       "      <td>0.99660</td>\n",
       "      <td>3.63</td>\n",
       "      <td>0.54</td>\n",
       "      <td>10.70</td>\n",
       "      <td>3</td>\n",
       "    </tr>\n",
       "  </tbody>\n",
       "</table>\n",
       "</div>"
      ],
      "text/plain": [
       "   fixed acidity  volatile acidity  citric acid  residual sugar  chlorides  \\\n",
       "0            6.7             0.760         0.02            1.80      0.078   \n",
       "1           10.4             0.610         0.49            2.10      0.200   \n",
       "2            7.1             0.875         0.05            5.70      0.082   \n",
       "3            8.3             1.020         0.02            3.40      0.084   \n",
       "4            7.4             1.185         0.00            4.25      0.097   \n",
       "\n",
       "   free sulfur dioxide  total sulfur dioxide  density    pH  sulphates  \\\n",
       "0                  6.0                  12.0  0.99600  3.55       0.63   \n",
       "1                  5.0                  16.0  0.99940  3.16       0.63   \n",
       "2                  3.0                  14.0  0.99808  3.40       0.52   \n",
       "3                  6.0                  11.0  0.99892  3.48       0.49   \n",
       "4                  5.0                  14.0  0.99660  3.63       0.54   \n",
       "\n",
       "   alcohol  quality  \n",
       "0     9.95        3  \n",
       "1     8.40        3  \n",
       "2    10.20        3  \n",
       "3    11.00        3  \n",
       "4    10.70        3  "
      ]
     },
     "execution_count": 300,
     "metadata": {},
     "output_type": "execute_result"
    }
   ],
   "source": [
    "df_train = pd.concat([X_combined, y_combined], axis=1)\n",
    "df_train.head()"
   ]
  },
  {
   "cell_type": "code",
   "execution_count": 301,
   "id": "77245fd5",
   "metadata": {},
   "outputs": [
    {
     "data": {
      "text/plain": [
       "(1409, 12)"
      ]
     },
     "execution_count": 301,
     "metadata": {},
     "output_type": "execute_result"
    }
   ],
   "source": [
    "df_train.shape"
   ]
  },
  {
   "cell_type": "code",
   "execution_count": 302,
   "id": "7267d372",
   "metadata": {},
   "outputs": [
    {
     "data": {
      "image/png": "[encoded data removed]",
      "text/plain": [
       "<Figure size 360x216 with 1 Axes>"
      ]
     },
     "metadata": {},
     "output_type": "display_data"
    },
    {
     "data": {
      "image/png": "[encoded data removed]",
      "text/plain": [
       "<Figure size 360x216 with 1 Axes>"
      ]
     },
     "metadata": {},
     "output_type": "display_data"
    },
    {
     "data": {
      "image/png": "[encoded data removed]",
      "text/plain": [
       "<Figure size 360x216 with 1 Axes>"
      ]
     },
     "metadata": {},
     "output_type": "display_data"
    },
    {
     "data": {
      "image/png": "[encoded data removed]",
      "text/plain": [
       "<Figure size 360x216 with 1 Axes>"
      ]
     },
     "metadata": {},
     "output_type": "display_data"
    },
    {
     "data": {
      "image/png": "[encoded data removed]",
      "text/plain": [
       "<Figure size 360x216 with 1 Axes>"
      ]
     },
     "metadata": {},
     "output_type": "display_data"
    },
    {
     "data": {
      "image/png": "[encoded data removed]",
      "text/plain": [
       "<Figure size 360x216 with 1 Axes>"
      ]
     },
     "metadata": {},
     "output_type": "display_data"
    },
    {
     "data": {
      "image/png": "[encoded data removed]",
      "text/plain": [
       "<Figure size 360x216 with 1 Axes>"
      ]
     },
     "metadata": {},
     "output_type": "display_data"
    },
    {
     "data": {
      "image/png": "[encoded data removed]",
      "text/plain": [
       "<Figure size 360x216 with 1 Axes>"
      ]
     },
     "metadata": {},
     "output_type": "display_data"
    },
    {
     "data": {
      "image/png": "[encoded data removed]",
      "text/plain": [
       "<Figure size 360x216 with 1 Axes>"
      ]
     },
     "metadata": {},
     "output_type": "display_data"
    },
    {
     "data": {
      "image/png": "[encoded data removed]",
      "text/plain": [
       "<Figure size 360x216 with 1 Axes>"
      ]
     },
     "metadata": {},
     "output_type": "display_data"
    },
    {
     "data": {
      "image/png": "[encoded data removed]",
      "text/plain": [
       "<Figure size 360x216 with 1 Axes>"
      ]
     },
     "metadata": {},
     "output_type": "display_data"
    }
   ],
   "source": [
    "# Boxploty po usunięciu outlier'ów\n",
    "\n",
    "for column in list_columns:\n",
    "    drop_outliers(df_train, column=column)\n",
    "    \n",
    "    f, ax = plt.subplots(figsize=(5, 3))\n",
    "    sns.boxplot(x=df_train[column], palette=\"vlag\")\n",
    "    ax.set_xlabel(column,fontsize=15)\n",
    "    ax.tick_params(labelsize=15);"
   ]
  },
  {
   "cell_type": "code",
   "execution_count": 303,
   "id": "e4f05fbd",
   "metadata": {},
   "outputs": [
    {
     "data": {
      "text/plain": [
       "(1253, 12)"
      ]
     },
     "execution_count": 303,
     "metadata": {},
     "output_type": "execute_result"
    }
   ],
   "source": [
    "df_train.shape"
   ]
  },
  {
   "cell_type": "code",
   "execution_count": 304,
   "id": "81deee40",
   "metadata": {},
   "outputs": [
    {
     "data": {
      "text/plain": [
       "5    337\n",
       "6    330\n",
       "8    177\n",
       "4    166\n",
       "7    125\n",
       "3    118\n",
       "Name: quality, dtype: int64"
      ]
     },
     "execution_count": 304,
     "metadata": {},
     "output_type": "execute_result"
    }
   ],
   "source": [
    "X_train_outlier = df_train.drop(\"quality\", axis=1)\n",
    "y_train_outlier = df_train.quality\n",
    "\n",
    "y_train_outlier.value_counts()"
   ]
  },
  {
   "cell_type": "code",
   "execution_count": 305,
   "id": "07677f5c",
   "metadata": {},
   "outputs": [],
   "source": [
    "# Usuwanie outlier'ów z zestawu testowego (z wykorzystaniem iqr i percentyli z zestawu treningowego)\n",
    "\n",
    "def drop_outliers_test(df_train, df_test, column):\n",
    "    iqr = np.percentile(df_train[column], 75) - np.percentile(df_train[column], 25)\n",
    "    df_test.drop(df_test[df_test[column] < np.percentile(df_train[column], 25) - 3.0 * iqr].index, inplace=True)\n",
    "    df_test.drop(df_test[df_test[column] > np.percentile(df_train[column], 75) + 3.0 * iqr].index, inplace=True)\n",
    "    return df_test"
   ]
  },
  {
   "cell_type": "code",
   "execution_count": 306,
   "id": "1be637b2",
   "metadata": {},
   "outputs": [
    {
     "data": {
      "text/plain": [
       "5    204\n",
       "6    192\n",
       "7     60\n",
       "4     16\n",
       "8      5\n",
       "3      3\n",
       "Name: quality, dtype: int64"
      ]
     },
     "execution_count": 306,
     "metadata": {},
     "output_type": "execute_result"
    }
   ],
   "source": [
    "# Sprawdzenie przed usunięciem\n",
    "\n",
    "y_test.value_counts()"
   ]
  },
  {
   "cell_type": "code",
   "execution_count": 307,
   "id": "5457e4db",
   "metadata": {
    "scrolled": false
   },
   "outputs": [
    {
     "data": {
      "text/html": [
       "<div>\n",
       "<style scoped>\n",
       "    .dataframe tbody tr th:only-of-type {\n",
       "        vertical-align: middle;\n",
       "    }\n",
       "\n",
       "    .dataframe tbody tr th {\n",
       "        vertical-align: top;\n",
       "    }\n",
       "\n",
       "    .dataframe thead th {\n",
       "        text-align: right;\n",
       "    }\n",
       "</style>\n",
       "<table border=\"1\" class=\"dataframe\">\n",
       "  <thead>\n",
       "    <tr style=\"text-align: right;\">\n",
       "      <th></th>\n",
       "      <th>fixed acidity</th>\n",
       "      <th>volatile acidity</th>\n",
       "      <th>citric acid</th>\n",
       "      <th>residual sugar</th>\n",
       "      <th>chlorides</th>\n",
       "      <th>free sulfur dioxide</th>\n",
       "      <th>total sulfur dioxide</th>\n",
       "      <th>density</th>\n",
       "      <th>pH</th>\n",
       "      <th>sulphates</th>\n",
       "      <th>alcohol</th>\n",
       "      <th>quality</th>\n",
       "    </tr>\n",
       "  </thead>\n",
       "  <tbody>\n",
       "    <tr>\n",
       "      <th>435</th>\n",
       "      <td>12.3</td>\n",
       "      <td>0.39</td>\n",
       "      <td>0.63</td>\n",
       "      <td>2.30</td>\n",
       "      <td>0.091</td>\n",
       "      <td>6.0</td>\n",
       "      <td>18.0</td>\n",
       "      <td>1.00040</td>\n",
       "      <td>3.16</td>\n",
       "      <td>0.49</td>\n",
       "      <td>9.5</td>\n",
       "      <td>5</td>\n",
       "    </tr>\n",
       "    <tr>\n",
       "      <th>125</th>\n",
       "      <td>9.0</td>\n",
       "      <td>0.62</td>\n",
       "      <td>0.04</td>\n",
       "      <td>1.90</td>\n",
       "      <td>0.146</td>\n",
       "      <td>27.0</td>\n",
       "      <td>90.0</td>\n",
       "      <td>0.99840</td>\n",
       "      <td>3.16</td>\n",
       "      <td>0.70</td>\n",
       "      <td>9.4</td>\n",
       "      <td>5</td>\n",
       "    </tr>\n",
       "    <tr>\n",
       "      <th>1245</th>\n",
       "      <td>7.4</td>\n",
       "      <td>0.55</td>\n",
       "      <td>0.19</td>\n",
       "      <td>1.80</td>\n",
       "      <td>0.082</td>\n",
       "      <td>15.0</td>\n",
       "      <td>34.0</td>\n",
       "      <td>0.99655</td>\n",
       "      <td>3.49</td>\n",
       "      <td>0.68</td>\n",
       "      <td>10.5</td>\n",
       "      <td>5</td>\n",
       "    </tr>\n",
       "    <tr>\n",
       "      <th>721</th>\n",
       "      <td>8.9</td>\n",
       "      <td>0.48</td>\n",
       "      <td>0.24</td>\n",
       "      <td>2.85</td>\n",
       "      <td>0.094</td>\n",
       "      <td>35.0</td>\n",
       "      <td>106.0</td>\n",
       "      <td>0.99820</td>\n",
       "      <td>3.10</td>\n",
       "      <td>0.53</td>\n",
       "      <td>9.2</td>\n",
       "      <td>5</td>\n",
       "    </tr>\n",
       "    <tr>\n",
       "      <th>289</th>\n",
       "      <td>11.6</td>\n",
       "      <td>0.42</td>\n",
       "      <td>0.53</td>\n",
       "      <td>3.30</td>\n",
       "      <td>0.105</td>\n",
       "      <td>33.0</td>\n",
       "      <td>98.0</td>\n",
       "      <td>1.00100</td>\n",
       "      <td>3.20</td>\n",
       "      <td>0.95</td>\n",
       "      <td>9.2</td>\n",
       "      <td>5</td>\n",
       "    </tr>\n",
       "  </tbody>\n",
       "</table>\n",
       "</div>"
      ],
      "text/plain": [
       "      fixed acidity  volatile acidity  citric acid  residual sugar  chlorides  \\\n",
       "435            12.3              0.39         0.63            2.30      0.091   \n",
       "125             9.0              0.62         0.04            1.90      0.146   \n",
       "1245            7.4              0.55         0.19            1.80      0.082   \n",
       "721             8.9              0.48         0.24            2.85      0.094   \n",
       "289            11.6              0.42         0.53            3.30      0.105   \n",
       "\n",
       "      free sulfur dioxide  total sulfur dioxide  density    pH  sulphates  \\\n",
       "435                   6.0                  18.0  1.00040  3.16       0.49   \n",
       "125                  27.0                  90.0  0.99840  3.16       0.70   \n",
       "1245                 15.0                  34.0  0.99655  3.49       0.68   \n",
       "721                  35.0                 106.0  0.99820  3.10       0.53   \n",
       "289                  33.0                  98.0  1.00100  3.20       0.95   \n",
       "\n",
       "      alcohol  quality  \n",
       "435       9.5        5  \n",
       "125       9.4        5  \n",
       "1245     10.5        5  \n",
       "721       9.2        5  \n",
       "289       9.2        5  "
      ]
     },
     "execution_count": 307,
     "metadata": {},
     "output_type": "execute_result"
    }
   ],
   "source": [
    "df_test = pd.concat([X_test, y_test], axis=1)\n",
    "df_test.head()"
   ]
  },
  {
   "cell_type": "code",
   "execution_count": 308,
   "id": "7c077098",
   "metadata": {},
   "outputs": [
    {
     "data": {
      "text/plain": [
       "(480, 12)"
      ]
     },
     "execution_count": 308,
     "metadata": {},
     "output_type": "execute_result"
    }
   ],
   "source": [
    "df_test.shape"
   ]
  },
  {
   "cell_type": "code",
   "execution_count": 309,
   "id": "5b48c53a",
   "metadata": {},
   "outputs": [
    {
     "data": {
      "text/plain": [
       "(1409, 12)"
      ]
     },
     "execution_count": 309,
     "metadata": {},
     "output_type": "execute_result"
    }
   ],
   "source": [
    "df_train_2 = pd.concat([X_combined, y_combined], axis=1)\n",
    "df_train_2.shape"
   ]
  },
  {
   "cell_type": "code",
   "execution_count": 310,
   "id": "9090ea01",
   "metadata": {},
   "outputs": [],
   "source": [
    "for column in list_columns:\n",
    "    drop_outliers_test(df_train_2, df_test, column=column)"
   ]
  },
  {
   "cell_type": "code",
   "execution_count": 311,
   "id": "1793a9a3",
   "metadata": {},
   "outputs": [
    {
     "data": {
      "text/plain": [
       "(440, 12)"
      ]
     },
     "execution_count": 311,
     "metadata": {},
     "output_type": "execute_result"
    }
   ],
   "source": [
    "# Sprawdzenie po usunięciu\n",
    "\n",
    "df_test.shape"
   ]
  },
  {
   "cell_type": "code",
   "execution_count": 312,
   "id": "a08d5b95",
   "metadata": {},
   "outputs": [
    {
     "data": {
      "text/plain": [
       "5    188\n",
       "6    179\n",
       "7     53\n",
       "4     14\n",
       "8      4\n",
       "3      2\n",
       "Name: quality, dtype: int64"
      ]
     },
     "execution_count": 312,
     "metadata": {},
     "output_type": "execute_result"
    }
   ],
   "source": [
    "X_test_outlier = df_test.drop(\"quality\", axis=1)\n",
    "y_test_outlier = df_test.quality\n",
    "\n",
    "y_test_outlier.value_counts()"
   ]
  },
  {
   "cell_type": "markdown",
   "id": "a9c7e6d1",
   "metadata": {},
   "source": [
    "### Normalizacja"
   ]
  },
  {
   "cell_type": "code",
   "execution_count": 313,
   "id": "a4e0ddcc",
   "metadata": {},
   "outputs": [
    {
     "name": "stdout",
     "output_type": "stream",
     "text": [
      "[ 8.34847356  0.55898145  0.26343443  2.49268836  0.07992711 13.82741231\n",
      " 38.45532607  0.99667019  3.3282871   0.63918889 10.58863055] [1.66499033e+00 2.07801356e-01 2.01677262e-01 8.38321621e-01\n",
      " 1.67919418e-02 9.42030721e+00 2.74459346e+01 1.71616003e-03\n",
      " 1.52593026e-01 1.29336175e-01 1.12013192e+00]\n"
     ]
    }
   ],
   "source": [
    "# Normalizacja zestawu treningowego do rozkładu normalnego, wyznaczenie wartości średnich i odchyleń standardowych\n",
    "# https://stats.stackexchange.com/questions/174823/how-to-apply-standardization-normalization-to-train-and-testset-if-prediction-i\n",
    "\n",
    "scaler = StandardScaler()\n",
    "scaler.fit(X_train_outlier)\n",
    "\n",
    "X_train_std = scaler.transform(X_train_outlier)\n",
    "\n",
    "print(scaler.mean_, scaler.scale_)"
   ]
  },
  {
   "cell_type": "code",
   "execution_count": 314,
   "id": "623f74bc",
   "metadata": {},
   "outputs": [],
   "source": [
    "# Normalizacja zestawu testowego do rozkładu normalnego z wykorzystaniem wartości średnich i odch. std z zestawu treningowego\n",
    "\n",
    "X_test_std = scaler.transform(X_test_outlier)"
   ]
  },
  {
   "cell_type": "markdown",
   "id": "2cf1bd43",
   "metadata": {},
   "source": [
    "### KNN"
   ]
  },
  {
   "cell_type": "code",
   "execution_count": 315,
   "id": "a6ade99a",
   "metadata": {},
   "outputs": [
    {
     "data": {
      "text/plain": [
       "array([0.60956175, 0.62549801, 0.64541833, 0.624     , 0.644     ])"
      ]
     },
     "execution_count": 315,
     "metadata": {},
     "output_type": "execute_result"
    }
   ],
   "source": [
    "# Model KNN\n",
    "\n",
    "model_KNN = KNeighborsClassifier()\n",
    "model_KNN.fit(X_train_std, y_train_outlier)\n",
    "\n",
    "cross_val_score(model_KNN, X_train_std, y_train_outlier, cv=5)"
   ]
  },
  {
   "cell_type": "code",
   "execution_count": 316,
   "id": "0271241e",
   "metadata": {},
   "outputs": [
    {
     "data": {
      "text/plain": [
       "0.48409090909090907"
      ]
     },
     "execution_count": 316,
     "metadata": {},
     "output_type": "execute_result"
    }
   ],
   "source": [
    "model_KNN.score(X_test_std, y_test_outlier)"
   ]
  },
  {
   "cell_type": "code",
   "execution_count": 317,
   "id": "9e06ee2b",
   "metadata": {},
   "outputs": [
    {
     "name": "stdout",
     "output_type": "stream",
     "text": [
      "Confusion matrix - tablica pomyłek\n",
      " [[  0   2   0   0   0   0]\n",
      " [  2   3   1   8   0   0]\n",
      " [  5  28 103  44   8   0]\n",
      " [  1  20  45  86  17  10]\n",
      " [  0   2   3  20  20   8]\n",
      " [  0   0   0   2   1   1]]\n",
      "Raport klasyfikacyjny: \n",
      "               precision    recall  f1-score   support\n",
      "\n",
      "           3       0.00      0.00      0.00         2\n",
      "           4       0.05      0.21      0.09        14\n",
      "           5       0.68      0.55      0.61       188\n",
      "           6       0.54      0.48      0.51       179\n",
      "           7       0.43      0.38      0.40        53\n",
      "           8       0.05      0.25      0.09         4\n",
      "\n",
      "    accuracy                           0.48       440\n",
      "   macro avg       0.29      0.31      0.28       440\n",
      "weighted avg       0.56      0.48      0.52       440\n",
      "\n"
     ]
    }
   ],
   "source": [
    "y_pred_KNN = model_KNN.predict(X_test_std)\n",
    "\n",
    "print(\"Confusion matrix - tablica pomyłek\\n\", confusion_matrix(y_test_outlier, y_pred_KNN))\n",
    "\n",
    "print(\"Raport klasyfikacyjny: \\n\", classification_report(y_test_outlier, y_pred_KNN))"
   ]
  },
  {
   "cell_type": "code",
   "execution_count": 318,
   "id": "29b30abd",
   "metadata": {},
   "outputs": [
    {
     "data": {
      "text/plain": [
       "GridSearchCV(cv=5, estimator=KNeighborsClassifier(), n_jobs=-1,\n",
       "             param_grid={'algorithm': ['auto', 'ball_tree', 'kd_tree', 'brute'],\n",
       "                         'metric': ['minkowski'],\n",
       "                         'n_neighbors': [2, 3, 4, 5, 6, 7, 8, 9, 10, 11, 12, 13,\n",
       "                                         14, 15, 16, 17, 18, 19, 20, 21, 22, 23,\n",
       "                                         24, 25, 26, 27, 28, 29, 30],\n",
       "                         'p': [1, 2, 3, 4, 10, 20], 'weights': ['uniform']},\n",
       "             scoring='f1_micro')"
      ]
     },
     "execution_count": 318,
     "metadata": {},
     "output_type": "execute_result"
    }
   ],
   "source": [
    "# Dobór optymalnych parametrów dla modelu (ten etap jest powtarzany kilka razy żeby dobrać najlepsze zakresy)\n",
    "\n",
    "param_grid_KNN = {\n",
    "            \"n_neighbors\": list(range(2,31)),\n",
    "            \"weights\": [\"uniform\"],\n",
    "            \"metric\": [\"minkowski\"],\n",
    "            \"p\": [1, 2, 3, 4, 10, 20],\n",
    "            \"algorithm\": ['auto', 'ball_tree', 'kd_tree', 'brute'],\n",
    "#             \"leaf_size\": [1, 2, 3, 4, 5, 10, 20]\n",
    "             }\n",
    "\n",
    "grid_KNN = GridSearchCV(model_KNN, param_grid=param_grid_KNN, cv=5, scoring=\"f1_micro\", verbose=0, n_jobs=-1)\n",
    "grid_KNN.fit(X_train_std, y_train_outlier)"
   ]
  },
  {
   "cell_type": "code",
   "execution_count": 319,
   "id": "ba10a49e",
   "metadata": {},
   "outputs": [
    {
     "name": "stdout",
     "output_type": "stream",
     "text": [
      "Najlepsze parametry:  {'algorithm': 'auto', 'metric': 'minkowski', 'n_neighbors': 2, 'p': 2, 'weights': 'uniform'}\n",
      "Najwyższy score:  0.66798406374502\n"
     ]
    }
   ],
   "source": [
    "print(\"Najlepsze parametry: \", grid_KNN.best_params_)\n",
    "print(\"Najwyższy score: \", grid_KNN.best_score_)"
   ]
  },
  {
   "cell_type": "code",
   "execution_count": 320,
   "id": "8ca0d6c4",
   "metadata": {},
   "outputs": [
    {
     "data": {
      "text/plain": [
       "array([0.64541833, 0.6812749 , 0.70119522, 0.648     , 0.664     ])"
      ]
     },
     "execution_count": 320,
     "metadata": {},
     "output_type": "execute_result"
    }
   ],
   "source": [
    "# Zastosowanie najlepszych parametrów dla modelu\n",
    "\n",
    "model_KNN_best = KNeighborsClassifier(n_neighbors=2, p=1)\n",
    "\n",
    "model_KNN_best.fit(X_train_std, y_train_outlier)\n",
    "\n",
    "cross_val_score(model_KNN_best, X_train_std, y_train_outlier, cv=5)"
   ]
  },
  {
   "cell_type": "code",
   "execution_count": 321,
   "id": "55ecbf0a",
   "metadata": {},
   "outputs": [
    {
     "data": {
      "text/plain": [
       "0.5159090909090909"
      ]
     },
     "execution_count": 321,
     "metadata": {},
     "output_type": "execute_result"
    }
   ],
   "source": [
    "model_KNN_best.score(X_test_std, y_test_outlier)"
   ]
  },
  {
   "cell_type": "code",
   "execution_count": 322,
   "id": "d46ae0af",
   "metadata": {},
   "outputs": [
    {
     "name": "stdout",
     "output_type": "stream",
     "text": [
      "Confusion matrix - tablica pomyłek\n",
      " [[  0   2   0   0   0   0]\n",
      " [  2   5   3   4   0   0]\n",
      " [  4  29 124  28   3   0]\n",
      " [  1  21  58  74  17   8]\n",
      " [  0   2   5  17  24   5]\n",
      " [  0   0   0   1   3   0]]\n",
      "Raport klasyfikacyjny: \n",
      "               precision    recall  f1-score   support\n",
      "\n",
      "           3       0.00      0.00      0.00         2\n",
      "           4       0.08      0.36      0.14        14\n",
      "           5       0.65      0.66      0.66       188\n",
      "           6       0.60      0.41      0.49       179\n",
      "           7       0.51      0.45      0.48        53\n",
      "           8       0.00      0.00      0.00         4\n",
      "\n",
      "    accuracy                           0.52       440\n",
      "   macro avg       0.31      0.31      0.29       440\n",
      "weighted avg       0.59      0.52      0.54       440\n",
      "\n"
     ]
    }
   ],
   "source": [
    "y_pred_KNN2 = model_KNN_best.predict(X_test_std)\n",
    "\n",
    "print(\"Confusion matrix - tablica pomyłek\\n\", confusion_matrix(y_test_outlier, y_pred_KNN2))\n",
    "\n",
    "print(\"Raport klasyfikacyjny: \\n\", classification_report(y_test_outlier, y_pred_KNN2, zero_division=1))"
   ]
  },
  {
   "cell_type": "code",
   "execution_count": 323,
   "id": "d1517835",
   "metadata": {},
   "outputs": [],
   "source": [
    "# Zależność accuracy od liczby sąsiadów\n",
    "\n",
    "train_acc = []\n",
    "test_acc = []\n",
    "\n",
    "for k in range(1, 30):\n",
    "    \n",
    "    knn = KNeighborsClassifier(n_neighbors=k, p=2)\n",
    "    knn.fit(X_train_std, y_train_outlier)\n",
    "    \n",
    "    preds = knn.predict(X_train_std)\n",
    "    score = knn.score(X_train_std, y_train_outlier)\n",
    "    train_acc.append(score)\n",
    "    \n",
    "    preds2 = knn.predict(X_test_std)\n",
    "    score2 = knn.score(X_test_std, y_test_outlier)\n",
    "    test_acc.append(score2)"
   ]
  },
  {
   "cell_type": "code",
   "execution_count": 324,
   "id": "1d6687f4",
   "metadata": {},
   "outputs": [
    {
     "data": {
      "text/plain": [
       "<matplotlib.legend.Legend at 0x156fd465a90>"
      ]
     },
     "execution_count": 324,
     "metadata": {},
     "output_type": "execute_result"
    },
    {
     "data": {
      "image/png": "[encoded data removed]",
      "text/plain": [
       "<Figure size 576x432 with 1 Axes>"
      ]
     },
     "metadata": {},
     "output_type": "display_data"
    }
   ],
   "source": [
    "plt.figure(figsize=(8, 6))\n",
    "plt.title('K vs Accuracy')\n",
    "plt.xlabel('K')\n",
    "plt.ylabel('Accuracy')\n",
    "plt.plot(range(1,30), train_acc, label='train acc')\n",
    "plt.plot(range(1,30), test_acc, label='test acc')\n",
    "plt.legend()"
   ]
  },
  {
   "cell_type": "markdown",
   "id": "715b2efd",
   "metadata": {},
   "source": [
    "### XgBoost"
   ]
  },
  {
   "cell_type": "code",
   "execution_count": 325,
   "id": "20868341",
   "metadata": {},
   "outputs": [
    {
     "data": {
      "text/plain": [
       "array([0.67330677, 0.73306773, 0.70119522, 0.716     , 0.724     ])"
      ]
     },
     "execution_count": 325,
     "metadata": {},
     "output_type": "execute_result"
    }
   ],
   "source": [
    "%%capture --no-display\n",
    "# XgBoost\n",
    "\n",
    "model_xgb = xgb.XGBClassifier(random_state=12)\n",
    "model_xgb.fit(X_train_std, y_train_outlier)\n",
    "\n",
    "cross_val_score(model_xgb, X_train_std, y_train_outlier, cv=5)"
   ]
  },
  {
   "cell_type": "code",
   "execution_count": 326,
   "id": "d3ba61de",
   "metadata": {},
   "outputs": [
    {
     "data": {
      "text/plain": [
       "0.6545454545454545"
      ]
     },
     "execution_count": 326,
     "metadata": {},
     "output_type": "execute_result"
    }
   ],
   "source": [
    "model_xgb.score(X_test_std, y_test_outlier)"
   ]
  },
  {
   "cell_type": "code",
   "execution_count": 327,
   "id": "960f699a",
   "metadata": {},
   "outputs": [
    {
     "name": "stdout",
     "output_type": "stream",
     "text": [
      "Confusion matrix - tablica pomyłek\n",
      " [[  0   2   0   0   0   0]\n",
      " [  1   0   6   7   0   0]\n",
      " [  1  11 139  34   3   0]\n",
      " [  0   1  37 120  15   6]\n",
      " [  0   0   3  17  28   5]\n",
      " [  0   0   0   0   3   1]]\n",
      "Raport klasyfikacyjny: \n",
      "               precision    recall  f1-score   support\n",
      "\n",
      "           3       0.00      0.00      0.00         2\n",
      "           4       0.00      0.00      0.00        14\n",
      "           5       0.75      0.74      0.75       188\n",
      "           6       0.67      0.67      0.67       179\n",
      "           7       0.57      0.53      0.55        53\n",
      "           8       0.08      0.25      0.12         4\n",
      "\n",
      "    accuracy                           0.65       440\n",
      "   macro avg       0.35      0.36      0.35       440\n",
      "weighted avg       0.66      0.65      0.66       440\n",
      "\n"
     ]
    }
   ],
   "source": [
    "y_pred_xgb = model_xgb.predict(X_test_std)\n",
    "\n",
    "print(\"Confusion matrix - tablica pomyłek\\n\", confusion_matrix(y_test_outlier, y_pred_xgb))\n",
    "\n",
    "print(\"Raport klasyfikacyjny: \\n\", classification_report(y_test_outlier, y_pred_xgb))"
   ]
  },
  {
   "cell_type": "code",
   "execution_count": 328,
   "id": "ce11944b",
   "metadata": {},
   "outputs": [
    {
     "data": {
      "text/plain": [
       "GridSearchCV(cv=5,\n",
       "             estimator=XGBClassifier(base_score=0.5, booster='gbtree',\n",
       "                                     colsample_bylevel=1, colsample_bynode=1,\n",
       "                                     colsample_bytree=1,\n",
       "                                     enable_categorical=False, gamma=0,\n",
       "                                     gpu_id=-1, importance_type=None,\n",
       "                                     interaction_constraints='',\n",
       "                                     learning_rate=0.300000012,\n",
       "                                     max_delta_step=0, max_depth=6,\n",
       "                                     min_child_weight=1, missing=nan,\n",
       "                                     monotone_constraints='()',\n",
       "                                     n_estimators=10...\n",
       "                                     reg_alpha=0, reg_lambda=1,\n",
       "                                     scale_pos_weight=None, subsample=1,\n",
       "                                     tree_method='exact', validate_parameters=1,\n",
       "                                     verbosity=None),\n",
       "             n_jobs=-1,\n",
       "             param_grid={'booster': ['gbtree'],\n",
       "                         'learning_rate': [0.005, 0.01, 0.05, 0.1, 0.2],\n",
       "                         'max_depth': [2, 5, 10, 20, 30],\n",
       "                         'n_estimators': [100, 150, 200, 300, 400],\n",
       "                         'num_class': [6], 'objective': ['multi:softmax'],\n",
       "                         'reg_alpha': [1, 5, 10]},\n",
       "             scoring='f1_micro')"
      ]
     },
     "execution_count": 328,
     "metadata": {},
     "output_type": "execute_result"
    }
   ],
   "source": [
    "%%capture --no-display\n",
    "# Dobór optymalnych parametrów dla modelu (ten etap jest powtarzany kilka razy żeby dobrać najlepsze zakresy)\n",
    "\n",
    "param_grid_xgb = {\n",
    "            \"n_estimators\": [100, 150, 200, 300, 400],\n",
    "            \"max_depth\": [2, 5, 10, 20, 30],\n",
    "            \"learning_rate\": [0.005, 0.01, 0.05, 0.1, 0.2],\n",
    "            \"booster\": [\"gbtree\"],\n",
    "#             \"min_child_weight\": [1, 2, 4, 6, 10, 50],\n",
    "#             \"subsample\": [0.5, 0.8],\n",
    "#             \"colsample_bylevel\": [0.5, 0.8],\n",
    "            \"reg_alpha\": [1, 5, 10],\n",
    "            \"objective\": [\"multi:softmax\"],\n",
    "            \"num_class\": [6]\n",
    "    \n",
    "}\n",
    "\n",
    "grid_xgb = GridSearchCV(model_xgb, param_grid=param_grid_xgb, cv=5, scoring=\"f1_micro\", verbose=0, n_jobs=-1)\n",
    "grid_xgb.fit(X_train_std, y_train_outlier)"
   ]
  },
  {
   "cell_type": "code",
   "execution_count": 329,
   "id": "e4ba523c",
   "metadata": {},
   "outputs": [
    {
     "name": "stdout",
     "output_type": "stream",
     "text": [
      "Najlepsze parametry:  {'booster': 'gbtree', 'learning_rate': 0.1, 'max_depth': 10, 'n_estimators': 150, 'num_class': 6, 'objective': 'multi:softmax', 'reg_alpha': 1}\n",
      "Najwyższy score:  0.7222916334661355\n"
     ]
    }
   ],
   "source": [
    "print(\"Najlepsze parametry: \", grid_xgb.best_params_)\n",
    "print(\"Najwyższy score: \", grid_xgb.best_score_)"
   ]
  },
  {
   "cell_type": "code",
   "execution_count": 330,
   "id": "e618a13b",
   "metadata": {},
   "outputs": [
    {
     "data": {
      "text/plain": [
       "array([0.67330677, 0.73306773, 0.70119522, 0.716     , 0.724     ])"
      ]
     },
     "execution_count": 330,
     "metadata": {},
     "output_type": "execute_result"
    }
   ],
   "source": [
    "%%capture --no-display\n",
    "# Zastosowanie najlepszych parametrów dla modelu\n",
    "\n",
    "model_xgb_best = xgb.XGBClassifier(random_state=12, **grid_xgb.best_params_)\n",
    "\n",
    "model_xgb_best.fit(X_train_std, y_train_outlier)\n",
    "\n",
    "cross_val_score(model_xgb, X_train_std, y_train_outlier, cv=5)"
   ]
  },
  {
   "cell_type": "code",
   "execution_count": 331,
   "id": "ba9f7f2a",
   "metadata": {},
   "outputs": [
    {
     "data": {
      "text/plain": [
       "0.6431818181818182"
      ]
     },
     "execution_count": 331,
     "metadata": {},
     "output_type": "execute_result"
    }
   ],
   "source": [
    "model_xgb_best.score(X_test_std, y_test_outlier)"
   ]
  },
  {
   "cell_type": "code",
   "execution_count": 332,
   "id": "f5b4af6a",
   "metadata": {},
   "outputs": [
    {
     "name": "stdout",
     "output_type": "stream",
     "text": [
      "Confusion matrix - tablica pomyłek\n",
      " [[  0   1   0   0   1   0]\n",
      " [  1   0   6   7   0   0]\n",
      " [  1   9 145  30   3   0]\n",
      " [  0   1  40 110  20   8]\n",
      " [  0   0   3  17  27   6]\n",
      " [  0   0   0   1   2   1]]\n",
      "Raport klasyfikacyjny: \n",
      "               precision    recall  f1-score   support\n",
      "\n",
      "           3       0.00      0.00      0.00         2\n",
      "           4       0.00      0.00      0.00        14\n",
      "           5       0.75      0.77      0.76       188\n",
      "           6       0.67      0.61      0.64       179\n",
      "           7       0.51      0.51      0.51        53\n",
      "           8       0.07      0.25      0.11         4\n",
      "\n",
      "    accuracy                           0.64       440\n",
      "   macro avg       0.33      0.36      0.34       440\n",
      "weighted avg       0.65      0.64      0.65       440\n",
      "\n"
     ]
    }
   ],
   "source": [
    "y_pred_xgb = model_xgb_best.predict(X_test_std)\n",
    "\n",
    "print(\"Confusion matrix - tablica pomyłek\\n\", confusion_matrix(y_test_outlier, y_pred_xgb))\n",
    "\n",
    "print(\"Raport klasyfikacyjny: \\n\", classification_report(y_test_outlier, y_pred_xgb, zero_division=1))"
   ]
  },
  {
   "cell_type": "code",
   "execution_count": null,
   "id": "de0103b9",
   "metadata": {},
   "outputs": [],
   "source": []
  }
 ],
 "metadata": {
  "kernelspec": {
   "display_name": "Python 3 (ipykernel)",
   "language": "python",
   "name": "python3"
  },
  "language_info": {
   "codemirror_mode": {
    "name": "ipython",
    "version": 3
   },
   "file_extension": ".py",
   "mimetype": "text/x-python",
   "name": "python",
   "nbconvert_exporter": "python",
   "pygments_lexer": "ipython3",
   "version": "3.9.7"
  }
 },
 "nbformat": 4,
 "nbformat_minor": 5
}
